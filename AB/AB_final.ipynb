{
 "cells": [
  {
   "cell_type": "markdown",
   "id": "dfcb34ad",
   "metadata": {},
   "source": [
    "# A/B-тестирование"
   ]
  },
  {
   "cell_type": "markdown",
   "id": "59534609",
   "metadata": {},
   "source": [
    "# Описание проекта\n",
    "\n",
    "Оценка результатов A/B-теста. Оценка корректрности проведения теста, его результатов.  проверка правильности набора данных, пересечение событий из конкурирующего теста, рекламных компаний. Выявление проблем.\n",
    "\n",
    "\n",
    "### Техническое задание\n",
    "\n",
    "- Название теста: `recommender_system_test`;\n",
    "- группы: А — контрольная, B — новая платёжная воронка;\n",
    "- дата запуска: 2020-12-07;\n",
    "- дата остановки набора новых пользователей: 2020-12-21;\n",
    "- дата остановки: 2021-01-04;\n",
    "- аудитория: 15% новых пользователей из региона EU;\n",
    "- назначение теста: тестирование изменений, связанных с внедрением улучшенной рекомендательной системы;\n",
    "- ожидаемое количество участников теста: 6000.\n",
    "- ожидаемый эффект: за 14 дней с момента регистрации пользователи покажут улучшение каждой метрики не менее, чем на 10%:\n",
    "    - конверсии в просмотр карточек товаров — событие `product_page`,\n",
    "    - просмотры корзины — `product_cart`,\n",
    "    - покупки — `purchase`."
   ]
  },
  {
   "cell_type": "markdown",
   "id": "7b8f2159",
   "metadata": {},
   "source": [
    "# Загрузка и обзор данных"
   ]
  },
  {
   "cell_type": "markdown",
   "id": "9278ead6",
   "metadata": {},
   "source": [
    "### Загрузка библиотек"
   ]
  },
  {
   "cell_type": "code",
   "execution_count": 1,
   "id": "9d8d70bd",
   "metadata": {},
   "outputs": [],
   "source": [
    "import pandas as pd\n",
    "import numpy as np\n",
    "import warnings\n",
    "import seaborn as sns\n",
    "import matplotlib.pyplot as plt\n",
    "from datetime import timedelta\n",
    "from scipy import stats as st\n",
    "import math as mth\n",
    "from plotly import graph_objects as go\n",
    "\n",
    "warnings.filterwarnings('ignore')\n",
    "pd.options.display.max_colwidth = 1 \n",
    "sns.set_theme(style=\"white\", font_scale=1.3)"
   ]
  },
  {
   "cell_type": "markdown",
   "id": "eaed5019",
   "metadata": {},
   "source": [
    "### Загрузка и обзор датасетов"
   ]
  },
  {
   "cell_type": "code",
   "execution_count": 2,
   "id": "7c0908c3",
   "metadata": {},
   "outputs": [],
   "source": [
    "try:\n",
    "    final_ab_events = pd.read_csv('/datasets/final_ab_events.csv')\n",
    "    ab_project_marketing_events = pd.read_csv('/datasets/ab_project_marketing_events.csv')\n",
    "    final_ab_new_users = pd.read_csv('/datasets/final_ab_new_users.csv')\n",
    "    final_ab_participants = pd.read_csv('/datasets/final_ab_participants.csv')\n",
    "except:\n",
    "    final_ab_events = pd.read_csv('datasets/final_ab_events.csv')\n",
    "    ab_project_marketing_events = pd.read_csv('datasets/ab_project_marketing_events.csv')\n",
    "    final_ab_new_users = pd.read_csv('datasets/final_ab_new_users.csv')\n",
    "    final_ab_participants = pd.read_csv('datasets/final_ab_participants.csv')"
   ]
  },
  {
   "cell_type": "code",
   "execution_count": 3,
   "id": "6520a871",
   "metadata": {
    "scrolled": false
   },
   "outputs": [
    {
     "name": "stdout",
     "output_type": "stream",
     "text": [
      "final_ab_events\n"
     ]
    },
    {
     "data": {
      "text/html": [
       "<div>\n",
       "<style scoped>\n",
       "    .dataframe tbody tr th:only-of-type {\n",
       "        vertical-align: middle;\n",
       "    }\n",
       "\n",
       "    .dataframe tbody tr th {\n",
       "        vertical-align: top;\n",
       "    }\n",
       "\n",
       "    .dataframe thead th {\n",
       "        text-align: right;\n",
       "    }\n",
       "</style>\n",
       "<table border=\"1\" class=\"dataframe\">\n",
       "  <thead>\n",
       "    <tr style=\"text-align: right;\">\n",
       "      <th></th>\n",
       "      <th>user_id</th>\n",
       "      <th>event_dt</th>\n",
       "      <th>event_name</th>\n",
       "      <th>details</th>\n",
       "    </tr>\n",
       "  </thead>\n",
       "  <tbody>\n",
       "    <tr>\n",
       "      <th>0</th>\n",
       "      <td>E1BDDCE0DAFA2679</td>\n",
       "      <td>2020-12-07 20:22:03</td>\n",
       "      <td>purchase</td>\n",
       "      <td>99.99</td>\n",
       "    </tr>\n",
       "    <tr>\n",
       "      <th>1</th>\n",
       "      <td>7B6452F081F49504</td>\n",
       "      <td>2020-12-07 09:22:53</td>\n",
       "      <td>purchase</td>\n",
       "      <td>9.99</td>\n",
       "    </tr>\n",
       "    <tr>\n",
       "      <th>2</th>\n",
       "      <td>9CD9F34546DF254C</td>\n",
       "      <td>2020-12-07 12:59:29</td>\n",
       "      <td>purchase</td>\n",
       "      <td>4.99</td>\n",
       "    </tr>\n",
       "    <tr>\n",
       "      <th>3</th>\n",
       "      <td>96F27A054B191457</td>\n",
       "      <td>2020-12-07 04:02:40</td>\n",
       "      <td>purchase</td>\n",
       "      <td>4.99</td>\n",
       "    </tr>\n",
       "    <tr>\n",
       "      <th>4</th>\n",
       "      <td>1FD7660FDF94CA1F</td>\n",
       "      <td>2020-12-07 10:15:09</td>\n",
       "      <td>purchase</td>\n",
       "      <td>4.99</td>\n",
       "    </tr>\n",
       "  </tbody>\n",
       "</table>\n",
       "</div>"
      ],
      "text/plain": [
       "            user_id             event_dt event_name  details\n",
       "0  E1BDDCE0DAFA2679  2020-12-07 20:22:03  purchase   99.99  \n",
       "1  7B6452F081F49504  2020-12-07 09:22:53  purchase   9.99   \n",
       "2  9CD9F34546DF254C  2020-12-07 12:59:29  purchase   4.99   \n",
       "3  96F27A054B191457  2020-12-07 04:02:40  purchase   4.99   \n",
       "4  1FD7660FDF94CA1F  2020-12-07 10:15:09  purchase   4.99   "
      ]
     },
     "metadata": {},
     "output_type": "display_data"
    },
    {
     "name": "stdout",
     "output_type": "stream",
     "text": [
      "<class 'pandas.core.frame.DataFrame'>\n",
      "RangeIndex: 440317 entries, 0 to 440316\n",
      "Data columns (total 4 columns):\n",
      " #   Column      Non-Null Count   Dtype  \n",
      "---  ------      --------------   -----  \n",
      " 0   user_id     440317 non-null  object \n",
      " 1   event_dt    440317 non-null  object \n",
      " 2   event_name  440317 non-null  object \n",
      " 3   details     62740 non-null   float64\n",
      "dtypes: float64(1), object(3)\n",
      "memory usage: 13.4+ MB\n",
      "\n",
      "ab_project_marketing_events\n"
     ]
    },
    {
     "data": {
      "text/html": [
       "<div>\n",
       "<style scoped>\n",
       "    .dataframe tbody tr th:only-of-type {\n",
       "        vertical-align: middle;\n",
       "    }\n",
       "\n",
       "    .dataframe tbody tr th {\n",
       "        vertical-align: top;\n",
       "    }\n",
       "\n",
       "    .dataframe thead th {\n",
       "        text-align: right;\n",
       "    }\n",
       "</style>\n",
       "<table border=\"1\" class=\"dataframe\">\n",
       "  <thead>\n",
       "    <tr style=\"text-align: right;\">\n",
       "      <th></th>\n",
       "      <th>name</th>\n",
       "      <th>regions</th>\n",
       "      <th>start_dt</th>\n",
       "      <th>finish_dt</th>\n",
       "    </tr>\n",
       "  </thead>\n",
       "  <tbody>\n",
       "    <tr>\n",
       "      <th>0</th>\n",
       "      <td>Christmas&amp;New Year Promo</td>\n",
       "      <td>EU, N.America</td>\n",
       "      <td>2020-12-25</td>\n",
       "      <td>2021-01-03</td>\n",
       "    </tr>\n",
       "    <tr>\n",
       "      <th>1</th>\n",
       "      <td>St. Valentine's Day Giveaway</td>\n",
       "      <td>EU, CIS, APAC, N.America</td>\n",
       "      <td>2020-02-14</td>\n",
       "      <td>2020-02-16</td>\n",
       "    </tr>\n",
       "    <tr>\n",
       "      <th>2</th>\n",
       "      <td>St. Patric's Day Promo</td>\n",
       "      <td>EU, N.America</td>\n",
       "      <td>2020-03-17</td>\n",
       "      <td>2020-03-19</td>\n",
       "    </tr>\n",
       "    <tr>\n",
       "      <th>3</th>\n",
       "      <td>Easter Promo</td>\n",
       "      <td>EU, CIS, APAC, N.America</td>\n",
       "      <td>2020-04-12</td>\n",
       "      <td>2020-04-19</td>\n",
       "    </tr>\n",
       "    <tr>\n",
       "      <th>4</th>\n",
       "      <td>4th of July Promo</td>\n",
       "      <td>N.America</td>\n",
       "      <td>2020-07-04</td>\n",
       "      <td>2020-07-11</td>\n",
       "    </tr>\n",
       "  </tbody>\n",
       "</table>\n",
       "</div>"
      ],
      "text/plain": [
       "                           name                   regions    start_dt  \\\n",
       "0  Christmas&New Year Promo      EU, N.America             2020-12-25   \n",
       "1  St. Valentine's Day Giveaway  EU, CIS, APAC, N.America  2020-02-14   \n",
       "2  St. Patric's Day Promo        EU, N.America             2020-03-17   \n",
       "3  Easter Promo                  EU, CIS, APAC, N.America  2020-04-12   \n",
       "4  4th of July Promo             N.America                 2020-07-04   \n",
       "\n",
       "    finish_dt  \n",
       "0  2021-01-03  \n",
       "1  2020-02-16  \n",
       "2  2020-03-19  \n",
       "3  2020-04-19  \n",
       "4  2020-07-11  "
      ]
     },
     "metadata": {},
     "output_type": "display_data"
    },
    {
     "name": "stdout",
     "output_type": "stream",
     "text": [
      "<class 'pandas.core.frame.DataFrame'>\n",
      "RangeIndex: 14 entries, 0 to 13\n",
      "Data columns (total 4 columns):\n",
      " #   Column     Non-Null Count  Dtype \n",
      "---  ------     --------------  ----- \n",
      " 0   name       14 non-null     object\n",
      " 1   regions    14 non-null     object\n",
      " 2   start_dt   14 non-null     object\n",
      " 3   finish_dt  14 non-null     object\n",
      "dtypes: object(4)\n",
      "memory usage: 576.0+ bytes\n",
      "\n",
      "final_ab_new_users\n"
     ]
    },
    {
     "data": {
      "text/html": [
       "<div>\n",
       "<style scoped>\n",
       "    .dataframe tbody tr th:only-of-type {\n",
       "        vertical-align: middle;\n",
       "    }\n",
       "\n",
       "    .dataframe tbody tr th {\n",
       "        vertical-align: top;\n",
       "    }\n",
       "\n",
       "    .dataframe thead th {\n",
       "        text-align: right;\n",
       "    }\n",
       "</style>\n",
       "<table border=\"1\" class=\"dataframe\">\n",
       "  <thead>\n",
       "    <tr style=\"text-align: right;\">\n",
       "      <th></th>\n",
       "      <th>user_id</th>\n",
       "      <th>first_date</th>\n",
       "      <th>region</th>\n",
       "      <th>device</th>\n",
       "    </tr>\n",
       "  </thead>\n",
       "  <tbody>\n",
       "    <tr>\n",
       "      <th>0</th>\n",
       "      <td>D72A72121175D8BE</td>\n",
       "      <td>2020-12-07</td>\n",
       "      <td>EU</td>\n",
       "      <td>PC</td>\n",
       "    </tr>\n",
       "    <tr>\n",
       "      <th>1</th>\n",
       "      <td>F1C668619DFE6E65</td>\n",
       "      <td>2020-12-07</td>\n",
       "      <td>N.America</td>\n",
       "      <td>Android</td>\n",
       "    </tr>\n",
       "    <tr>\n",
       "      <th>2</th>\n",
       "      <td>2E1BF1D4C37EA01F</td>\n",
       "      <td>2020-12-07</td>\n",
       "      <td>EU</td>\n",
       "      <td>PC</td>\n",
       "    </tr>\n",
       "    <tr>\n",
       "      <th>3</th>\n",
       "      <td>50734A22C0C63768</td>\n",
       "      <td>2020-12-07</td>\n",
       "      <td>EU</td>\n",
       "      <td>iPhone</td>\n",
       "    </tr>\n",
       "    <tr>\n",
       "      <th>4</th>\n",
       "      <td>E1BDDCE0DAFA2679</td>\n",
       "      <td>2020-12-07</td>\n",
       "      <td>N.America</td>\n",
       "      <td>iPhone</td>\n",
       "    </tr>\n",
       "  </tbody>\n",
       "</table>\n",
       "</div>"
      ],
      "text/plain": [
       "            user_id  first_date     region   device\n",
       "0  D72A72121175D8BE  2020-12-07  EU         PC     \n",
       "1  F1C668619DFE6E65  2020-12-07  N.America  Android\n",
       "2  2E1BF1D4C37EA01F  2020-12-07  EU         PC     \n",
       "3  50734A22C0C63768  2020-12-07  EU         iPhone \n",
       "4  E1BDDCE0DAFA2679  2020-12-07  N.America  iPhone "
      ]
     },
     "metadata": {},
     "output_type": "display_data"
    },
    {
     "name": "stdout",
     "output_type": "stream",
     "text": [
      "<class 'pandas.core.frame.DataFrame'>\n",
      "RangeIndex: 61733 entries, 0 to 61732\n",
      "Data columns (total 4 columns):\n",
      " #   Column      Non-Null Count  Dtype \n",
      "---  ------      --------------  ----- \n",
      " 0   user_id     61733 non-null  object\n",
      " 1   first_date  61733 non-null  object\n",
      " 2   region      61733 non-null  object\n",
      " 3   device      61733 non-null  object\n",
      "dtypes: object(4)\n",
      "memory usage: 1.9+ MB\n",
      "\n",
      "final_ab_participants\n"
     ]
    },
    {
     "data": {
      "text/html": [
       "<div>\n",
       "<style scoped>\n",
       "    .dataframe tbody tr th:only-of-type {\n",
       "        vertical-align: middle;\n",
       "    }\n",
       "\n",
       "    .dataframe tbody tr th {\n",
       "        vertical-align: top;\n",
       "    }\n",
       "\n",
       "    .dataframe thead th {\n",
       "        text-align: right;\n",
       "    }\n",
       "</style>\n",
       "<table border=\"1\" class=\"dataframe\">\n",
       "  <thead>\n",
       "    <tr style=\"text-align: right;\">\n",
       "      <th></th>\n",
       "      <th>user_id</th>\n",
       "      <th>group</th>\n",
       "      <th>ab_test</th>\n",
       "    </tr>\n",
       "  </thead>\n",
       "  <tbody>\n",
       "    <tr>\n",
       "      <th>0</th>\n",
       "      <td>D1ABA3E2887B6A73</td>\n",
       "      <td>A</td>\n",
       "      <td>recommender_system_test</td>\n",
       "    </tr>\n",
       "    <tr>\n",
       "      <th>1</th>\n",
       "      <td>A7A3664BD6242119</td>\n",
       "      <td>A</td>\n",
       "      <td>recommender_system_test</td>\n",
       "    </tr>\n",
       "    <tr>\n",
       "      <th>2</th>\n",
       "      <td>DABC14FDDFADD29E</td>\n",
       "      <td>A</td>\n",
       "      <td>recommender_system_test</td>\n",
       "    </tr>\n",
       "    <tr>\n",
       "      <th>3</th>\n",
       "      <td>04988C5DF189632E</td>\n",
       "      <td>A</td>\n",
       "      <td>recommender_system_test</td>\n",
       "    </tr>\n",
       "    <tr>\n",
       "      <th>4</th>\n",
       "      <td>482F14783456D21B</td>\n",
       "      <td>B</td>\n",
       "      <td>recommender_system_test</td>\n",
       "    </tr>\n",
       "  </tbody>\n",
       "</table>\n",
       "</div>"
      ],
      "text/plain": [
       "            user_id group                  ab_test\n",
       "0  D1ABA3E2887B6A73  A     recommender_system_test\n",
       "1  A7A3664BD6242119  A     recommender_system_test\n",
       "2  DABC14FDDFADD29E  A     recommender_system_test\n",
       "3  04988C5DF189632E  A     recommender_system_test\n",
       "4  482F14783456D21B  B     recommender_system_test"
      ]
     },
     "metadata": {},
     "output_type": "display_data"
    },
    {
     "name": "stdout",
     "output_type": "stream",
     "text": [
      "<class 'pandas.core.frame.DataFrame'>\n",
      "RangeIndex: 18268 entries, 0 to 18267\n",
      "Data columns (total 3 columns):\n",
      " #   Column   Non-Null Count  Dtype \n",
      "---  ------   --------------  ----- \n",
      " 0   user_id  18268 non-null  object\n",
      " 1   group    18268 non-null  object\n",
      " 2   ab_test  18268 non-null  object\n",
      "dtypes: object(3)\n",
      "memory usage: 428.3+ KB\n"
     ]
    }
   ],
   "source": [
    "print('final_ab_events')\n",
    "display(final_ab_events.head())\n",
    "final_ab_events.info()\n",
    "print('')\n",
    "\n",
    "print('ab_project_marketing_events')\n",
    "display(ab_project_marketing_events.head())\n",
    "ab_project_marketing_events.info()\n",
    "print('')\n",
    "\n",
    "print('final_ab_new_users')\n",
    "display(final_ab_new_users.head())\n",
    "final_ab_new_users.info()\n",
    "print('')\n",
    "\n",
    "print('final_ab_participants')\n",
    "display(final_ab_participants.head())\n",
    "final_ab_participants.info()"
   ]
  },
  {
   "cell_type": "markdown",
   "id": "73cf6ad8",
   "metadata": {},
   "source": [
    "Есть пропуски и неверные типы данных, исправим"
   ]
  },
  {
   "cell_type": "markdown",
   "id": "b4272c7d",
   "metadata": {},
   "source": [
    "# Предобработка данных"
   ]
  },
  {
   "cell_type": "markdown",
   "id": "4b40aa07",
   "metadata": {},
   "source": [
    "### Привести типы"
   ]
  },
  {
   "cell_type": "markdown",
   "id": "c5dcc9ea",
   "metadata": {},
   "source": [
    "Дату в формат даты"
   ]
  },
  {
   "cell_type": "code",
   "execution_count": 4,
   "id": "0da4211e",
   "metadata": {},
   "outputs": [],
   "source": [
    "final_ab_events['event_dt'] = pd.to_datetime(final_ab_events['event_dt']).dt.date\n",
    "final_ab_events['event_dt'] = pd.to_datetime(final_ab_events['event_dt'])\n",
    "ab_project_marketing_events['start_dt'] = pd.to_datetime(ab_project_marketing_events['start_dt'])\n",
    "ab_project_marketing_events['finish_dt'] = pd.to_datetime(ab_project_marketing_events['finish_dt'])\n",
    "final_ab_new_users['first_date'] = pd.to_datetime(final_ab_new_users['first_date'])"
   ]
  },
  {
   "cell_type": "markdown",
   "id": "1b76aceb",
   "metadata": {},
   "source": [
    "Числовые данные в числовой формат"
   ]
  },
  {
   "cell_type": "code",
   "execution_count": 5,
   "id": "3275048b",
   "metadata": {},
   "outputs": [],
   "source": [
    "final_ab_events['details'] = pd.to_numeric(final_ab_events['details'], errors='raise')"
   ]
  },
  {
   "cell_type": "code",
   "execution_count": 6,
   "id": "f5eb2260",
   "metadata": {
    "scrolled": false
   },
   "outputs": [
    {
     "name": "stdout",
     "output_type": "stream",
     "text": [
      "<class 'pandas.core.frame.DataFrame'>\n",
      "RangeIndex: 440317 entries, 0 to 440316\n",
      "Data columns (total 4 columns):\n",
      " #   Column      Non-Null Count   Dtype         \n",
      "---  ------      --------------   -----         \n",
      " 0   user_id     440317 non-null  object        \n",
      " 1   event_dt    440317 non-null  datetime64[ns]\n",
      " 2   event_name  440317 non-null  object        \n",
      " 3   details     62740 non-null   float64       \n",
      "dtypes: datetime64[ns](1), float64(1), object(2)\n",
      "memory usage: 13.4+ MB\n",
      "\n",
      "<class 'pandas.core.frame.DataFrame'>\n",
      "RangeIndex: 14 entries, 0 to 13\n",
      "Data columns (total 4 columns):\n",
      " #   Column     Non-Null Count  Dtype         \n",
      "---  ------     --------------  -----         \n",
      " 0   name       14 non-null     object        \n",
      " 1   regions    14 non-null     object        \n",
      " 2   start_dt   14 non-null     datetime64[ns]\n",
      " 3   finish_dt  14 non-null     datetime64[ns]\n",
      "dtypes: datetime64[ns](2), object(2)\n",
      "memory usage: 576.0+ bytes\n",
      "\n",
      "<class 'pandas.core.frame.DataFrame'>\n",
      "RangeIndex: 61733 entries, 0 to 61732\n",
      "Data columns (total 4 columns):\n",
      " #   Column      Non-Null Count  Dtype         \n",
      "---  ------      --------------  -----         \n",
      " 0   user_id     61733 non-null  object        \n",
      " 1   first_date  61733 non-null  datetime64[ns]\n",
      " 2   region      61733 non-null  object        \n",
      " 3   device      61733 non-null  object        \n",
      "dtypes: datetime64[ns](1), object(3)\n",
      "memory usage: 1.9+ MB\n",
      "\n",
      "<class 'pandas.core.frame.DataFrame'>\n",
      "RangeIndex: 18268 entries, 0 to 18267\n",
      "Data columns (total 3 columns):\n",
      " #   Column   Non-Null Count  Dtype \n",
      "---  ------   --------------  ----- \n",
      " 0   user_id  18268 non-null  object\n",
      " 1   group    18268 non-null  object\n",
      " 2   ab_test  18268 non-null  object\n",
      "dtypes: object(3)\n",
      "memory usage: 428.3+ KB\n"
     ]
    }
   ],
   "source": [
    "final_ab_events.info()\n",
    "print('')\n",
    "\n",
    "ab_project_marketing_events.info()\n",
    "print('')\n",
    "\n",
    "final_ab_new_users.info()\n",
    "print('')\n",
    "\n",
    "final_ab_participants.info()"
   ]
  },
  {
   "cell_type": "markdown",
   "id": "5009d693",
   "metadata": {},
   "source": [
    "### Работа с  дубликатами"
   ]
  },
  {
   "cell_type": "code",
   "execution_count": 7,
   "id": "e8d2df88",
   "metadata": {
    "scrolled": false
   },
   "outputs": [
    {
     "name": "stdout",
     "output_type": "stream",
     "text": [
      "Дубликаты:\n",
      "2\n",
      "0\n",
      "0\n",
      "0\n"
     ]
    }
   ],
   "source": [
    "print('Дубликаты:')\n",
    "print(final_ab_events.duplicated().sum())\n",
    "print(ab_project_marketing_events.duplicated().sum())\n",
    "print(final_ab_new_users.duplicated().sum())\n",
    "print(final_ab_participants.duplicated().sum())"
   ]
  },
  {
   "cell_type": "code",
   "execution_count": 8,
   "id": "64c1211a",
   "metadata": {},
   "outputs": [
    {
     "data": {
      "text/html": [
       "<div>\n",
       "<style scoped>\n",
       "    .dataframe tbody tr th:only-of-type {\n",
       "        vertical-align: middle;\n",
       "    }\n",
       "\n",
       "    .dataframe tbody tr th {\n",
       "        vertical-align: top;\n",
       "    }\n",
       "\n",
       "    .dataframe thead th {\n",
       "        text-align: right;\n",
       "    }\n",
       "</style>\n",
       "<table border=\"1\" class=\"dataframe\">\n",
       "  <thead>\n",
       "    <tr style=\"text-align: right;\">\n",
       "      <th></th>\n",
       "      <th>user_id</th>\n",
       "      <th>event_dt</th>\n",
       "      <th>event_name</th>\n",
       "      <th>details</th>\n",
       "    </tr>\n",
       "  </thead>\n",
       "  <tbody>\n",
       "    <tr>\n",
       "      <th>41759</th>\n",
       "      <td>72C55C38CAE0B00B</td>\n",
       "      <td>2020-12-21</td>\n",
       "      <td>purchase</td>\n",
       "      <td>4.99</td>\n",
       "    </tr>\n",
       "    <tr>\n",
       "      <th>377026</th>\n",
       "      <td>72C55C38CAE0B00B</td>\n",
       "      <td>2020-12-21</td>\n",
       "      <td>login</td>\n",
       "      <td>NaN</td>\n",
       "    </tr>\n",
       "  </tbody>\n",
       "</table>\n",
       "</div>"
      ],
      "text/plain": [
       "                 user_id   event_dt event_name  details\n",
       "41759   72C55C38CAE0B00B 2020-12-21  purchase   4.99   \n",
       "377026  72C55C38CAE0B00B 2020-12-21  login     NaN     "
      ]
     },
     "execution_count": 8,
     "metadata": {},
     "output_type": "execute_result"
    }
   ],
   "source": [
    "final_ab_events[final_ab_events.duplicated()]"
   ]
  },
  {
   "cell_type": "markdown",
   "id": "3e5e3f70",
   "metadata": {},
   "source": [
    "Дубликаты отсутствуют"
   ]
  },
  {
   "cell_type": "markdown",
   "id": "0b2794b5",
   "metadata": {},
   "source": [
    "### Работа с  пропусками"
   ]
  },
  {
   "cell_type": "code",
   "execution_count": 9,
   "id": "b976eec2",
   "metadata": {
    "scrolled": false
   },
   "outputs": [
    {
     "name": "stdout",
     "output_type": "stream",
     "text": [
      "Пропуски:\n",
      "user_id       0     \n",
      "event_dt      0     \n",
      "event_name    0     \n",
      "details       377577\n",
      "dtype: int64\n",
      "name         0\n",
      "regions      0\n",
      "start_dt     0\n",
      "finish_dt    0\n",
      "dtype: int64\n",
      "user_id       0\n",
      "first_date    0\n",
      "region        0\n",
      "device        0\n",
      "dtype: int64\n",
      "user_id    0\n",
      "group      0\n",
      "ab_test    0\n",
      "dtype: int64\n"
     ]
    }
   ],
   "source": [
    "print('Пропуски:')\n",
    "print(final_ab_events.isna().sum())\n",
    "print(ab_project_marketing_events.isna().sum())\n",
    "print(final_ab_new_users.isna().sum())\n",
    "print(final_ab_participants.isna().sum())"
   ]
  },
  {
   "cell_type": "markdown",
   "id": "e95ff83f",
   "metadata": {},
   "source": [
    "Есть пропуски в такблице final_ab_events, в колонке details. Эта колонка содержит дополнительные данные о событии. В данной таблице там хранится только стоимость покупки при ее совершении. Нет покупки- нет данных. Но на свякий случай, проверим это."
   ]
  },
  {
   "cell_type": "code",
   "execution_count": 10,
   "id": "407a4eaa",
   "metadata": {},
   "outputs": [
    {
     "name": "stdout",
     "output_type": "stream",
     "text": [
      "377577\n"
     ]
    }
   ],
   "source": [
    "print(len(final_ab_events[(final_ab_events['event_name']!='purchase') & (final_ab_events['details'].isna())]))"
   ]
  },
  {
   "cell_type": "markdown",
   "id": "e3486cfc",
   "metadata": {},
   "source": [
    "Количество пропусков для событий, не являющимися покупкой равно количеству пропусков в колонке 'details'."
   ]
  },
  {
   "cell_type": "markdown",
   "id": "8b210e26",
   "metadata": {},
   "source": [
    "### Работа с уникальными значениями"
   ]
  },
  {
   "cell_type": "code",
   "execution_count": 11,
   "id": "56f6f44f",
   "metadata": {},
   "outputs": [
    {
     "name": "stdout",
     "output_type": "stream",
     "text": [
      "login           189552\n",
      "product_page    125563\n",
      "purchase        62740 \n",
      "product_cart    62462 \n",
      "Name: event_name, dtype: int64\n",
      "APAC                        4\n",
      "EU, CIS, APAC, N.America    3\n",
      "EU, N.America               2\n",
      "EU, CIS, APAC               2\n",
      "CIS                         2\n",
      "N.America                   1\n",
      "Name: regions, dtype: int64\n",
      "EU           46270\n",
      "N.America    9155 \n",
      "CIS          3155 \n",
      "APAC         3153 \n",
      "Name: region, dtype: int64\n",
      "Android    27520\n",
      "PC         15599\n",
      "iPhone     12530\n",
      "Mac        6084 \n",
      "Name: device, dtype: int64\n",
      "A    9655\n",
      "B    8613\n",
      "Name: group, dtype: int64\n",
      "interface_eu_test          11567\n",
      "recommender_system_test    6701 \n",
      "Name: ab_test, dtype: int64\n"
     ]
    }
   ],
   "source": [
    "print(final_ab_events['event_name'].value_counts())\n",
    "print(ab_project_marketing_events['regions'].value_counts())\n",
    "print(final_ab_new_users['region'].value_counts())\n",
    "print(final_ab_new_users['device'].value_counts())\n",
    "print(final_ab_participants['group'].value_counts())\n",
    "print(final_ab_participants['ab_test'].value_counts())"
   ]
  },
  {
   "cell_type": "markdown",
   "id": "6643b3fb",
   "metadata": {},
   "source": [
    "Все значния выглядят нормально."
   ]
  },
  {
   "cell_type": "code",
   "execution_count": 12,
   "id": "e25b04d6",
   "metadata": {
    "scrolled": false
   },
   "outputs": [
    {
     "name": "stdout",
     "output_type": "stream",
     "text": [
      "final_ab_events - действия новых пользователей в период с 7 декабря 2020 по 4 января 2021 года.\n"
     ]
    },
    {
     "data": {
      "text/html": [
       "<div>\n",
       "<style scoped>\n",
       "    .dataframe tbody tr th:only-of-type {\n",
       "        vertical-align: middle;\n",
       "    }\n",
       "\n",
       "    .dataframe tbody tr th {\n",
       "        vertical-align: top;\n",
       "    }\n",
       "\n",
       "    .dataframe thead th {\n",
       "        text-align: right;\n",
       "    }\n",
       "</style>\n",
       "<table border=\"1\" class=\"dataframe\">\n",
       "  <thead>\n",
       "    <tr style=\"text-align: right;\">\n",
       "      <th></th>\n",
       "      <th>user_id</th>\n",
       "      <th>event_dt</th>\n",
       "      <th>event_name</th>\n",
       "      <th>details</th>\n",
       "    </tr>\n",
       "  </thead>\n",
       "  <tbody>\n",
       "    <tr>\n",
       "      <th>0</th>\n",
       "      <td>E1BDDCE0DAFA2679</td>\n",
       "      <td>2020-12-07</td>\n",
       "      <td>purchase</td>\n",
       "      <td>99.99</td>\n",
       "    </tr>\n",
       "  </tbody>\n",
       "</table>\n",
       "</div>"
      ],
      "text/plain": [
       "            user_id   event_dt event_name  details\n",
       "0  E1BDDCE0DAFA2679 2020-12-07  purchase   99.99  "
      ]
     },
     "metadata": {},
     "output_type": "display_data"
    },
    {
     "name": "stdout",
     "output_type": "stream",
     "text": [
      "\n",
      "ab_project_marketing_events - алендарь маркетинговых событий на 2020 год.\n"
     ]
    },
    {
     "data": {
      "text/html": [
       "<div>\n",
       "<style scoped>\n",
       "    .dataframe tbody tr th:only-of-type {\n",
       "        vertical-align: middle;\n",
       "    }\n",
       "\n",
       "    .dataframe tbody tr th {\n",
       "        vertical-align: top;\n",
       "    }\n",
       "\n",
       "    .dataframe thead th {\n",
       "        text-align: right;\n",
       "    }\n",
       "</style>\n",
       "<table border=\"1\" class=\"dataframe\">\n",
       "  <thead>\n",
       "    <tr style=\"text-align: right;\">\n",
       "      <th></th>\n",
       "      <th>name</th>\n",
       "      <th>regions</th>\n",
       "      <th>start_dt</th>\n",
       "      <th>finish_dt</th>\n",
       "    </tr>\n",
       "  </thead>\n",
       "  <tbody>\n",
       "    <tr>\n",
       "      <th>0</th>\n",
       "      <td>Christmas&amp;New Year Promo</td>\n",
       "      <td>EU, N.America</td>\n",
       "      <td>2020-12-25</td>\n",
       "      <td>2021-01-03</td>\n",
       "    </tr>\n",
       "  </tbody>\n",
       "</table>\n",
       "</div>"
      ],
      "text/plain": [
       "                       name        regions   start_dt  finish_dt\n",
       "0  Christmas&New Year Promo  EU, N.America 2020-12-25 2021-01-03"
      ]
     },
     "metadata": {},
     "output_type": "display_data"
    },
    {
     "name": "stdout",
     "output_type": "stream",
     "text": [
      "\n",
      "final_ab_new_users - пользователи, зарегистрировавшиеся с 7 по 21 декабря 2020 года.\n"
     ]
    },
    {
     "data": {
      "text/html": [
       "<div>\n",
       "<style scoped>\n",
       "    .dataframe tbody tr th:only-of-type {\n",
       "        vertical-align: middle;\n",
       "    }\n",
       "\n",
       "    .dataframe tbody tr th {\n",
       "        vertical-align: top;\n",
       "    }\n",
       "\n",
       "    .dataframe thead th {\n",
       "        text-align: right;\n",
       "    }\n",
       "</style>\n",
       "<table border=\"1\" class=\"dataframe\">\n",
       "  <thead>\n",
       "    <tr style=\"text-align: right;\">\n",
       "      <th></th>\n",
       "      <th>user_id</th>\n",
       "      <th>first_date</th>\n",
       "      <th>region</th>\n",
       "      <th>device</th>\n",
       "    </tr>\n",
       "  </thead>\n",
       "  <tbody>\n",
       "    <tr>\n",
       "      <th>0</th>\n",
       "      <td>D72A72121175D8BE</td>\n",
       "      <td>2020-12-07</td>\n",
       "      <td>EU</td>\n",
       "      <td>PC</td>\n",
       "    </tr>\n",
       "  </tbody>\n",
       "</table>\n",
       "</div>"
      ],
      "text/plain": [
       "            user_id first_date region device\n",
       "0  D72A72121175D8BE 2020-12-07  EU     PC   "
      ]
     },
     "metadata": {},
     "output_type": "display_data"
    },
    {
     "name": "stdout",
     "output_type": "stream",
     "text": [
      "\n",
      "final_ab_participants - таблица участников тестов.\n"
     ]
    },
    {
     "data": {
      "text/html": [
       "<div>\n",
       "<style scoped>\n",
       "    .dataframe tbody tr th:only-of-type {\n",
       "        vertical-align: middle;\n",
       "    }\n",
       "\n",
       "    .dataframe tbody tr th {\n",
       "        vertical-align: top;\n",
       "    }\n",
       "\n",
       "    .dataframe thead th {\n",
       "        text-align: right;\n",
       "    }\n",
       "</style>\n",
       "<table border=\"1\" class=\"dataframe\">\n",
       "  <thead>\n",
       "    <tr style=\"text-align: right;\">\n",
       "      <th></th>\n",
       "      <th>user_id</th>\n",
       "      <th>group</th>\n",
       "      <th>ab_test</th>\n",
       "    </tr>\n",
       "  </thead>\n",
       "  <tbody>\n",
       "    <tr>\n",
       "      <th>0</th>\n",
       "      <td>D1ABA3E2887B6A73</td>\n",
       "      <td>A</td>\n",
       "      <td>recommender_system_test</td>\n",
       "    </tr>\n",
       "  </tbody>\n",
       "</table>\n",
       "</div>"
      ],
      "text/plain": [
       "            user_id group                  ab_test\n",
       "0  D1ABA3E2887B6A73  A     recommender_system_test"
      ]
     },
     "metadata": {},
     "output_type": "display_data"
    }
   ],
   "source": [
    "print('final_ab_events - действия новых пользователей в период с 7 декабря 2020 по 4 января 2021 года.')\n",
    "display(final_ab_events.head(1))\n",
    "print('')\n",
    "\n",
    "print('ab_project_marketing_events - алендарь маркетинговых событий на 2020 год.')\n",
    "display(ab_project_marketing_events.head(1))\n",
    "print('')\n",
    "\n",
    "print('final_ab_new_users - пользователи, зарегистрировавшиеся с 7 по 21 декабря 2020 года.')\n",
    "display(final_ab_new_users.head(1))\n",
    "print('')\n",
    "\n",
    "print('final_ab_participants - таблица участников тестов.')\n",
    "display(final_ab_participants.head(1))"
   ]
  },
  {
   "cell_type": "markdown",
   "id": "f4b1cf3a",
   "metadata": {},
   "source": [
    "### Объединение таблиц"
   ]
  },
  {
   "cell_type": "markdown",
   "id": "b9752117",
   "metadata": {},
   "source": [
    "Нас интересуют только участиники тестов, поэтому объеденим таблицы по user_id только для тех, кто есть в таблице участников теста- final_ab_participants."
   ]
  },
  {
   "cell_type": "code",
   "execution_count": 13,
   "id": "8485202a",
   "metadata": {
    "scrolled": false
   },
   "outputs": [
    {
     "name": "stdout",
     "output_type": "stream",
     "text": [
      "user_id       0    \n",
      "group         0    \n",
      "ab_test       0    \n",
      "event_dt      3743 \n",
      "event_name    3743 \n",
      "details       94952\n",
      "first_date    0    \n",
      "region        0    \n",
      "device        0    \n",
      "dtype: int64\n"
     ]
    },
    {
     "data": {
      "text/html": [
       "<div>\n",
       "<style scoped>\n",
       "    .dataframe tbody tr th:only-of-type {\n",
       "        vertical-align: middle;\n",
       "    }\n",
       "\n",
       "    .dataframe tbody tr th {\n",
       "        vertical-align: top;\n",
       "    }\n",
       "\n",
       "    .dataframe thead th {\n",
       "        text-align: right;\n",
       "    }\n",
       "</style>\n",
       "<table border=\"1\" class=\"dataframe\">\n",
       "  <thead>\n",
       "    <tr style=\"text-align: right;\">\n",
       "      <th></th>\n",
       "      <th>user_id</th>\n",
       "      <th>group</th>\n",
       "      <th>ab_test</th>\n",
       "      <th>event_dt</th>\n",
       "      <th>event_name</th>\n",
       "      <th>details</th>\n",
       "      <th>first_date</th>\n",
       "      <th>region</th>\n",
       "      <th>device</th>\n",
       "    </tr>\n",
       "  </thead>\n",
       "  <tbody>\n",
       "    <tr>\n",
       "      <th>0</th>\n",
       "      <td>D1ABA3E2887B6A73</td>\n",
       "      <td>A</td>\n",
       "      <td>recommender_system_test</td>\n",
       "      <td>2020-12-07</td>\n",
       "      <td>purchase</td>\n",
       "      <td>99.99</td>\n",
       "      <td>2020-12-07</td>\n",
       "      <td>EU</td>\n",
       "      <td>PC</td>\n",
       "    </tr>\n",
       "    <tr>\n",
       "      <th>1</th>\n",
       "      <td>D1ABA3E2887B6A73</td>\n",
       "      <td>A</td>\n",
       "      <td>recommender_system_test</td>\n",
       "      <td>2020-12-25</td>\n",
       "      <td>purchase</td>\n",
       "      <td>4.99</td>\n",
       "      <td>2020-12-07</td>\n",
       "      <td>EU</td>\n",
       "      <td>PC</td>\n",
       "    </tr>\n",
       "    <tr>\n",
       "      <th>2</th>\n",
       "      <td>D1ABA3E2887B6A73</td>\n",
       "      <td>A</td>\n",
       "      <td>recommender_system_test</td>\n",
       "      <td>2020-12-07</td>\n",
       "      <td>product_cart</td>\n",
       "      <td>NaN</td>\n",
       "      <td>2020-12-07</td>\n",
       "      <td>EU</td>\n",
       "      <td>PC</td>\n",
       "    </tr>\n",
       "    <tr>\n",
       "      <th>3</th>\n",
       "      <td>D1ABA3E2887B6A73</td>\n",
       "      <td>A</td>\n",
       "      <td>recommender_system_test</td>\n",
       "      <td>2020-12-25</td>\n",
       "      <td>product_cart</td>\n",
       "      <td>NaN</td>\n",
       "      <td>2020-12-07</td>\n",
       "      <td>EU</td>\n",
       "      <td>PC</td>\n",
       "    </tr>\n",
       "    <tr>\n",
       "      <th>4</th>\n",
       "      <td>D1ABA3E2887B6A73</td>\n",
       "      <td>A</td>\n",
       "      <td>recommender_system_test</td>\n",
       "      <td>2020-12-07</td>\n",
       "      <td>product_page</td>\n",
       "      <td>NaN</td>\n",
       "      <td>2020-12-07</td>\n",
       "      <td>EU</td>\n",
       "      <td>PC</td>\n",
       "    </tr>\n",
       "    <tr>\n",
       "      <th>...</th>\n",
       "      <td>...</td>\n",
       "      <td>...</td>\n",
       "      <td>...</td>\n",
       "      <td>...</td>\n",
       "      <td>...</td>\n",
       "      <td>...</td>\n",
       "      <td>...</td>\n",
       "      <td>...</td>\n",
       "      <td>...</td>\n",
       "    </tr>\n",
       "    <tr>\n",
       "      <th>110363</th>\n",
       "      <td>63FBE257B05F2245</td>\n",
       "      <td>A</td>\n",
       "      <td>interface_eu_test</td>\n",
       "      <td>2020-12-23</td>\n",
       "      <td>login</td>\n",
       "      <td>NaN</td>\n",
       "      <td>2020-12-20</td>\n",
       "      <td>EU</td>\n",
       "      <td>Android</td>\n",
       "    </tr>\n",
       "    <tr>\n",
       "      <th>110364</th>\n",
       "      <td>79F9ABFB029CF724</td>\n",
       "      <td>B</td>\n",
       "      <td>interface_eu_test</td>\n",
       "      <td>2020-12-14</td>\n",
       "      <td>login</td>\n",
       "      <td>NaN</td>\n",
       "      <td>2020-12-14</td>\n",
       "      <td>EU</td>\n",
       "      <td>PC</td>\n",
       "    </tr>\n",
       "    <tr>\n",
       "      <th>110365</th>\n",
       "      <td>79F9ABFB029CF724</td>\n",
       "      <td>B</td>\n",
       "      <td>interface_eu_test</td>\n",
       "      <td>2020-12-15</td>\n",
       "      <td>login</td>\n",
       "      <td>NaN</td>\n",
       "      <td>2020-12-14</td>\n",
       "      <td>EU</td>\n",
       "      <td>PC</td>\n",
       "    </tr>\n",
       "    <tr>\n",
       "      <th>110366</th>\n",
       "      <td>79F9ABFB029CF724</td>\n",
       "      <td>B</td>\n",
       "      <td>interface_eu_test</td>\n",
       "      <td>2020-12-16</td>\n",
       "      <td>login</td>\n",
       "      <td>NaN</td>\n",
       "      <td>2020-12-14</td>\n",
       "      <td>EU</td>\n",
       "      <td>PC</td>\n",
       "    </tr>\n",
       "    <tr>\n",
       "      <th>110367</th>\n",
       "      <td>79F9ABFB029CF724</td>\n",
       "      <td>B</td>\n",
       "      <td>interface_eu_test</td>\n",
       "      <td>2020-12-20</td>\n",
       "      <td>login</td>\n",
       "      <td>NaN</td>\n",
       "      <td>2020-12-14</td>\n",
       "      <td>EU</td>\n",
       "      <td>PC</td>\n",
       "    </tr>\n",
       "  </tbody>\n",
       "</table>\n",
       "<p>110368 rows × 9 columns</p>\n",
       "</div>"
      ],
      "text/plain": [
       "                 user_id group                  ab_test   event_dt  \\\n",
       "0       D1ABA3E2887B6A73  A     recommender_system_test 2020-12-07   \n",
       "1       D1ABA3E2887B6A73  A     recommender_system_test 2020-12-25   \n",
       "2       D1ABA3E2887B6A73  A     recommender_system_test 2020-12-07   \n",
       "3       D1ABA3E2887B6A73  A     recommender_system_test 2020-12-25   \n",
       "4       D1ABA3E2887B6A73  A     recommender_system_test 2020-12-07   \n",
       "...                  ... ..                         ...        ...   \n",
       "110363  63FBE257B05F2245  A     interface_eu_test       2020-12-23   \n",
       "110364  79F9ABFB029CF724  B     interface_eu_test       2020-12-14   \n",
       "110365  79F9ABFB029CF724  B     interface_eu_test       2020-12-15   \n",
       "110366  79F9ABFB029CF724  B     interface_eu_test       2020-12-16   \n",
       "110367  79F9ABFB029CF724  B     interface_eu_test       2020-12-20   \n",
       "\n",
       "          event_name  details first_date region   device  \n",
       "0       purchase      99.99   2020-12-07  EU     PC       \n",
       "1       purchase      4.99    2020-12-07  EU     PC       \n",
       "2       product_cart NaN      2020-12-07  EU     PC       \n",
       "3       product_cart NaN      2020-12-07  EU     PC       \n",
       "4       product_page NaN      2020-12-07  EU     PC       \n",
       "...              ...  ..             ...  ..     ..       \n",
       "110363  login        NaN      2020-12-20  EU     Android  \n",
       "110364  login        NaN      2020-12-14  EU     PC       \n",
       "110365  login        NaN      2020-12-14  EU     PC       \n",
       "110366  login        NaN      2020-12-14  EU     PC       \n",
       "110367  login        NaN      2020-12-14  EU     PC       \n",
       "\n",
       "[110368 rows x 9 columns]"
      ]
     },
     "metadata": {},
     "output_type": "display_data"
    },
    {
     "name": "stdout",
     "output_type": "stream",
     "text": [
      "<class 'pandas.core.frame.DataFrame'>\n",
      "Int64Index: 110368 entries, 0 to 110367\n",
      "Data columns (total 9 columns):\n",
      " #   Column      Non-Null Count   Dtype         \n",
      "---  ------      --------------   -----         \n",
      " 0   user_id     110368 non-null  object        \n",
      " 1   group       110368 non-null  object        \n",
      " 2   ab_test     110368 non-null  object        \n",
      " 3   event_dt    106625 non-null  datetime64[ns]\n",
      " 4   event_name  106625 non-null  object        \n",
      " 5   details     15416 non-null   float64       \n",
      " 6   first_date  110368 non-null  datetime64[ns]\n",
      " 7   region      110368 non-null  object        \n",
      " 8   device      110368 non-null  object        \n",
      "dtypes: datetime64[ns](2), float64(1), object(6)\n",
      "memory usage: 8.4+ MB\n"
     ]
    }
   ],
   "source": [
    "data = final_ab_participants.merge(final_ab_events, on='user_id', how='left')\n",
    "data = data.merge(final_ab_new_users, on='user_id', how='left')\n",
    "print(data.isna().sum())\n",
    "display(data)\n",
    "data.info()"
   ]
  },
  {
   "cell_type": "markdown",
   "id": "7b55b3b7",
   "metadata": {},
   "source": [
    "Есть пропуски по событиям. Видимо, есть пользователи, которые не совершали никаких действий во время теста. Проверим их чуть позже."
   ]
  },
  {
   "cell_type": "markdown",
   "id": "0032975e",
   "metadata": {},
   "source": [
    "# Оценка корректности проведения теста"
   ]
  },
  {
   "cell_type": "markdown",
   "id": "44de5956",
   "metadata": {},
   "source": [
    "## Соответствие данных требованиям технического задания"
   ]
  },
  {
   "cell_type": "markdown",
   "id": "fefaec07",
   "metadata": {},
   "source": [
    "#### Название теста: `recommender_system_test`\n",
    "\n",
    "#### группы: А — контрольная, B — новая платёжная воронка\n",
    "\n",
    "Значения в таблице соответствуют."
   ]
  },
  {
   "cell_type": "markdown",
   "id": "9399ab03",
   "metadata": {},
   "source": [
    "#### Дата запуска: 2020-12-07. Дата остановки: 2021-01-04. \n",
    "Проверим соответствие данных."
   ]
  },
  {
   "cell_type": "code",
   "execution_count": 14,
   "id": "9c80c728",
   "metadata": {},
   "outputs": [
    {
     "name": "stdout",
     "output_type": "stream",
     "text": [
      "2020-12-07 00:00:00\n",
      "2020-12-30 00:00:00\n"
     ]
    }
   ],
   "source": [
    "print(data[data['ab_test']=='recommender_system_test']['first_date'].min())\n",
    "print(data[data['ab_test']=='recommender_system_test']['event_dt'].max())"
   ]
  },
  {
   "cell_type": "markdown",
   "id": "c412893e",
   "metadata": {},
   "source": [
    "Время совпадает. Но после 30 декабря событий не было, 5 дней тестовых данных не было. "
   ]
  },
  {
   "cell_type": "markdown",
   "id": "dc450634",
   "metadata": {},
   "source": [
    "#### Дата остановки набора новых пользователей: 2020-12-21."
   ]
  },
  {
   "cell_type": "code",
   "execution_count": 15,
   "id": "c04f38c1",
   "metadata": {},
   "outputs": [
    {
     "name": "stdout",
     "output_type": "stream",
     "text": [
      "2020-12-21 00:00:00\n"
     ]
    }
   ],
   "source": [
    "print(data[data['ab_test']=='recommender_system_test']['first_date'].max())"
   ]
  },
  {
   "cell_type": "markdown",
   "id": "35bbb1ff",
   "metadata": {},
   "source": [
    "Соответствует."
   ]
  },
  {
   "cell_type": "markdown",
   "id": "1c3f6647",
   "metadata": {},
   "source": [
    "#### Ожидаемое количество участников теста: 6000"
   ]
  },
  {
   "cell_type": "code",
   "execution_count": 16,
   "id": "e18c7e8e",
   "metadata": {},
   "outputs": [
    {
     "data": {
      "text/plain": [
       "6701"
      ]
     },
     "execution_count": 16,
     "metadata": {},
     "output_type": "execute_result"
    }
   ],
   "source": [
    "data[data['ab_test']=='recommender_system_test']['user_id'].nunique()"
   ]
  },
  {
   "cell_type": "markdown",
   "id": "9e857212",
   "metadata": {},
   "source": [
    "Соответствует ТЗ."
   ]
  },
  {
   "cell_type": "markdown",
   "id": "b94e8168",
   "metadata": {},
   "source": [
    "#### Аудитория: 15% новых пользователей из региона EU"
   ]
  },
  {
   "cell_type": "code",
   "execution_count": 17,
   "id": "91996104",
   "metadata": {},
   "outputs": [
    {
     "data": {
      "text/html": [
       "<div>\n",
       "<style scoped>\n",
       "    .dataframe tbody tr th:only-of-type {\n",
       "        vertical-align: middle;\n",
       "    }\n",
       "\n",
       "    .dataframe tbody tr th {\n",
       "        vertical-align: top;\n",
       "    }\n",
       "\n",
       "    .dataframe thead th {\n",
       "        text-align: right;\n",
       "    }\n",
       "</style>\n",
       "<table border=\"1\" class=\"dataframe\">\n",
       "  <thead>\n",
       "    <tr style=\"text-align: right;\">\n",
       "      <th></th>\n",
       "      <th>region</th>\n",
       "      <th>user_id</th>\n",
       "    </tr>\n",
       "  </thead>\n",
       "  <tbody>\n",
       "    <tr>\n",
       "      <th>0</th>\n",
       "      <td>APAC</td>\n",
       "      <td>72</td>\n",
       "    </tr>\n",
       "    <tr>\n",
       "      <th>1</th>\n",
       "      <td>CIS</td>\n",
       "      <td>55</td>\n",
       "    </tr>\n",
       "    <tr>\n",
       "      <th>2</th>\n",
       "      <td>EU</td>\n",
       "      <td>6351</td>\n",
       "    </tr>\n",
       "    <tr>\n",
       "      <th>3</th>\n",
       "      <td>N.America</td>\n",
       "      <td>223</td>\n",
       "    </tr>\n",
       "  </tbody>\n",
       "</table>\n",
       "</div>"
      ],
      "text/plain": [
       "      region  user_id\n",
       "0  APAC       72     \n",
       "1  CIS        55     \n",
       "2  EU         6351   \n",
       "3  N.America  223    "
      ]
     },
     "metadata": {},
     "output_type": "display_data"
    },
    {
     "name": "stdout",
     "output_type": "stream",
     "text": [
      "13.725956343202938\n"
     ]
    }
   ],
   "source": [
    "display(\n",
    "    data\n",
    "    [data['ab_test']=='recommender_system_test']\n",
    "    .groupby('region')\n",
    "    .agg({'user_id':'nunique'})\n",
    "    .reset_index()\n",
    ")\n",
    "\n",
    "print(\n",
    "    data[\n",
    "        (data['region']=='EU') & \n",
    "        (data['ab_test']=='recommender_system_test')\n",
    "    ]\n",
    "    ['user_id']\n",
    "    .nunique() / \n",
    "    final_ab_new_users[\n",
    "        final_ab_new_users['region']=='EU'\n",
    "    ]\n",
    "    ['user_id']\n",
    "    .nunique()*\n",
    "    100\n",
    ")"
   ]
  },
  {
   "cell_type": "markdown",
   "id": "39d7547a",
   "metadata": {},
   "source": [
    "В тест попали пользователи из других регионов. Их меньше 2% от общего числа. Если их отбросить, данные всё равно будут соответствовать ТЗ, ведь из EU больше 6000 пользователей. \n",
    "\n",
    "Аудитория составляет 13.7% от числа новых пользователей региона. В регионе больше новых пользователей, чем ожидалось."
   ]
  },
  {
   "cell_type": "code",
   "execution_count": 18,
   "id": "d5102ed9",
   "metadata": {},
   "outputs": [],
   "source": [
    "ab_data = data[(data['region']=='EU') & (data['ab_test']=='recommender_system_test')]"
   ]
  },
  {
   "cell_type": "markdown",
   "id": "9b0f9522",
   "metadata": {},
   "source": [
    "## Совпадение с маркетинговыми активностями"
   ]
  },
  {
   "cell_type": "markdown",
   "id": "80af0ba2",
   "metadata": {},
   "source": [
    "#### Оставим маркетинговые мероприятия только интересующего нас региона."
   ]
  },
  {
   "cell_type": "code",
   "execution_count": 19,
   "id": "e0a78767",
   "metadata": {},
   "outputs": [
    {
     "data": {
      "text/html": [
       "<div>\n",
       "<style scoped>\n",
       "    .dataframe tbody tr th:only-of-type {\n",
       "        vertical-align: middle;\n",
       "    }\n",
       "\n",
       "    .dataframe tbody tr th {\n",
       "        vertical-align: top;\n",
       "    }\n",
       "\n",
       "    .dataframe thead th {\n",
       "        text-align: right;\n",
       "    }\n",
       "</style>\n",
       "<table border=\"1\" class=\"dataframe\">\n",
       "  <thead>\n",
       "    <tr style=\"text-align: right;\">\n",
       "      <th></th>\n",
       "      <th>name</th>\n",
       "      <th>regions</th>\n",
       "      <th>start_dt</th>\n",
       "      <th>finish_dt</th>\n",
       "    </tr>\n",
       "  </thead>\n",
       "  <tbody>\n",
       "    <tr>\n",
       "      <th>0</th>\n",
       "      <td>Christmas&amp;New Year Promo</td>\n",
       "      <td>EU, N.America</td>\n",
       "      <td>2020-12-25</td>\n",
       "      <td>2021-01-03</td>\n",
       "    </tr>\n",
       "  </tbody>\n",
       "</table>\n",
       "</div>"
      ],
      "text/plain": [
       "                       name        regions   start_dt  finish_dt\n",
       "0  Christmas&New Year Promo  EU, N.America 2020-12-25 2021-01-03"
      ]
     },
     "execution_count": 19,
     "metadata": {},
     "output_type": "execute_result"
    }
   ],
   "source": [
    "ab_project_marketing_events = ab_project_marketing_events[\n",
    "    ab_project_marketing_events['regions']\n",
    "    .str.contains('EU', regex=True)\n",
    "]\n",
    "\n",
    "ab_project_marketing_events[ab_project_marketing_events['finish_dt'] >= ab_data['first_date'].min()]"
   ]
  },
  {
   "cell_type": "markdown",
   "id": "36cdc83f",
   "metadata": {},
   "source": [
    "#### Проведение теста пересекается с рождественским/новогодним промо.\n",
    "Проверим, есть ли изменение активности пользователей после 25 декабря."
   ]
  },
  {
   "cell_type": "code",
   "execution_count": 20,
   "id": "a5499c26",
   "metadata": {},
   "outputs": [
    {
     "data": {
      "image/png": "[encoded data removed]",
      "text/plain": [
       "<Figure size 1080x432 with 1 Axes>"
      ]
     },
     "metadata": {},
     "output_type": "display_data"
    }
   ],
   "source": [
    "activity = (\n",
    "    ab_data\n",
    "    .groupby(['group', 'event_dt'])\n",
    "    .agg({'user_id':'count'})\n",
    "    .reset_index()\n",
    ")\n",
    "\n",
    "fig, ax = plt.subplots(figsize=(15, 6))\n",
    "sns.lineplot(data=activity, x='event_dt', y='user_id', hue='group')\n",
    "\n",
    "plt.title('Влияние новогоднего промо')\n",
    "plt.xlabel('Дата')\n",
    "plt.ylabel('Активность');"
   ]
  },
  {
   "cell_type": "markdown",
   "id": "0447f8a3",
   "metadata": {},
   "source": [
    "Никакого всплеска активности после 25 числа не наблюдается. Промо не оказывает влияния на группы."
   ]
  },
  {
   "cell_type": "markdown",
   "id": "a56b716e",
   "metadata": {},
   "source": [
    "## Проверка аудитории теста"
   ]
  },
  {
   "cell_type": "markdown",
   "id": "1c83d5c9",
   "metadata": {},
   "source": [
    "#### Посмотрим на распределение пользователей по группам."
   ]
  },
  {
   "cell_type": "code",
   "execution_count": 21,
   "id": "2025f2bf",
   "metadata": {},
   "outputs": [
    {
     "data": {
      "text/html": [
       "<div>\n",
       "<style scoped>\n",
       "    .dataframe tbody tr th:only-of-type {\n",
       "        vertical-align: middle;\n",
       "    }\n",
       "\n",
       "    .dataframe tbody tr th {\n",
       "        vertical-align: top;\n",
       "    }\n",
       "\n",
       "    .dataframe thead th {\n",
       "        text-align: right;\n",
       "    }\n",
       "</style>\n",
       "<table border=\"1\" class=\"dataframe\">\n",
       "  <thead>\n",
       "    <tr style=\"text-align: right;\">\n",
       "      <th></th>\n",
       "      <th>group</th>\n",
       "      <th>user_id</th>\n",
       "    </tr>\n",
       "  </thead>\n",
       "  <tbody>\n",
       "    <tr>\n",
       "      <th>0</th>\n",
       "      <td>A</td>\n",
       "      <td>3634</td>\n",
       "    </tr>\n",
       "    <tr>\n",
       "      <th>1</th>\n",
       "      <td>B</td>\n",
       "      <td>2717</td>\n",
       "    </tr>\n",
       "  </tbody>\n",
       "</table>\n",
       "</div>"
      ],
      "text/plain": [
       "  group  user_id\n",
       "0  A     3634   \n",
       "1  B     2717   "
      ]
     },
     "metadata": {},
     "output_type": "display_data"
    }
   ],
   "source": [
    "display(\n",
    "    ab_data\n",
    "    .groupby(['group'])\n",
    "    .agg({'user_id':'nunique'})\n",
    "    .reset_index()\n",
    ")"
   ]
  },
  {
   "cell_type": "markdown",
   "id": "71f7ced1",
   "metadata": {},
   "source": [
    "В группе А есть перевес но, часто, в целевых группах больше людей. Выглядит нормально."
   ]
  },
  {
   "cell_type": "markdown",
   "id": "a4f86013",
   "metadata": {},
   "source": [
    "Проверим, нет ли пользователей, попавших в обе группы."
   ]
  },
  {
   "cell_type": "code",
   "execution_count": 22,
   "id": "f28fcf15",
   "metadata": {},
   "outputs": [
    {
     "name": "stdout",
     "output_type": "stream",
     "text": [
      "Пользователей, участвовавших в обоих группах: 0\n"
     ]
    }
   ],
   "source": [
    "user_group_table = ab_data.groupby('user_id').agg({'group':'nunique'}).reset_index()\n",
    "\n",
    "print('Пользователей, участвовавших в обоих группах: {}'.format(len(user_group_table[user_group_table['group']>1])))"
   ]
  },
  {
   "cell_type": "markdown",
   "id": "5c95f48d",
   "metadata": {},
   "source": [
    "Пользователи не пересекаются."
   ]
  },
  {
   "cell_type": "markdown",
   "id": "8ebbb6f3",
   "metadata": {},
   "source": [
    "#### Проверим совпадение с другим тестом. \n",
    "Посколько мы не знаем ничего про второй тест, сложно оценить его влияние на первый. Для начала, можно посмотреть, сколько пользователей из второго теста, попавших в контрольную группу, попали внаш тест."
   ]
  },
  {
   "cell_type": "code",
   "execution_count": 23,
   "id": "94e3be6c",
   "metadata": {},
   "outputs": [
    {
     "data": {
      "text/plain": [
       "783"
      ]
     },
     "execution_count": 23,
     "metadata": {},
     "output_type": "execute_result"
    }
   ],
   "source": [
    "interface_eu_test_users = data[(data['ab_test']=='interface_eu_test') & (data['group']=='B')]['user_id']\n",
    "\n",
    "cross_users = ab_data[ab_data['user_id'].isin(interface_eu_test_users)]\n",
    "\n",
    "len(cross_users['user_id'].unique())"
   ]
  },
  {
   "cell_type": "markdown",
   "id": "7fa2f3e6",
   "metadata": {},
   "source": [
    "Немало. Посмотрим, как они распределены по группам нашего теста."
   ]
  },
  {
   "cell_type": "code",
   "execution_count": 24,
   "id": "51520c7d",
   "metadata": {},
   "outputs": [
    {
     "data": {
      "text/html": [
       "<div>\n",
       "<style scoped>\n",
       "    .dataframe tbody tr th:only-of-type {\n",
       "        vertical-align: middle;\n",
       "    }\n",
       "\n",
       "    .dataframe tbody tr th {\n",
       "        vertical-align: top;\n",
       "    }\n",
       "\n",
       "    .dataframe thead th {\n",
       "        text-align: right;\n",
       "    }\n",
       "</style>\n",
       "<table border=\"1\" class=\"dataframe\">\n",
       "  <thead>\n",
       "    <tr style=\"text-align: right;\">\n",
       "      <th></th>\n",
       "      <th>group</th>\n",
       "      <th>user_id</th>\n",
       "    </tr>\n",
       "  </thead>\n",
       "  <tbody>\n",
       "    <tr>\n",
       "      <th>0</th>\n",
       "      <td>A</td>\n",
       "      <td>439</td>\n",
       "    </tr>\n",
       "    <tr>\n",
       "      <th>1</th>\n",
       "      <td>B</td>\n",
       "      <td>344</td>\n",
       "    </tr>\n",
       "  </tbody>\n",
       "</table>\n",
       "</div>"
      ],
      "text/plain": [
       "  group  user_id\n",
       "0  A     439    \n",
       "1  B     344    "
      ]
     },
     "execution_count": 24,
     "metadata": {},
     "output_type": "execute_result"
    }
   ],
   "source": [
    "cross_users.groupby('group').agg({'user_id':'nunique'}).reset_index()"
   ]
  },
  {
   "cell_type": "markdown",
   "id": "b21da13d",
   "metadata": {},
   "source": [
    "Соотношение похожее, можно сказать, что пересечение пользователей в тестах не влияет на общую картину."
   ]
  },
  {
   "cell_type": "markdown",
   "id": "056f13cf",
   "metadata": {},
   "source": [
    "#### Оценим активность пользователей."
   ]
  },
  {
   "cell_type": "code",
   "execution_count": 25,
   "id": "a7304c05",
   "metadata": {},
   "outputs": [
    {
     "name": "stdout",
     "output_type": "stream",
     "text": [
      "2870\n"
     ]
    }
   ],
   "source": [
    "print(ab_data['event_name'].isna().sum())\n",
    "\n",
    "ab_data['event_name'] = ab_data['event_name'].fillna('no_event')"
   ]
  },
  {
   "cell_type": "markdown",
   "id": "f029b3cd",
   "metadata": {},
   "source": [
    "Довольно много пользователей без какой-либо активности в период теста.  Взглянем поближе."
   ]
  },
  {
   "cell_type": "code",
   "execution_count": 26,
   "id": "81c7444c",
   "metadata": {},
   "outputs": [
    {
     "data": {
      "image/png": "[encoded data removed]",
      "text/plain": [
       "<Figure size 1080x432 with 1 Axes>"
      ]
     },
     "metadata": {},
     "output_type": "display_data"
    }
   ],
   "source": [
    "ab_activity = (\n",
    "    ab_data\n",
    "    [ab_data['event_name']=='no_event']\n",
    "    .groupby(['group', 'first_date'])\n",
    "    .agg({'user_id':'nunique'})\n",
    "    .reset_index()\n",
    ")\n",
    "\n",
    "\n",
    "fig, ax = plt.subplots(figsize=(15, 6))\n",
    "sns.lineplot(data=ab_activity, x='first_date', y='user_id', hue='group')\n",
    "\n",
    "plt.title('Регистрация пользователей без активности')\n",
    "plt.xlabel('Дата')\n",
    "plt.ylabel('Количество регистраций');"
   ]
  },
  {
   "cell_type": "markdown",
   "id": "edd4f0fe",
   "metadata": {},
   "source": [
    "До 14 числа бользователей без активности в обоих группах было примерно поровну, но после 14 числа в группу А они перестали попадать. Можно только предполагать, почему так странно получилось: ошибка записи событий, невозможность зарегестрироваться на сайте после обновлений, проблемы с сервером. В данной ситуации остается лишь избавиться от всех неактивных пользователей."
   ]
  },
  {
   "cell_type": "code",
   "execution_count": 27,
   "id": "3f128c38",
   "metadata": {},
   "outputs": [
    {
     "name": "stdout",
     "output_type": "stream",
     "text": [
      "Всего пользователей после фильтрации: 3481\n"
     ]
    },
    {
     "data": {
      "text/html": [
       "<div>\n",
       "<style scoped>\n",
       "    .dataframe tbody tr th:only-of-type {\n",
       "        vertical-align: middle;\n",
       "    }\n",
       "\n",
       "    .dataframe tbody tr th {\n",
       "        vertical-align: top;\n",
       "    }\n",
       "\n",
       "    .dataframe thead th {\n",
       "        text-align: right;\n",
       "    }\n",
       "</style>\n",
       "<table border=\"1\" class=\"dataframe\">\n",
       "  <thead>\n",
       "    <tr style=\"text-align: right;\">\n",
       "      <th></th>\n",
       "      <th>group</th>\n",
       "      <th>user_id</th>\n",
       "    </tr>\n",
       "  </thead>\n",
       "  <tbody>\n",
       "    <tr>\n",
       "      <th>0</th>\n",
       "      <td>A</td>\n",
       "      <td>2604</td>\n",
       "    </tr>\n",
       "    <tr>\n",
       "      <th>1</th>\n",
       "      <td>B</td>\n",
       "      <td>877</td>\n",
       "    </tr>\n",
       "  </tbody>\n",
       "</table>\n",
       "</div>"
      ],
      "text/plain": [
       "  group  user_id\n",
       "0  A     2604   \n",
       "1  B     877    "
      ]
     },
     "metadata": {},
     "output_type": "display_data"
    }
   ],
   "source": [
    "no_event_max_date = ab_data[(ab_data['event_name']=='no_event') & (ab_data['group']=='A')]['first_date'].max()\n",
    "\n",
    "ab_data = ab_data[ab_data['event_name']!='no_event']\n",
    "\n",
    "print('Всего пользователей после фильтрации: {}'.format(len(ab_data['user_id'].unique())))\n",
    "\n",
    "display(\n",
    "    ab_data\n",
    "    .groupby(['group'])\n",
    "    .agg({'user_id':'nunique'})\n",
    "    .reset_index()\n",
    ")"
   ]
  },
  {
   "cell_type": "markdown",
   "id": "ed5d5b27",
   "metadata": {},
   "source": [
    "Теперь в целевой группе еще меньше пользователей, но распределение 3:1 все еще нормальное. Пользователей сильно стало меньше, чем заявлено в ТЗ, но достаточно для проведение теста."
   ]
  },
  {
   "cell_type": "markdown",
   "id": "794f53c8",
   "metadata": {},
   "source": [
    "#### Изучение горизонта событий"
   ]
  },
  {
   "cell_type": "markdown",
   "id": "22065715",
   "metadata": {},
   "source": [
    "Пользователей после фильтрации осталось мало, тест заканчивается раньше, чем в ТЗ, так что, стоит оценить важность горизонта событий именно в 14 дней. "
   ]
  },
  {
   "cell_type": "code",
   "execution_count": 28,
   "id": "d830212a",
   "metadata": {},
   "outputs": [
    {
     "data": {
      "image/png": "[encoded data removed]",
      "text/plain": [
       "<Figure size 1080x432 with 1 Axes>"
      ]
     },
     "metadata": {},
     "output_type": "display_data"
    },
    {
     "name": "stdout",
     "output_type": "stream",
     "text": [
      "Длина лайфтайма событий у 75% пользователей: 9.0\n"
     ]
    }
   ],
   "source": [
    "lifetime = (\n",
    "    ab_data\n",
    "    .groupby(['user_id', 'event_name'])\n",
    "    .agg({'first_date':'min', 'event_dt':'max'})\n",
    "    .reset_index()\n",
    ")\n",
    "\n",
    "lifetime['lifetime'] = (lifetime['event_dt'] - lifetime['first_date']).dt.days.astype('int')\n",
    "\n",
    "lifetime.hist('lifetime', bins=lifetime['lifetime'].max(), figsize=(15,6))\n",
    "\n",
    "plt.axvline(x=lifetime['lifetime'].quantile(0.75),\n",
    "            color='gray',\n",
    "            linestyle='--')\n",
    "\n",
    "plt.xlabel('Лайфтайм')\n",
    "plt.ylabel('Количество')\n",
    "plt.title('Распределение длины лайфтайма')\n",
    "plt.show();\n",
    "\n",
    "print('Длина лайфтайма событий у 75% пользователей: {}'.format(lifetime['lifetime'].quantile(0.75)))"
   ]
  },
  {
   "cell_type": "code",
   "execution_count": 29,
   "id": "4a17c01a",
   "metadata": {},
   "outputs": [
    {
     "name": "stdout",
     "output_type": "stream",
     "text": [
      "Всего пользователей после фильтрации: 3227\n"
     ]
    }
   ],
   "source": [
    "ab_data = ab_data.merge(lifetime[['user_id', 'lifetime']], on='user_id')\n",
    "\n",
    "horizont_rate = (ab_data['event_dt'].max() - timedelta(days=8)).date()\n",
    "\n",
    "ab_data = ab_data.query('first_date <= @horizont_rate')\n",
    "\n",
    "ab_data = ab_data.query('lifetime <= 14')\n",
    "\n",
    "print('Всего пользователей после фильтрации: {}'.format(len(ab_data['user_id'].unique())))"
   ]
  },
  {
   "cell_type": "markdown",
   "id": "163ed719",
   "metadata": {},
   "source": [
    "## Промежуточный вывод\n",
    "\n",
    "Данные не полностью согласуются с техническим заданием.  Названия групп, теста, временные рамки, регион и размер аудитории соответствуют заявленным до фильтрации. Горизонт событий уменьшен до 9  дней для увеличения размера выборки.\n",
    "\n",
    "- После фильтрации оказалось, что выборка сократилась почти вдвое, многие пользователи не совершали действий по невыявленным причинам. \n",
    "- В выборку попали  пользователи из других регионов.\n",
    "- В контрольной и целевой группе были пользователи из конкурирующего теста.\n",
    "- Тест проводился по время промо-акции."
   ]
  },
  {
   "cell_type": "markdown",
   "id": "37f8f57f",
   "metadata": {},
   "source": [
    "# Исследовательский анализ данных"
   ]
  },
  {
   "cell_type": "markdown",
   "id": "cceb6c52",
   "metadata": {},
   "source": [
    "#### Посмотрим на количество событий в группах."
   ]
  },
  {
   "cell_type": "code",
   "execution_count": 30,
   "id": "fc564d43",
   "metadata": {},
   "outputs": [
    {
     "data": {
      "image/png": "[encoded data removed]",
      "text/plain": [
       "<Figure size 1080x432 with 1 Axes>"
      ]
     },
     "metadata": {},
     "output_type": "display_data"
    }
   ],
   "source": [
    "events_group = (\n",
    "    ab_data\n",
    "    .groupby(['group', 'event_name'])\n",
    "    .agg({'user_id':'nunique'})\n",
    "    .reset_index()\n",
    ")\n",
    "\n",
    "fig, ax = plt.subplots(figsize=(15, 6))\n",
    "sns.barplot(data=events_group, x='event_name', y='user_id', hue='group')\n",
    "\n",
    "plt.title('Заголовок графика')\n",
    "plt.xlabel(u'Название оси Х')\n",
    "plt.ylabel(u'Название оси У')\n",
    "\n",
    "plt.title('Количество событий в группах')\n",
    "plt.xlabel('СОбытие')\n",
    "plt.ylabel('Количество');"
   ]
  },
  {
   "cell_type": "markdown",
   "id": "27f93272",
   "metadata": {},
   "source": [
    "Распределение событий в группах соответствует численности групп. Всё выглядит нормально. "
   ]
  },
  {
   "cell_type": "markdown",
   "id": "db87568e",
   "metadata": {},
   "source": [
    "#### Посмотрим на распределение событий по дням."
   ]
  },
  {
   "cell_type": "code",
   "execution_count": 31,
   "id": "23b6af4c",
   "metadata": {},
   "outputs": [
    {
     "data": {
      "image/png": "[encoded data removed]",
      "text/plain": [
       "<Figure size 1080x432 with 1 Axes>"
      ]
     },
     "metadata": {},
     "output_type": "display_data"
    }
   ],
   "source": [
    "events_group = (\n",
    "    ab_data\n",
    "    .groupby(['group', 'event_name', 'event_dt'])\n",
    "    .agg({'user_id':'nunique'})\n",
    "    .reset_index()\n",
    ")\n",
    "\n",
    "fig, ax = plt.subplots(figsize=(15, 6))\n",
    "sns.lineplot(data=events_group, x='event_dt', y='user_id', hue='group')\n",
    "\n",
    "plt.title('Количество событий по дням')\n",
    "plt.xlabel('Дата')\n",
    "plt.ylabel('Активность');"
   ]
  },
  {
   "cell_type": "markdown",
   "id": "5c9a1cf5",
   "metadata": {},
   "source": [
    "Группы ведут себя похоже. 13 декабря наступает момент, после котого начинается бурная активность пользователей."
   ]
  },
  {
   "cell_type": "markdown",
   "id": "83ce9cbf",
   "metadata": {},
   "source": [
    "Для трех четвертей пользователей первое целевое событие происходит в течение 9 дней после регистрации. Примем это за горизонт событий для нашего теста."
   ]
  },
  {
   "cell_type": "markdown",
   "id": "ca6162ab",
   "metadata": {},
   "source": [
    "#### Проверим распределение событий на пользователя в группах"
   ]
  },
  {
   "cell_type": "code",
   "execution_count": 32,
   "id": "1e5d4a99",
   "metadata": {
    "scrolled": false
   },
   "outputs": [
    {
     "data": {
      "text/html": [
       "<div>\n",
       "<style scoped>\n",
       "    .dataframe tbody tr th:only-of-type {\n",
       "        vertical-align: middle;\n",
       "    }\n",
       "\n",
       "    .dataframe tbody tr th {\n",
       "        vertical-align: top;\n",
       "    }\n",
       "\n",
       "    .dataframe thead th {\n",
       "        text-align: right;\n",
       "    }\n",
       "</style>\n",
       "<table border=\"1\" class=\"dataframe\">\n",
       "  <thead>\n",
       "    <tr style=\"text-align: right;\">\n",
       "      <th></th>\n",
       "      <th>group</th>\n",
       "      <th>user_id</th>\n",
       "      <th>event_name</th>\n",
       "    </tr>\n",
       "  </thead>\n",
       "  <tbody>\n",
       "    <tr>\n",
       "      <th>0</th>\n",
       "      <td>A</td>\n",
       "      <td>0010A1C096941592</td>\n",
       "      <td>3</td>\n",
       "    </tr>\n",
       "    <tr>\n",
       "      <th>1</th>\n",
       "      <td>A</td>\n",
       "      <td>00341D8401F0F665</td>\n",
       "      <td>1</td>\n",
       "    </tr>\n",
       "    <tr>\n",
       "      <th>2</th>\n",
       "      <td>A</td>\n",
       "      <td>003DF44D7589BBD4</td>\n",
       "      <td>3</td>\n",
       "    </tr>\n",
       "    <tr>\n",
       "      <th>3</th>\n",
       "      <td>A</td>\n",
       "      <td>00505E15A9D81546</td>\n",
       "      <td>1</td>\n",
       "    </tr>\n",
       "    <tr>\n",
       "      <th>4</th>\n",
       "      <td>A</td>\n",
       "      <td>006E3E4E232CE760</td>\n",
       "      <td>2</td>\n",
       "    </tr>\n",
       "  </tbody>\n",
       "</table>\n",
       "</div>"
      ],
      "text/plain": [
       "  group           user_id  event_name\n",
       "0  A     0010A1C096941592  3         \n",
       "1  A     00341D8401F0F665  1         \n",
       "2  A     003DF44D7589BBD4  3         \n",
       "3  A     00505E15A9D81546  1         \n",
       "4  A     006E3E4E232CE760  2         "
      ]
     },
     "metadata": {},
     "output_type": "display_data"
    },
    {
     "name": "stdout",
     "output_type": "stream",
     "text": [
      "group A\n"
     ]
    },
    {
     "data": {
      "text/html": [
       "<div>\n",
       "<style scoped>\n",
       "    .dataframe tbody tr th:only-of-type {\n",
       "        vertical-align: middle;\n",
       "    }\n",
       "\n",
       "    .dataframe tbody tr th {\n",
       "        vertical-align: top;\n",
       "    }\n",
       "\n",
       "    .dataframe thead th {\n",
       "        text-align: right;\n",
       "    }\n",
       "</style>\n",
       "<table border=\"1\" class=\"dataframe\">\n",
       "  <thead>\n",
       "    <tr style=\"text-align: right;\">\n",
       "      <th></th>\n",
       "      <th>event_name</th>\n",
       "    </tr>\n",
       "  </thead>\n",
       "  <tbody>\n",
       "    <tr>\n",
       "      <th>count</th>\n",
       "      <td>2459.000000</td>\n",
       "    </tr>\n",
       "    <tr>\n",
       "      <th>mean</th>\n",
       "      <td>2.276129</td>\n",
       "    </tr>\n",
       "    <tr>\n",
       "      <th>std</th>\n",
       "      <td>0.841728</td>\n",
       "    </tr>\n",
       "    <tr>\n",
       "      <th>min</th>\n",
       "      <td>1.000000</td>\n",
       "    </tr>\n",
       "    <tr>\n",
       "      <th>25%</th>\n",
       "      <td>2.000000</td>\n",
       "    </tr>\n",
       "    <tr>\n",
       "      <th>50%</th>\n",
       "      <td>2.000000</td>\n",
       "    </tr>\n",
       "    <tr>\n",
       "      <th>75%</th>\n",
       "      <td>3.000000</td>\n",
       "    </tr>\n",
       "    <tr>\n",
       "      <th>max</th>\n",
       "      <td>4.000000</td>\n",
       "    </tr>\n",
       "  </tbody>\n",
       "</table>\n",
       "</div>"
      ],
      "text/plain": [
       "        event_name\n",
       "count  2459.000000\n",
       "mean   2.276129   \n",
       "std    0.841728   \n",
       "min    1.000000   \n",
       "25%    2.000000   \n",
       "50%    2.000000   \n",
       "75%    3.000000   \n",
       "max    4.000000   "
      ]
     },
     "metadata": {},
     "output_type": "display_data"
    },
    {
     "name": "stdout",
     "output_type": "stream",
     "text": [
      "group B\n"
     ]
    },
    {
     "data": {
      "text/html": [
       "<div>\n",
       "<style scoped>\n",
       "    .dataframe tbody tr th:only-of-type {\n",
       "        vertical-align: middle;\n",
       "    }\n",
       "\n",
       "    .dataframe tbody tr th {\n",
       "        vertical-align: top;\n",
       "    }\n",
       "\n",
       "    .dataframe thead th {\n",
       "        text-align: right;\n",
       "    }\n",
       "</style>\n",
       "<table border=\"1\" class=\"dataframe\">\n",
       "  <thead>\n",
       "    <tr style=\"text-align: right;\">\n",
       "      <th></th>\n",
       "      <th>event_name</th>\n",
       "    </tr>\n",
       "  </thead>\n",
       "  <tbody>\n",
       "    <tr>\n",
       "      <th>count</th>\n",
       "      <td>768.000000</td>\n",
       "    </tr>\n",
       "    <tr>\n",
       "      <th>mean</th>\n",
       "      <td>2.132812</td>\n",
       "    </tr>\n",
       "    <tr>\n",
       "      <th>std</th>\n",
       "      <td>0.848692</td>\n",
       "    </tr>\n",
       "    <tr>\n",
       "      <th>min</th>\n",
       "      <td>1.000000</td>\n",
       "    </tr>\n",
       "    <tr>\n",
       "      <th>25%</th>\n",
       "      <td>2.000000</td>\n",
       "    </tr>\n",
       "    <tr>\n",
       "      <th>50%</th>\n",
       "      <td>2.000000</td>\n",
       "    </tr>\n",
       "    <tr>\n",
       "      <th>75%</th>\n",
       "      <td>3.000000</td>\n",
       "    </tr>\n",
       "    <tr>\n",
       "      <th>max</th>\n",
       "      <td>4.000000</td>\n",
       "    </tr>\n",
       "  </tbody>\n",
       "</table>\n",
       "</div>"
      ],
      "text/plain": [
       "       event_name\n",
       "count  768.000000\n",
       "mean   2.132812  \n",
       "std    0.848692  \n",
       "min    1.000000  \n",
       "25%    2.000000  \n",
       "50%    2.000000  \n",
       "75%    3.000000  \n",
       "max    4.000000  "
      ]
     },
     "metadata": {},
     "output_type": "display_data"
    }
   ],
   "source": [
    "events_users = (\n",
    "    ab_data\n",
    "    .groupby(['group', 'user_id'])\n",
    "    .agg({'event_name':'nunique'})\n",
    "    .reset_index()\n",
    ")\n",
    "\n",
    "display(events_users.head())\n",
    "\n",
    "print('group A')\n",
    "display(events_users[events_users['group']=='A'].describe())\n",
    "\n",
    "print('group B')\n",
    "display(events_users[events_users['group']=='B'].describe())"
   ]
  },
  {
   "cell_type": "markdown",
   "id": "10afd4af",
   "metadata": {},
   "source": [
    "Проверяем количество уникальных событий у пользователей, потому что, в контексте этого исследования, нас интересует, посещал ли он конкретную страницу, а не сколько раз. Группы выглядят похожими."
   ]
  },
  {
   "cell_type": "code",
   "execution_count": 33,
   "id": "35cf95ee",
   "metadata": {},
   "outputs": [
    {
     "data": {
      "image/png": "[encoded data removed]",
      "text/plain": [
       "<Figure size 1080x432 with 1 Axes>"
      ]
     },
     "metadata": {},
     "output_type": "display_data"
    }
   ],
   "source": [
    "fig, ax = plt.subplots(figsize=(15, 6))\n",
    "\n",
    "sns.histplot(data=events_users, x='event_name', hue='group', bins=4, multiple='dodge', kde=True)\n",
    "\n",
    "plt.title('Частота событий на пользователя')\n",
    "plt.xlabel('Событий')\n",
    "plt.ylabel('Частота');"
   ]
  },
  {
   "cell_type": "markdown",
   "id": "b788ed31",
   "metadata": {},
   "source": [
    "В группе А пропорционально больше активности. В среднем. у пользователей изобоих групп по 2 события."
   ]
  },
  {
   "cell_type": "markdown",
   "id": "187e9757",
   "metadata": {},
   "source": [
    "#### Проверим, как меняется конверсия в воронке в выборках на разных этапах"
   ]
  },
  {
   "cell_type": "code",
   "execution_count": 34,
   "id": "eb864823",
   "metadata": {},
   "outputs": [],
   "source": [
    "def get_conversion(group):\n",
    "    conversion = (\n",
    "        ab_data\n",
    "        [ab_data['group']==group]\n",
    "        .groupby('event_name')\n",
    "        .agg({'user_id':'nunique'})\n",
    "        .reset_index()\n",
    "        .rename(columns={'user_id':'users'})\n",
    "        .reindex([0, 2, 1, 3])\n",
    "    )\n",
    "\n",
    "    conversion['total'] = len(ab_data[ab_data['group']==group]['user_id'].unique())\n",
    "\n",
    "    conversion['conversion'] = (conversion['users'] / conversion['total'] * 100).round(1)\n",
    "    \n",
    "    return conversion"
   ]
  },
  {
   "cell_type": "code",
   "execution_count": 35,
   "id": "5c07796b",
   "metadata": {},
   "outputs": [
    {
     "data": {
      "text/html": [
       "<div>\n",
       "<style scoped>\n",
       "    .dataframe tbody tr th:only-of-type {\n",
       "        vertical-align: middle;\n",
       "    }\n",
       "\n",
       "    .dataframe tbody tr th {\n",
       "        vertical-align: top;\n",
       "    }\n",
       "\n",
       "    .dataframe thead th {\n",
       "        text-align: right;\n",
       "    }\n",
       "</style>\n",
       "<table border=\"1\" class=\"dataframe\">\n",
       "  <thead>\n",
       "    <tr style=\"text-align: right;\">\n",
       "      <th></th>\n",
       "      <th>event_name</th>\n",
       "      <th>users</th>\n",
       "      <th>total</th>\n",
       "      <th>conversion</th>\n",
       "    </tr>\n",
       "  </thead>\n",
       "  <tbody>\n",
       "    <tr>\n",
       "      <th>0</th>\n",
       "      <td>login</td>\n",
       "      <td>2459</td>\n",
       "      <td>2459</td>\n",
       "      <td>100.0</td>\n",
       "    </tr>\n",
       "    <tr>\n",
       "      <th>2</th>\n",
       "      <td>product_page</td>\n",
       "      <td>1591</td>\n",
       "      <td>2459</td>\n",
       "      <td>64.7</td>\n",
       "    </tr>\n",
       "    <tr>\n",
       "      <th>1</th>\n",
       "      <td>product_cart</td>\n",
       "      <td>748</td>\n",
       "      <td>2459</td>\n",
       "      <td>30.4</td>\n",
       "    </tr>\n",
       "    <tr>\n",
       "      <th>3</th>\n",
       "      <td>purchase</td>\n",
       "      <td>799</td>\n",
       "      <td>2459</td>\n",
       "      <td>32.5</td>\n",
       "    </tr>\n",
       "  </tbody>\n",
       "</table>\n",
       "</div>"
      ],
      "text/plain": [
       "     event_name  users  total  conversion\n",
       "0  login         2459   2459   100.0     \n",
       "2  product_page  1591   2459   64.7      \n",
       "1  product_cart  748    2459   30.4      \n",
       "3  purchase      799    2459   32.5      "
      ]
     },
     "metadata": {},
     "output_type": "display_data"
    },
    {
     "data": {
      "text/html": [
       "<div>\n",
       "<style scoped>\n",
       "    .dataframe tbody tr th:only-of-type {\n",
       "        vertical-align: middle;\n",
       "    }\n",
       "\n",
       "    .dataframe tbody tr th {\n",
       "        vertical-align: top;\n",
       "    }\n",
       "\n",
       "    .dataframe thead th {\n",
       "        text-align: right;\n",
       "    }\n",
       "</style>\n",
       "<table border=\"1\" class=\"dataframe\">\n",
       "  <thead>\n",
       "    <tr style=\"text-align: right;\">\n",
       "      <th></th>\n",
       "      <th>event_name</th>\n",
       "      <th>users</th>\n",
       "      <th>total</th>\n",
       "      <th>conversion</th>\n",
       "    </tr>\n",
       "  </thead>\n",
       "  <tbody>\n",
       "    <tr>\n",
       "      <th>0</th>\n",
       "      <td>login</td>\n",
       "      <td>768</td>\n",
       "      <td>768</td>\n",
       "      <td>100.0</td>\n",
       "    </tr>\n",
       "    <tr>\n",
       "      <th>2</th>\n",
       "      <td>product_page</td>\n",
       "      <td>432</td>\n",
       "      <td>768</td>\n",
       "      <td>56.2</td>\n",
       "    </tr>\n",
       "    <tr>\n",
       "      <th>1</th>\n",
       "      <td>product_cart</td>\n",
       "      <td>218</td>\n",
       "      <td>768</td>\n",
       "      <td>28.4</td>\n",
       "    </tr>\n",
       "    <tr>\n",
       "      <th>3</th>\n",
       "      <td>purchase</td>\n",
       "      <td>220</td>\n",
       "      <td>768</td>\n",
       "      <td>28.6</td>\n",
       "    </tr>\n",
       "  </tbody>\n",
       "</table>\n",
       "</div>"
      ],
      "text/plain": [
       "     event_name  users  total  conversion\n",
       "0  login         768    768    100.0     \n",
       "2  product_page  432    768    56.2      \n",
       "1  product_cart  218    768    28.4      \n",
       "3  purchase      220    768    28.6      "
      ]
     },
     "metadata": {},
     "output_type": "display_data"
    }
   ],
   "source": [
    "conversion_a = get_conversion('A')\n",
    "conversion_b = get_conversion('B')\n",
    "display(conversion_a)\n",
    "display(conversion_b)"
   ]
  },
  {
   "cell_type": "markdown",
   "id": "fe617b43",
   "metadata": {},
   "source": [
    "В обоих группах покупок больше, чем добавлений товара в корзину. Это значит только то, что некоторые покупают без использования корзины. В группе В конверсия стабильно ниже, чем в группе А."
   ]
  },
  {
   "cell_type": "markdown",
   "id": "ffa6d6b4",
   "metadata": {},
   "source": [
    "## Итоги исследовательского анализа\n",
    "\n",
    "Распределение событий в группах пропорционально их размеру. \n",
    "\n",
    "Было принято решение уменьшить горизонт событий до 9 дней, потому что у большинства пользователей целевое действие происходило доэтого срока и нет смысла отсеивать еще больше людей, ведь выборка и без того сильно просела."
   ]
  },
  {
   "cell_type": "markdown",
   "id": "a3c0808b",
   "metadata": {},
   "source": [
    "# Оценка результатов A/B-тестирования"
   ]
  },
  {
   "cell_type": "markdown",
   "id": "da56d989",
   "metadata": {},
   "source": [
    "Подготовим функцию"
   ]
  },
  {
   "cell_type": "code",
   "execution_count": 36,
   "id": "21483459",
   "metadata": {},
   "outputs": [],
   "source": [
    "def z_test(event_name, alpha=0.05):\n",
    "\n",
    "    users1 = conversion_a[conversion_a['event_name']==event_name]['users'].tolist()[0]\n",
    "    users2 = conversion_b[conversion_b['event_name']==event_name]['users'].tolist()[0]\n",
    "    total1 = conversion_a[conversion_a['event_name']==event_name]['total'].tolist()[0]\n",
    "    total2 = conversion_b[conversion_b['event_name']==event_name]['total'].tolist()[0]\n",
    "    \n",
    "    p1 = users1 / total1\n",
    "    p2 = users2 / total2\n",
    "\n",
    "    p_combined = (users1 + users2) / (total1 + total2)\n",
    "    difference = p1 - p2\n",
    "\n",
    "    z_value = difference / mth.sqrt(p_combined * (1 - p_combined) * (1/total1 + 1/total2)) \n",
    "    distr = st.norm(0, 1)  \n",
    "    p_value = (1 - distr.cdf(abs(z_value))) * 2 \n",
    "    print('p-значение: ', p_value)\n",
    "\n",
    "    if (p_value < alpha): \n",
    "        print('Отвергаем нулевую гипотезу, между выборками есть статистически значимые различия')\n",
    "    else:\n",
    "        print('Не получилось отвергнуть нулевую гипотезу, статистически значимых различий в выборках нет')"
   ]
  },
  {
   "cell_type": "code",
   "execution_count": 37,
   "id": "b1dd2f4a",
   "metadata": {},
   "outputs": [
    {
     "name": "stdout",
     "output_type": "stream",
     "text": [
      "p-значение:  2.3653023153658026e-05\n",
      "Отвергаем нулевую гипотезу, между выборками есть статистически значимые различия\n"
     ]
    }
   ],
   "source": [
    "z_test('product_page')"
   ]
  },
  {
   "cell_type": "markdown",
   "id": "93b62180",
   "metadata": {},
   "source": [
    "Между конверсией в просмотр карточек товаров в группах есть статистически значимая разница. Причем, p-value близок к нулю."
   ]
  },
  {
   "cell_type": "code",
   "execution_count": 38,
   "id": "b314c8c2",
   "metadata": {},
   "outputs": [
    {
     "name": "stdout",
     "output_type": "stream",
     "text": [
      "p-значение:  0.28276690223194123\n",
      "Не получилось отвергнуть нулевую гипотезу, статистически значимых различий в выборках нет\n"
     ]
    }
   ],
   "source": [
    "z_test('product_cart')"
   ]
  },
  {
   "cell_type": "markdown",
   "id": "2969bc1d",
   "metadata": {},
   "source": [
    "Между конверсией в просмотр корзины в группах нет статистически значимой разницы. Причем, p-value очень сильно к единице, разница крайне мала."
   ]
  },
  {
   "cell_type": "code",
   "execution_count": 39,
   "id": "ab6458f7",
   "metadata": {},
   "outputs": [
    {
     "name": "stdout",
     "output_type": "stream",
     "text": [
      "p-значение:  0.04526664615445464\n",
      "Отвергаем нулевую гипотезу, между выборками есть статистически значимые различия\n"
     ]
    }
   ],
   "source": [
    "z_test('purchase')"
   ]
  },
  {
   "cell_type": "markdown",
   "id": "755675db",
   "metadata": {},
   "source": [
    "Между конверсией в покупки в группах нет статистически значимой разницы."
   ]
  },
  {
   "cell_type": "markdown",
   "id": "56c10ea0",
   "metadata": {},
   "source": [
    "# Выводы\n",
    "\n",
    "Результаты исследования не соответствуют техническому заданию: конверсия значимо не изменилась (только в просмотр карточек товаров, но, судя по выборке, не в большую сторону).\n",
    "\n",
    "#### Тест не был проведен корректно.\n",
    "Множество неверных данных, ошибок при распределении пользователей, техничские проблемы, сильное сокращение участников исследования не дают повода назвать этот тест корректным."
   ]
  }
 ],
 "metadata": {
  "ExecuteTimeLog": [
   {
    "duration": 1261,
    "start_time": "2022-10-21T07:16:53.209Z"
   },
   {
    "duration": 1950,
    "start_time": "2022-10-21T07:16:54.472Z"
   },
   {
    "duration": 117,
    "start_time": "2022-10-21T07:16:56.423Z"
   },
   {
    "duration": 382,
    "start_time": "2022-10-21T07:16:56.543Z"
   },
   {
    "duration": 5,
    "start_time": "2022-10-21T07:16:56.927Z"
   },
   {
    "duration": 82,
    "start_time": "2022-10-21T07:16:56.934Z"
   },
   {
    "duration": 206,
    "start_time": "2022-10-21T07:16:57.018Z"
   },
   {
    "duration": 48,
    "start_time": "2022-10-21T07:16:57.225Z"
   },
   {
    "duration": 65,
    "start_time": "2022-10-21T07:16:57.275Z"
   },
   {
    "duration": 51,
    "start_time": "2022-10-21T07:16:57.343Z"
   },
   {
    "duration": 239,
    "start_time": "2022-10-21T07:16:57.396Z"
   },
   {
    "duration": 26,
    "start_time": "2022-10-21T07:16:57.637Z"
   },
   {
    "duration": 30,
    "start_time": "2022-10-21T07:16:57.665Z"
   },
   {
    "duration": 15,
    "start_time": "2022-10-21T07:16:57.697Z"
   },
   {
    "duration": 51,
    "start_time": "2022-10-21T07:16:57.713Z"
   },
   {
    "duration": 36,
    "start_time": "2022-10-21T07:16:57.766Z"
   },
   {
    "duration": 11,
    "start_time": "2022-10-21T07:16:57.804Z"
   },
   {
    "duration": 389,
    "start_time": "2022-10-21T07:16:57.816Z"
   },
   {
    "duration": 13,
    "start_time": "2022-10-21T07:16:58.207Z"
   },
   {
    "duration": 16,
    "start_time": "2022-10-21T07:16:58.221Z"
   },
   {
    "duration": 23,
    "start_time": "2022-10-21T07:16:58.239Z"
   },
   {
    "duration": 35,
    "start_time": "2022-10-21T07:16:58.264Z"
   },
   {
    "duration": 7,
    "start_time": "2022-10-21T07:16:58.300Z"
   },
   {
    "duration": 324,
    "start_time": "2022-10-21T07:16:58.308Z"
   },
   {
    "duration": 25,
    "start_time": "2022-10-21T07:16:58.633Z"
   },
   {
    "duration": 225,
    "start_time": "2022-10-21T07:16:58.659Z"
   },
   {
    "duration": 1140,
    "start_time": "2022-10-21T07:16:58.894Z"
   },
   {
    "duration": 368,
    "start_time": "2022-10-21T07:17:00.038Z"
   },
   {
    "duration": 44,
    "start_time": "2022-10-21T07:17:00.407Z"
   },
   {
    "duration": 5,
    "start_time": "2022-10-21T07:17:00.453Z"
   },
   {
    "duration": 99,
    "start_time": "2022-10-21T07:17:00.459Z"
   },
   {
    "duration": 6,
    "start_time": "2022-10-21T07:17:00.560Z"
   },
   {
    "duration": 51,
    "start_time": "2022-10-21T07:17:00.568Z"
   },
   {
    "duration": 26,
    "start_time": "2022-10-21T07:17:00.621Z"
   },
   {
    "duration": 32,
    "start_time": "2022-10-21T07:17:00.649Z"
   },
   {
    "duration": 6,
    "start_time": "2022-10-21T07:35:24.954Z"
   },
   {
    "duration": 8,
    "start_time": "2022-10-21T07:35:26.034Z"
   },
   {
    "duration": 8,
    "start_time": "2022-10-21T07:35:27.441Z"
   },
   {
    "duration": 8,
    "start_time": "2022-10-21T07:35:28.295Z"
   },
   {
    "duration": 7,
    "start_time": "2022-10-21T07:35:35.590Z"
   },
   {
    "duration": 7,
    "start_time": "2022-10-21T07:35:35.777Z"
   },
   {
    "duration": 8,
    "start_time": "2022-10-21T07:35:36.036Z"
   },
   {
    "duration": 7,
    "start_time": "2022-10-21T07:35:36.327Z"
   }
  ],
  "kernelspec": {
   "display_name": "Python 3 (ipykernel)",
   "language": "python",
   "name": "python3"
  },
  "language_info": {
   "codemirror_mode": {
    "name": "ipython",
    "version": 3
   },
   "file_extension": ".py",
   "mimetype": "text/x-python",
   "name": "python",
   "nbconvert_exporter": "python",
   "pygments_lexer": "ipython3",
   "version": "3.9.12"
  },
  "toc": {
   "base_numbering": 1,
   "nav_menu": {},
   "number_sections": true,
   "sideBar": true,
   "skip_h1_title": true,
   "title_cell": "Table of Contents",
   "title_sidebar": "Contents",
   "toc_cell": false,
   "toc_position": {},
   "toc_section_display": true,
   "toc_window_display": false
  }
 },
 "nbformat": 4,
 "nbformat_minor": 5
}
