{
 "cells": [
  {
   "cell_type": "markdown",
   "id": "b2f3edc4",
   "metadata": {},
   "source": [
    "# Рынок заведений общественного питания Москвы"
   ]
  },
  {
   "cell_type": "markdown",
   "id": "8052729d",
   "metadata": {},
   "source": [
    "# Описание проекта\n",
    "Исследование рынка для небольшого кафе с роботами-официантами. Необходимо провести исследование рынка общественного питания в Москве по отткрытым данным для оценки текущего положения дел в этой сфере. "
   ]
  },
  {
   "cell_type": "markdown",
   "id": "7aaf8ae8",
   "metadata": {},
   "source": [
    "# Обзор данных"
   ]
  },
  {
   "cell_type": "code",
   "execution_count": 1,
   "id": "446f7fce",
   "metadata": {},
   "outputs": [],
   "source": [
    "import pandas as pd\n",
    "import seaborn as sns\n",
    "import matplotlib.pyplot as plt\n",
    "import plotly.express as px\n",
    "import re\n",
    "\n",
    "sns.color_palette(\"ch:s=.25,rot=-.25\", as_cmap=True)\n",
    "\n",
    "pd.options.display.max_colwidth = 1\n",
    "\n",
    "try:\n",
    "    data = pd.read_csv('/datasets/rest_data.csv')\n",
    "except:\n",
    "    data = pd.read_csv('datasets/rest_data.csv')"
   ]
  },
  {
   "cell_type": "code",
   "execution_count": 2,
   "id": "6880a9bb",
   "metadata": {
    "scrolled": false
   },
   "outputs": [
    {
     "data": {
      "text/html": [
       "<div>\n",
       "<style scoped>\n",
       "    .dataframe tbody tr th:only-of-type {\n",
       "        vertical-align: middle;\n",
       "    }\n",
       "\n",
       "    .dataframe tbody tr th {\n",
       "        vertical-align: top;\n",
       "    }\n",
       "\n",
       "    .dataframe thead th {\n",
       "        text-align: right;\n",
       "    }\n",
       "</style>\n",
       "<table border=\"1\" class=\"dataframe\">\n",
       "  <thead>\n",
       "    <tr style=\"text-align: right;\">\n",
       "      <th></th>\n",
       "      <th>id</th>\n",
       "      <th>object_name</th>\n",
       "      <th>chain</th>\n",
       "      <th>object_type</th>\n",
       "      <th>address</th>\n",
       "      <th>number</th>\n",
       "    </tr>\n",
       "  </thead>\n",
       "  <tbody>\n",
       "    <tr>\n",
       "      <th>0</th>\n",
       "      <td>151635</td>\n",
       "      <td>СМЕТАНА</td>\n",
       "      <td>нет</td>\n",
       "      <td>кафе</td>\n",
       "      <td>город Москва, улица Егора Абакумова, дом 9</td>\n",
       "      <td>48</td>\n",
       "    </tr>\n",
       "    <tr>\n",
       "      <th>1</th>\n",
       "      <td>77874</td>\n",
       "      <td>Родник</td>\n",
       "      <td>нет</td>\n",
       "      <td>кафе</td>\n",
       "      <td>город Москва, улица Талалихина, дом 2/1, корпус 1</td>\n",
       "      <td>35</td>\n",
       "    </tr>\n",
       "    <tr>\n",
       "      <th>2</th>\n",
       "      <td>24309</td>\n",
       "      <td>Кафе «Академия»</td>\n",
       "      <td>нет</td>\n",
       "      <td>кафе</td>\n",
       "      <td>город Москва, Абельмановская улица, дом 6</td>\n",
       "      <td>95</td>\n",
       "    </tr>\n",
       "    <tr>\n",
       "      <th>3</th>\n",
       "      <td>21894</td>\n",
       "      <td>ПИЦЦЕТОРИЯ</td>\n",
       "      <td>да</td>\n",
       "      <td>кафе</td>\n",
       "      <td>город Москва, Абрамцевская улица, дом 1</td>\n",
       "      <td>40</td>\n",
       "    </tr>\n",
       "    <tr>\n",
       "      <th>4</th>\n",
       "      <td>119365</td>\n",
       "      <td>Кафе «Вишневая метель»</td>\n",
       "      <td>нет</td>\n",
       "      <td>кафе</td>\n",
       "      <td>город Москва, Абрамцевская улица, дом 9, корпус 1</td>\n",
       "      <td>50</td>\n",
       "    </tr>\n",
       "  </tbody>\n",
       "</table>\n",
       "</div>"
      ],
      "text/plain": [
       "       id             object_name chain object_type  \\\n",
       "0  151635  СМЕТАНА                 нет   кафе         \n",
       "1  77874   Родник                  нет   кафе         \n",
       "2  24309   Кафе «Академия»         нет   кафе         \n",
       "3  21894   ПИЦЦЕТОРИЯ              да    кафе         \n",
       "4  119365  Кафе «Вишневая метель»  нет   кафе         \n",
       "\n",
       "                                             address  number  \n",
       "0  город Москва, улица Егора Абакумова, дом 9         48      \n",
       "1  город Москва, улица Талалихина, дом 2/1, корпус 1  35      \n",
       "2  город Москва, Абельмановская улица, дом 6          95      \n",
       "3  город Москва, Абрамцевская улица, дом 1            40      \n",
       "4  город Москва, Абрамцевская улица, дом 9, корпус 1  50      "
      ]
     },
     "metadata": {},
     "output_type": "display_data"
    },
    {
     "name": "stdout",
     "output_type": "stream",
     "text": [
      "<class 'pandas.core.frame.DataFrame'>\n",
      "RangeIndex: 15366 entries, 0 to 15365\n",
      "Data columns (total 6 columns):\n",
      " #   Column       Non-Null Count  Dtype \n",
      "---  ------       --------------  ----- \n",
      " 0   id           15366 non-null  int64 \n",
      " 1   object_name  15366 non-null  object\n",
      " 2   chain        15366 non-null  object\n",
      " 3   object_type  15366 non-null  object\n",
      " 4   address      15366 non-null  object\n",
      " 5   number       15366 non-null  int64 \n",
      "dtypes: int64(2), object(4)\n",
      "memory usage: 720.4+ KB\n"
     ]
    }
   ],
   "source": [
    "display(data.head())\n",
    "data.info()"
   ]
  },
  {
   "cell_type": "markdown",
   "id": "01c668c9",
   "metadata": {},
   "source": [
    "На первый взгляд, данные выглядят нормально. Типы данных соответствуют ячейке, названия колонок в удобном формате, данные выглядят правильно. Проверим пару моментов:"
   ]
  },
  {
   "cell_type": "code",
   "execution_count": 3,
   "id": "9832cd78",
   "metadata": {},
   "outputs": [
    {
     "name": "stdout",
     "output_type": "stream",
     "text": [
      "Количество полных дубликатов: 0\n"
     ]
    }
   ],
   "source": [
    "print(f'Количество полных дубликатов: {data.duplicated().sum()}')"
   ]
  },
  {
   "cell_type": "code",
   "execution_count": 4,
   "id": "b0aa1bec",
   "metadata": {},
   "outputs": [
    {
     "name": "stdout",
     "output_type": "stream",
     "text": [
      "Количество пропусков: id             0\n",
      "object_name    0\n",
      "chain          0\n",
      "object_type    0\n",
      "address        0\n",
      "number         0\n",
      "dtype: int64\n"
     ]
    }
   ],
   "source": [
    "print(f'Количество пропусков: {data.isna().sum()}')"
   ]
  },
  {
   "cell_type": "markdown",
   "id": "a6e6ae48",
   "metadata": {},
   "source": [
    "Ни дубликатов, ни пропусков."
   ]
  },
  {
   "cell_type": "code",
   "execution_count": 5,
   "id": "80ce8c53",
   "metadata": {
    "scrolled": false
   },
   "outputs": [
    {
     "name": "stdout",
     "output_type": "stream",
     "text": [
      "163840    1\n",
      "207007    1\n",
      "58806     1\n",
      "198074    1\n",
      "150035    1\n",
      "         ..\n",
      "29419     1\n",
      "69506     1\n",
      "23278     1\n",
      "185071    1\n",
      "167934    1\n",
      "Name: id, Length: 15366, dtype: int64\n",
      "\n",
      "Столовая                              267\n",
      "Кафе                                  236\n",
      "Шаурма                                234\n",
      "KFC                                   155\n",
      "Шоколадница                           142\n",
      "                                     ... \n",
      "Лачи                                  1  \n",
      "Ресторан «КОРАЛЛ»                     1  \n",
      "Frank by Баста                        1  \n",
      "Кафе Оджахури                         1  \n",
      "Кафе «ЦЕНТРАЛЬНЫЙ ДОМ ЛИТЕРАТОРОВ»    1  \n",
      "Name: object_name, Length: 10393, dtype: int64\n",
      "\n",
      "нет    12398\n",
      "да     2968 \n",
      "Name: chain, dtype: int64\n",
      "\n",
      "кафе                                 6099\n",
      "столовая                             2587\n",
      "ресторан                             2285\n",
      "предприятие быстрого обслуживания    1923\n",
      "бар                                  856 \n",
      "буфет                                585 \n",
      "кафетерий                            398 \n",
      "закусочная                           360 \n",
      "магазин (отдел кулинарии)            273 \n",
      "Name: object_type, dtype: int64\n",
      "\n",
      "город Москва, Ходынский бульвар, дом 4                              95\n",
      "город Москва, Пресненская набережная, дом 2                         63\n",
      "город Москва, проспект Мира, дом 211, корпус 2                      60\n",
      "город Москва, Кировоградская улица, дом 13А                         53\n",
      "город Москва, площадь Киевского Вокзала, дом 2                      48\n",
      "                                                                    ..\n",
      "город Москва, город Зеленоград, проезд № 4801, дом 7, строение 1    1 \n",
      "город Москва, Огородный проезд, дом 14                              1 \n",
      "город Москва, Новоорловская улица, дом 5А                           1 \n",
      "город Москва, Денежный переулок, дом 20                             1 \n",
      "город Москва, 2-й Павелецкий проезд, дом 5, строение 3              1 \n",
      "Name: address, Length: 9108, dtype: int64\n",
      "\n",
      "0      1621\n",
      "40     835 \n",
      "20     727 \n",
      "30     685 \n",
      "10     644 \n",
      "      ...  \n",
      "172    1   \n",
      "520    1   \n",
      "680    1   \n",
      "760    1   \n",
      "495    1   \n",
      "Name: number, Length: 315, dtype: int64\n"
     ]
    }
   ],
   "source": [
    "print(data['id'].value_counts())\n",
    "print('')\n",
    "print(data['object_name'].value_counts())\n",
    "print('')\n",
    "print(data['chain'].value_counts())\n",
    "print('')\n",
    "print(data['object_type'].value_counts())\n",
    "print('')\n",
    "print(data['address'].value_counts())\n",
    "print('')\n",
    "print(data['number'].value_counts())"
   ]
  },
  {
   "cell_type": "markdown",
   "id": "bfa10e64",
   "metadata": {},
   "source": [
    "Колонки в порядке, все данные похожи на правду. Подозрения вызывают только места без посадочных мест. Это может быть как ошибкой при вводе данных, так и расположение в ТЦ с общими столиками. Не совсем понятно, как можно использовать эти данные, лучше от них избавиться для чистоты анализа, благо, этих мест чуть больше 1% от общего числа."
   ]
  },
  {
   "cell_type": "code",
   "execution_count": 6,
   "id": "b24abbea",
   "metadata": {},
   "outputs": [],
   "source": [
    "data = data[data['number']>0]"
   ]
  },
  {
   "cell_type": "code",
   "execution_count": 7,
   "id": "ad762fe2",
   "metadata": {},
   "outputs": [
    {
     "data": {
      "text/html": [
       "<div>\n",
       "<style scoped>\n",
       "    .dataframe tbody tr th:only-of-type {\n",
       "        vertical-align: middle;\n",
       "    }\n",
       "\n",
       "    .dataframe tbody tr th {\n",
       "        vertical-align: top;\n",
       "    }\n",
       "\n",
       "    .dataframe thead th {\n",
       "        text-align: right;\n",
       "    }\n",
       "</style>\n",
       "<table border=\"1\" class=\"dataframe\">\n",
       "  <thead>\n",
       "    <tr style=\"text-align: right;\">\n",
       "      <th></th>\n",
       "      <th>id</th>\n",
       "      <th>object_name</th>\n",
       "      <th>chain</th>\n",
       "      <th>object_type</th>\n",
       "      <th>address</th>\n",
       "      <th>number</th>\n",
       "    </tr>\n",
       "  </thead>\n",
       "  <tbody>\n",
       "    <tr>\n",
       "      <th>0</th>\n",
       "      <td>151635</td>\n",
       "      <td>СМЕТАНА</td>\n",
       "      <td>нет</td>\n",
       "      <td>кафе</td>\n",
       "      <td>город Москва, улица Егора Абакумова, дом 9</td>\n",
       "      <td>48</td>\n",
       "    </tr>\n",
       "    <tr>\n",
       "      <th>1</th>\n",
       "      <td>77874</td>\n",
       "      <td>Родник</td>\n",
       "      <td>нет</td>\n",
       "      <td>кафе</td>\n",
       "      <td>город Москва, улица Талалихина, дом 2/1, корпус 1</td>\n",
       "      <td>35</td>\n",
       "    </tr>\n",
       "    <tr>\n",
       "      <th>2</th>\n",
       "      <td>24309</td>\n",
       "      <td>Кафе «Академия»</td>\n",
       "      <td>нет</td>\n",
       "      <td>кафе</td>\n",
       "      <td>город Москва, Абельмановская улица, дом 6</td>\n",
       "      <td>95</td>\n",
       "    </tr>\n",
       "    <tr>\n",
       "      <th>3</th>\n",
       "      <td>21894</td>\n",
       "      <td>ПИЦЦЕТОРИЯ</td>\n",
       "      <td>да</td>\n",
       "      <td>кафе</td>\n",
       "      <td>город Москва, Абрамцевская улица, дом 1</td>\n",
       "      <td>40</td>\n",
       "    </tr>\n",
       "    <tr>\n",
       "      <th>4</th>\n",
       "      <td>119365</td>\n",
       "      <td>Кафе «Вишневая метель»</td>\n",
       "      <td>нет</td>\n",
       "      <td>кафе</td>\n",
       "      <td>город Москва, Абрамцевская улица, дом 9, корпус 1</td>\n",
       "      <td>50</td>\n",
       "    </tr>\n",
       "  </tbody>\n",
       "</table>\n",
       "</div>"
      ],
      "text/plain": [
       "       id             object_name chain object_type  \\\n",
       "0  151635  СМЕТАНА                 нет   кафе         \n",
       "1  77874   Родник                  нет   кафе         \n",
       "2  24309   Кафе «Академия»         нет   кафе         \n",
       "3  21894   ПИЦЦЕТОРИЯ              да    кафе         \n",
       "4  119365  Кафе «Вишневая метель»  нет   кафе         \n",
       "\n",
       "                                             address  number  \n",
       "0  город Москва, улица Егора Абакумова, дом 9         48      \n",
       "1  город Москва, улица Талалихина, дом 2/1, корпус 1  35      \n",
       "2  город Москва, Абельмановская улица, дом 6          95      \n",
       "3  город Москва, Абрамцевская улица, дом 1            40      \n",
       "4  город Москва, Абрамцевская улица, дом 9, корпус 1  50      "
      ]
     },
     "metadata": {},
     "output_type": "display_data"
    },
    {
     "name": "stdout",
     "output_type": "stream",
     "text": [
      "<class 'pandas.core.frame.DataFrame'>\n",
      "Int64Index: 13745 entries, 0 to 15365\n",
      "Data columns (total 6 columns):\n",
      " #   Column       Non-Null Count  Dtype \n",
      "---  ------       --------------  ----- \n",
      " 0   id           13745 non-null  int64 \n",
      " 1   object_name  13745 non-null  object\n",
      " 2   chain        13745 non-null  object\n",
      " 3   object_type  13745 non-null  object\n",
      " 4   address      13745 non-null  object\n",
      " 5   number       13745 non-null  int64 \n",
      "dtypes: int64(2), object(4)\n",
      "memory usage: 751.7+ KB\n"
     ]
    }
   ],
   "source": [
    "display(data.head())\n",
    "data.info()"
   ]
  },
  {
   "cell_type": "markdown",
   "id": "1aee5be6",
   "metadata": {},
   "source": [
    "Подготовленные данные выглядят хорошо. Начнем анализ."
   ]
  },
  {
   "cell_type": "markdown",
   "id": "cddc0d96",
   "metadata": {},
   "source": [
    "# Анализ данных\n",
    "Исследуйте соотношение видов объектов общественного питания по количеству. Постройте график.\n",
    "\n",
    "Исследуйте соотношение сетевых и несетевых заведений по количеству. Постройте график.\n",
    "\n",
    "Для какого вида объекта общественного питания характерно сетевое распространение?\n",
    "\n",
    "Что характерно для сетевых заведений: много заведений с небольшим числом посадочных мест в каждом или мало заведений с большим количеством посадочных мест?\n",
    "\n",
    "Для каждого вида объекта общественного питания опишите среднее количество посадочных мест. Какой вид предоставляет в среднем самое большое количество посадочных мест? Постройте графики.\n",
    "\n",
    "Выделите в отдельный столбец информацию об улице из столбца address .\n",
    "\n",
    "Постройте график топ-10 улиц по количеству объектов общественного питания. Воспользуйтесь внешней информацией и ответьте на вопрос — в каких районах Москвы находятся эти улицы?\n",
    "\n",
    "Найдите число улиц с одним объектом общественного питания. Воспользуйтесь внешней информацией и ответьте на вопрос — в каких районах Москвы находятся эти улицы?\n",
    "\n",
    "Сделайте общий вывод и дайте рекомендации о виде заведения, количестве посадочных мест, а также районе расположения. Прокомментируйте возможность развития сети."
   ]
  },
  {
   "cell_type": "markdown",
   "id": "fa002d87",
   "metadata": {},
   "source": [
    "## Исследование соотношения видов объектов общественного питания по количеству."
   ]
  },
  {
   "cell_type": "code",
   "execution_count": 8,
   "id": "28870653",
   "metadata": {
    "scrolled": false
   },
   "outputs": [
    {
     "data": {
      "text/html": [
       "<div>\n",
       "<style scoped>\n",
       "    .dataframe tbody tr th:only-of-type {\n",
       "        vertical-align: middle;\n",
       "    }\n",
       "\n",
       "    .dataframe tbody tr th {\n",
       "        vertical-align: top;\n",
       "    }\n",
       "\n",
       "    .dataframe thead th {\n",
       "        text-align: right;\n",
       "    }\n",
       "</style>\n",
       "<table border=\"1\" class=\"dataframe\">\n",
       "  <thead>\n",
       "    <tr style=\"text-align: right;\">\n",
       "      <th></th>\n",
       "      <th>object_type</th>\n",
       "      <th>counts</th>\n",
       "    </tr>\n",
       "  </thead>\n",
       "  <tbody>\n",
       "    <tr>\n",
       "      <th>0</th>\n",
       "      <td>кафе</td>\n",
       "      <td>5789</td>\n",
       "    </tr>\n",
       "    <tr>\n",
       "      <th>1</th>\n",
       "      <td>столовая</td>\n",
       "      <td>2568</td>\n",
       "    </tr>\n",
       "    <tr>\n",
       "      <th>2</th>\n",
       "      <td>ресторан</td>\n",
       "      <td>2240</td>\n",
       "    </tr>\n",
       "    <tr>\n",
       "      <th>3</th>\n",
       "      <td>предприятие быстрого обслуживания</td>\n",
       "      <td>1219</td>\n",
       "    </tr>\n",
       "    <tr>\n",
       "      <th>4</th>\n",
       "      <td>бар</td>\n",
       "      <td>828</td>\n",
       "    </tr>\n",
       "    <tr>\n",
       "      <th>5</th>\n",
       "      <td>буфет</td>\n",
       "      <td>517</td>\n",
       "    </tr>\n",
       "    <tr>\n",
       "      <th>6</th>\n",
       "      <td>кафетерий</td>\n",
       "      <td>285</td>\n",
       "    </tr>\n",
       "    <tr>\n",
       "      <th>7</th>\n",
       "      <td>закусочная</td>\n",
       "      <td>171</td>\n",
       "    </tr>\n",
       "    <tr>\n",
       "      <th>8</th>\n",
       "      <td>магазин (отдел кулинарии)</td>\n",
       "      <td>128</td>\n",
       "    </tr>\n",
       "  </tbody>\n",
       "</table>\n",
       "</div>"
      ],
      "text/plain": [
       "                         object_type  counts\n",
       "0  кафе                               5789  \n",
       "1  столовая                           2568  \n",
       "2  ресторан                           2240  \n",
       "3  предприятие быстрого обслуживания  1219  \n",
       "4  бар                                828   \n",
       "5  буфет                              517   \n",
       "6  кафетерий                          285   \n",
       "7  закусочная                         171   \n",
       "8  магазин (отдел кулинарии)          128   "
      ]
     },
     "metadata": {},
     "output_type": "display_data"
    },
    {
     "data": {
      "image/png": "[encoded data removed]",
      "text/plain": [
       "<Figure size 1440x576 with 1 Axes>"
      ]
     },
     "metadata": {},
     "output_type": "display_data"
    }
   ],
   "source": [
    "object_type_data = data['object_type'].value_counts().rename_axis('object_type').reset_index(name='counts')\n",
    "display(object_type_data)\n",
    "\n",
    "#Задаем цвет, размер шрифта и размер графика\n",
    "sns.set_theme(style=\"white\", font_scale=1.3)\n",
    "fig, ax = plt.subplots(figsize=(20, 8))\n",
    "\n",
    "#Выделяем только победителя\n",
    "values = object_type_data['counts']\n",
    "clrs = ['lightsteelblue' if (x < max(values)) else 'cornflowerblue' for x in values]\n",
    "\n",
    "#Строим график с подписями\n",
    "sns.barplot(x='object_type', y='counts', data=object_type_data, palette=clrs)\n",
    "ax.set_title('Cоотношение видов объектов общественного питания по количеству')\n",
    "plt.xlabel(u'Вид объекта')\n",
    "plt.ylabel(u'Количество')\n",
    "\n",
    "#Делаем перенос длинных названий\n",
    "import textwrap\n",
    "def wrap_labels(ax, width, break_long_words=False):\n",
    "    labels = []\n",
    "    for label in ax.get_xticklabels():\n",
    "        text = label.get_text()\n",
    "        labels.append(textwrap.fill(text, width=width,\n",
    "                      break_long_words=break_long_words))\n",
    "    ax.set_xticklabels(labels, rotation=0)\n",
    "\n",
    "wrap_labels(ax, 10)\n",
    "ax.figure;"
   ]
  },
  {
   "cell_type": "markdown",
   "id": "3ef22bdb",
   "metadata": {},
   "source": [
    "Больше всего заведений типа \"кафе\" (их 5789) , вдвое меньше \"столовая\" (2568) и \"ресторан\" (2240 заведений). Остальные типа заведений составляют менее значительную часть от общего числа."
   ]
  },
  {
   "cell_type": "markdown",
   "id": "dc0ef3e1",
   "metadata": {},
   "source": [
    "## Исследование соотношения сетевых и несетевых заведений по количеству."
   ]
  },
  {
   "cell_type": "code",
   "execution_count": 9,
   "id": "7937e43c",
   "metadata": {
    "scrolled": false
   },
   "outputs": [
    {
     "data": {
      "text/html": [
       "<div>\n",
       "<style scoped>\n",
       "    .dataframe tbody tr th:only-of-type {\n",
       "        vertical-align: middle;\n",
       "    }\n",
       "\n",
       "    .dataframe tbody tr th {\n",
       "        vertical-align: top;\n",
       "    }\n",
       "\n",
       "    .dataframe thead th {\n",
       "        text-align: right;\n",
       "    }\n",
       "</style>\n",
       "<table border=\"1\" class=\"dataframe\">\n",
       "  <thead>\n",
       "    <tr style=\"text-align: right;\">\n",
       "      <th></th>\n",
       "      <th>chain</th>\n",
       "      <th>counts</th>\n",
       "    </tr>\n",
       "  </thead>\n",
       "  <tbody>\n",
       "    <tr>\n",
       "      <th>0</th>\n",
       "      <td>нет</td>\n",
       "      <td>11045</td>\n",
       "    </tr>\n",
       "    <tr>\n",
       "      <th>1</th>\n",
       "      <td>да</td>\n",
       "      <td>2700</td>\n",
       "    </tr>\n",
       "  </tbody>\n",
       "</table>\n",
       "</div>"
      ],
      "text/plain": [
       "  chain  counts\n",
       "0  нет   11045 \n",
       "1  да    2700  "
      ]
     },
     "metadata": {},
     "output_type": "display_data"
    },
    {
     "data": {
      "image/png": "[encoded data removed]",
      "text/plain": [
       "<Figure size 1440x576 with 1 Axes>"
      ]
     },
     "metadata": {},
     "output_type": "display_data"
    }
   ],
   "source": [
    "chain_data = data['chain'].value_counts().rename_axis('chain').reset_index(name='counts')\n",
    "display(chain_data)\n",
    "\n",
    "#Задаем цвет, размер шрифта и размер графика\n",
    "sns.set_theme(style=\"white\", font_scale=1.8)\n",
    "fig, ax = plt.subplots(figsize=(20, 8))\n",
    "\n",
    "#Выделяем только победителя\n",
    "values = chain_data['counts']\n",
    "clrs = ['lightsteelblue' if (x < max(values)) else 'cornflowerblue' for x in values]\n",
    "\n",
    "#Строим график\n",
    "sns.barplot(x='chain', y='counts', data=chain_data, palette=clrs)\n",
    "plt.title('Cоотношение сетевых и несетевых заведений по количеству')\n",
    "plt.xlabel(u'Сетевое заведение')\n",
    "plt.ylabel(u'Количество');"
   ]
  },
  {
   "cell_type": "markdown",
   "id": "33439e14",
   "metadata": {},
   "source": [
    "В 4 раза больше несетевых заведений (11045) , чем сетевых (2700)."
   ]
  },
  {
   "cell_type": "markdown",
   "id": "559d6d32",
   "metadata": {},
   "source": [
    "## Для какого вида объекта общественного питания характерно сетевое распространение?"
   ]
  },
  {
   "cell_type": "code",
   "execution_count": 10,
   "id": "9f9ec830",
   "metadata": {},
   "outputs": [
    {
     "data": {
      "text/html": [
       "<div>\n",
       "<style scoped>\n",
       "    .dataframe tbody tr th:only-of-type {\n",
       "        vertical-align: middle;\n",
       "    }\n",
       "\n",
       "    .dataframe tbody tr th {\n",
       "        vertical-align: top;\n",
       "    }\n",
       "\n",
       "    .dataframe thead th {\n",
       "        text-align: right;\n",
       "    }\n",
       "</style>\n",
       "<table border=\"1\" class=\"dataframe\">\n",
       "  <thead>\n",
       "    <tr style=\"text-align: right;\">\n",
       "      <th></th>\n",
       "      <th>object_type</th>\n",
       "      <th>chain</th>\n",
       "      <th>no_chain</th>\n",
       "      <th>chain_ratio</th>\n",
       "    </tr>\n",
       "  </thead>\n",
       "  <tbody>\n",
       "    <tr>\n",
       "      <th>6</th>\n",
       "      <td>предприятие быстрого обслуживания</td>\n",
       "      <td>671</td>\n",
       "      <td>548</td>\n",
       "      <td>0.550451</td>\n",
       "    </tr>\n",
       "    <tr>\n",
       "      <th>5</th>\n",
       "      <td>магазин (отдел кулинарии)</td>\n",
       "      <td>45</td>\n",
       "      <td>83</td>\n",
       "      <td>0.351562</td>\n",
       "    </tr>\n",
       "    <tr>\n",
       "      <th>7</th>\n",
       "      <td>ресторан</td>\n",
       "      <td>526</td>\n",
       "      <td>1714</td>\n",
       "      <td>0.234821</td>\n",
       "    </tr>\n",
       "    <tr>\n",
       "      <th>3</th>\n",
       "      <td>кафе</td>\n",
       "      <td>1341</td>\n",
       "      <td>4448</td>\n",
       "      <td>0.231646</td>\n",
       "    </tr>\n",
       "    <tr>\n",
       "      <th>2</th>\n",
       "      <td>закусочная</td>\n",
       "      <td>38</td>\n",
       "      <td>133</td>\n",
       "      <td>0.222222</td>\n",
       "    </tr>\n",
       "    <tr>\n",
       "      <th>4</th>\n",
       "      <td>кафетерий</td>\n",
       "      <td>37</td>\n",
       "      <td>248</td>\n",
       "      <td>0.129825</td>\n",
       "    </tr>\n",
       "    <tr>\n",
       "      <th>0</th>\n",
       "      <td>бар</td>\n",
       "      <td>36</td>\n",
       "      <td>792</td>\n",
       "      <td>0.043478</td>\n",
       "    </tr>\n",
       "    <tr>\n",
       "      <th>1</th>\n",
       "      <td>буфет</td>\n",
       "      <td>3</td>\n",
       "      <td>514</td>\n",
       "      <td>0.005803</td>\n",
       "    </tr>\n",
       "    <tr>\n",
       "      <th>8</th>\n",
       "      <td>столовая</td>\n",
       "      <td>3</td>\n",
       "      <td>2565</td>\n",
       "      <td>0.001168</td>\n",
       "    </tr>\n",
       "  </tbody>\n",
       "</table>\n",
       "</div>"
      ],
      "text/plain": [
       "                         object_type  chain  no_chain  chain_ratio\n",
       "6  предприятие быстрого обслуживания  671    548       0.550451   \n",
       "5  магазин (отдел кулинарии)          45     83        0.351562   \n",
       "7  ресторан                           526    1714      0.234821   \n",
       "3  кафе                               1341   4448      0.231646   \n",
       "2  закусочная                         38     133       0.222222   \n",
       "4  кафетерий                          37     248       0.129825   \n",
       "0  бар                                36     792       0.043478   \n",
       "1  буфет                              3      514       0.005803   \n",
       "8  столовая                           3      2565      0.001168   "
      ]
     },
     "metadata": {},
     "output_type": "display_data"
    },
    {
     "data": {
      "image/png": "[encoded data removed]",
      "text/plain": [
       "<Figure size 1440x576 with 1 Axes>"
      ]
     },
     "metadata": {},
     "output_type": "display_data"
    }
   ],
   "source": [
    "chain_objects = data.pivot_table(index='object_type', columns='chain',values='id', aggfunc='count').reset_index()\n",
    "chain_objects.columns = ['object_type', 'chain', 'no_chain']\n",
    "#chain_objects = chain_objects[chain_objects['chain'] > chain_objects['no_chain']]\n",
    "chain_objects['chain_ratio'] = chain_objects['chain'] / (chain_objects[['chain', 'no_chain']].sum(axis=1))\n",
    "chain_objects = chain_objects.sort_values(by='chain_ratio', ascending=False)\n",
    "\n",
    "display(chain_objects)\n",
    "\n",
    "#Задаем цвет, размер шрифта и размер графика\n",
    "sns.set_theme(style=\"white\", font_scale=1.3)\n",
    "fig, ax = plt.subplots(figsize=(20, 8))\n",
    "\n",
    "#Выделяем только победителя\n",
    "values = chain_objects['chain_ratio']\n",
    "clrs = ['lightsteelblue' if (x < max(values)) else 'cornflowerblue' for x in values]\n",
    "\n",
    "#Строим график с подписями\n",
    "sns.barplot(x='object_type', y='chain_ratio', data=chain_objects, palette=clrs)\n",
    "ax.set_title('Соотношение сетевых заведений к общему количеству')\n",
    "plt.xlabel(u'Вид объекта')\n",
    "plt.ylabel(u'Соотношение')\n",
    "\n",
    "#Делаем перенос длинных названий\n",
    "import textwrap\n",
    "def wrap_labels(ax, width, break_long_words=False):\n",
    "    labels = []\n",
    "    for label in ax.get_xticklabels():\n",
    "        text = label.get_text()\n",
    "        labels.append(textwrap.fill(text, width=width,\n",
    "                      break_long_words=break_long_words))\n",
    "    ax.set_xticklabels(labels, rotation=0)\n",
    "\n",
    "wrap_labels(ax, 10)\n",
    "ax.figure;"
   ]
  },
  {
   "cell_type": "markdown",
   "id": "22c0b09c",
   "metadata": {},
   "source": [
    "Для предприятий быстрого обслуживания наиболее характерно сетевое распространение (больше половины заведений этого типа), большинство остальных типов общепита на 70-80% состоят из несетвых точек."
   ]
  },
  {
   "cell_type": "markdown",
   "id": "06b18f1d",
   "metadata": {},
   "source": [
    "## Что характерно для сетевых заведений: \n",
    "много заведений с небольшим числом посадочных мест в каждом или мало заведений с большим количеством посадочных мест?"
   ]
  },
  {
   "cell_type": "code",
   "execution_count": 11,
   "id": "728b517b",
   "metadata": {},
   "outputs": [
    {
     "data": {
      "text/html": [
       "<div>\n",
       "<style scoped>\n",
       "    .dataframe tbody tr th:only-of-type {\n",
       "        vertical-align: middle;\n",
       "    }\n",
       "\n",
       "    .dataframe tbody tr th {\n",
       "        vertical-align: top;\n",
       "    }\n",
       "\n",
       "    .dataframe thead th {\n",
       "        text-align: right;\n",
       "    }\n",
       "</style>\n",
       "<table border=\"1\" class=\"dataframe\">\n",
       "  <thead>\n",
       "    <tr style=\"text-align: right;\">\n",
       "      <th></th>\n",
       "      <th>object_name</th>\n",
       "      <th>id</th>\n",
       "      <th>number</th>\n",
       "    </tr>\n",
       "  </thead>\n",
       "  <tbody>\n",
       "    <tr>\n",
       "      <th>7843</th>\n",
       "      <td>Столовая</td>\n",
       "      <td>266</td>\n",
       "      <td>73.518797</td>\n",
       "    </tr>\n",
       "    <tr>\n",
       "      <th>3579</th>\n",
       "      <td>Кафе</td>\n",
       "      <td>226</td>\n",
       "      <td>28.181416</td>\n",
       "    </tr>\n",
       "    <tr>\n",
       "      <th>569</th>\n",
       "      <td>KFC</td>\n",
       "      <td>146</td>\n",
       "      <td>58.753425</td>\n",
       "    </tr>\n",
       "    <tr>\n",
       "      <th>9518</th>\n",
       "      <td>Шоколадница</td>\n",
       "      <td>142</td>\n",
       "      <td>56.112676</td>\n",
       "    </tr>\n",
       "    <tr>\n",
       "      <th>5357</th>\n",
       "      <td>Макдоналдс</td>\n",
       "      <td>113</td>\n",
       "      <td>87.991150</td>\n",
       "    </tr>\n",
       "  </tbody>\n",
       "</table>\n",
       "</div>"
      ],
      "text/plain": [
       "      object_name   id     number\n",
       "7843  Столовая     266  73.518797\n",
       "3579  Кафе         226  28.181416\n",
       "569   KFC          146  58.753425\n",
       "9518  Шоколадница  142  56.112676\n",
       "5357  Макдоналдс   113  87.991150"
      ]
     },
     "metadata": {},
     "output_type": "display_data"
    },
    {
     "data": {
      "image/png": "[encoded data removed]",
      "text/plain": [
       "<Figure size 1440x576 with 1 Axes>"
      ]
     },
     "metadata": {},
     "output_type": "display_data"
    }
   ],
   "source": [
    "chain_number = (\n",
    "    data\n",
    "    .groupby('object_name')\n",
    "    .agg({'id':'count', 'number':'mean'})\n",
    "    .reset_index()\n",
    "    .sort_values(by='id', ascending=False)\n",
    ")\n",
    "chain_number = chain_number[chain_number['id']>1]\n",
    "\n",
    "display(chain_number.head())\n",
    "\n",
    "plt.subplots(figsize=(20, 8))\n",
    "sns.scatterplot(x= 'id', y='number', data=chain_number).set_ylim(-15, 350)\n",
    "plt.title('График посадочных мест и количества заведений в сети')\n",
    "plt.xlabel(u'Количество заведений в сети')\n",
    "plt.ylabel(u'Среднее количество посадочных мест');"
   ]
  },
  {
   "cell_type": "markdown",
   "id": "68ca6560",
   "metadata": {},
   "source": [
    "Для сетевых общепитов характерно характерно небольшое (1-20 точек) количество заведений с большим (до 250) количеством посадочных мест."
   ]
  },
  {
   "cell_type": "markdown",
   "id": "a87b5022",
   "metadata": {},
   "source": [
    "## Среднее количество посадочных мест для каждого вида объекта общественного питания . "
   ]
  },
  {
   "cell_type": "code",
   "execution_count": 12,
   "id": "44fd260e",
   "metadata": {
    "scrolled": false
   },
   "outputs": [
    {
     "data": {
      "text/html": [
       "<div>\n",
       "<style scoped>\n",
       "    .dataframe tbody tr th:only-of-type {\n",
       "        vertical-align: middle;\n",
       "    }\n",
       "\n",
       "    .dataframe tbody tr th {\n",
       "        vertical-align: top;\n",
       "    }\n",
       "\n",
       "    .dataframe thead th {\n",
       "        text-align: right;\n",
       "    }\n",
       "</style>\n",
       "<table border=\"1\" class=\"dataframe\">\n",
       "  <thead>\n",
       "    <tr style=\"text-align: right;\">\n",
       "      <th></th>\n",
       "      <th>object_type</th>\n",
       "      <th>number</th>\n",
       "    </tr>\n",
       "  </thead>\n",
       "  <tbody>\n",
       "    <tr>\n",
       "      <th>8</th>\n",
       "      <td>столовая</td>\n",
       "      <td>131.210280</td>\n",
       "    </tr>\n",
       "    <tr>\n",
       "      <th>7</th>\n",
       "      <td>ресторан</td>\n",
       "      <td>98.779464</td>\n",
       "    </tr>\n",
       "    <tr>\n",
       "      <th>1</th>\n",
       "      <td>буфет</td>\n",
       "      <td>57.854932</td>\n",
       "    </tr>\n",
       "    <tr>\n",
       "      <th>0</th>\n",
       "      <td>бар</td>\n",
       "      <td>44.964976</td>\n",
       "    </tr>\n",
       "    <tr>\n",
       "      <th>3</th>\n",
       "      <td>кафе</td>\n",
       "      <td>41.842805</td>\n",
       "    </tr>\n",
       "    <tr>\n",
       "      <th>6</th>\n",
       "      <td>предприятие быстрого обслуживания</td>\n",
       "      <td>32.421657</td>\n",
       "    </tr>\n",
       "    <tr>\n",
       "      <th>2</th>\n",
       "      <td>закусочная</td>\n",
       "      <td>16.017544</td>\n",
       "    </tr>\n",
       "    <tr>\n",
       "      <th>4</th>\n",
       "      <td>кафетерий</td>\n",
       "      <td>12.740351</td>\n",
       "    </tr>\n",
       "    <tr>\n",
       "      <th>5</th>\n",
       "      <td>магазин (отдел кулинарии)</td>\n",
       "      <td>11.921875</td>\n",
       "    </tr>\n",
       "  </tbody>\n",
       "</table>\n",
       "</div>"
      ],
      "text/plain": [
       "                         object_type      number\n",
       "8  столовая                           131.210280\n",
       "7  ресторан                           98.779464 \n",
       "1  буфет                              57.854932 \n",
       "0  бар                                44.964976 \n",
       "3  кафе                               41.842805 \n",
       "6  предприятие быстрого обслуживания  32.421657 \n",
       "2  закусочная                         16.017544 \n",
       "4  кафетерий                          12.740351 \n",
       "5  магазин (отдел кулинарии)          11.921875 "
      ]
     },
     "metadata": {},
     "output_type": "display_data"
    },
    {
     "data": {
      "image/png": "[encoded data removed]",
      "text/plain": [
       "<Figure size 1440x576 with 1 Axes>"
      ]
     },
     "metadata": {},
     "output_type": "display_data"
    }
   ],
   "source": [
    "seat_number = (\n",
    "    data\n",
    "    .groupby('object_type')\n",
    "    .agg({'number':'mean'})\n",
    "    .reset_index()\n",
    "    .sort_values(by='number', ascending=False)\n",
    ")\n",
    "\n",
    "display(seat_number)\n",
    "\n",
    "#Задаем цвет, размер шрифта и размер графика\n",
    "sns.set_theme(style=\"white\", font_scale=1.3)\n",
    "fig, ax = plt.subplots(figsize=(20, 8))\n",
    "\n",
    "#Выделяем только победителя\n",
    "values = chain_objects['chain_ratio']\n",
    "clrs = ['lightsteelblue' if (x < max(values)) else 'cornflowerblue' for x in values]\n",
    "\n",
    "#Строим график с подписями\n",
    "sns.barplot(x='object_type', y='number', data=seat_number, palette=clrs)\n",
    "ax.set_title('Среднее количество посадочных мест для каждого вида объекта общественного питания')\n",
    "plt.xlabel(u'Вид объекта общественного питания')\n",
    "plt.ylabel(u'Среднее количество посадочных мест')\n",
    "\n",
    "#Делаем перенос длинных названий\n",
    "import textwrap\n",
    "def wrap_labels(ax, width, break_long_words=False):\n",
    "    labels = []\n",
    "    for label in ax.get_xticklabels():\n",
    "        text = label.get_text()\n",
    "        labels.append(textwrap.fill(text, width=width,\n",
    "                      break_long_words=break_long_words))\n",
    "    ax.set_xticklabels(labels, rotation=0)\n",
    "\n",
    "wrap_labels(ax, 10)\n",
    "ax.figure;"
   ]
  },
  {
   "cell_type": "markdown",
   "id": "7ed42c7a",
   "metadata": {},
   "source": [
    "Как правило, в столовых наибольшее количество посадочных мест (около 131), далее идут рестораны (99) и буфеты (58), а замыкают список отделы кулинарии в магазинах (всего 12)."
   ]
  },
  {
   "cell_type": "markdown",
   "id": "d1b24c48",
   "metadata": {},
   "source": [
    "## Выделение улицы заведения в отдельный столбец."
   ]
  },
  {
   "cell_type": "code",
   "execution_count": 13,
   "id": "e7d8b921",
   "metadata": {
    "scrolled": false
   },
   "outputs": [
    {
     "data": {
      "text/html": [
       "<div>\n",
       "<style scoped>\n",
       "    .dataframe tbody tr th:only-of-type {\n",
       "        vertical-align: middle;\n",
       "    }\n",
       "\n",
       "    .dataframe tbody tr th {\n",
       "        vertical-align: top;\n",
       "    }\n",
       "\n",
       "    .dataframe thead th {\n",
       "        text-align: right;\n",
       "    }\n",
       "</style>\n",
       "<table border=\"1\" class=\"dataframe\">\n",
       "  <thead>\n",
       "    <tr style=\"text-align: right;\">\n",
       "      <th></th>\n",
       "      <th>id</th>\n",
       "      <th>object_name</th>\n",
       "      <th>chain</th>\n",
       "      <th>object_type</th>\n",
       "      <th>address</th>\n",
       "      <th>number</th>\n",
       "      <th>street</th>\n",
       "    </tr>\n",
       "  </thead>\n",
       "  <tbody>\n",
       "    <tr>\n",
       "      <th>859</th>\n",
       "      <td>23601</td>\n",
       "      <td>Буфет - ГБОУ СОШ № 64</td>\n",
       "      <td>нет</td>\n",
       "      <td>буфет</td>\n",
       "      <td>Партизанская улица, дом 30</td>\n",
       "      <td>100</td>\n",
       "      <td>NaN</td>\n",
       "    </tr>\n",
       "    <tr>\n",
       "      <th>860</th>\n",
       "      <td>23604</td>\n",
       "      <td>Буфет - ГБОУ 60</td>\n",
       "      <td>нет</td>\n",
       "      <td>буфет</td>\n",
       "      <td>Партизанская улица, дом 30</td>\n",
       "      <td>100</td>\n",
       "      <td>NaN</td>\n",
       "    </tr>\n",
       "    <tr>\n",
       "      <th>1491</th>\n",
       "      <td>25349</td>\n",
       "      <td>Ресторан «Гранатовый сад»</td>\n",
       "      <td>нет</td>\n",
       "      <td>ресторан</td>\n",
       "      <td>Поречная улица, дом 5/14, строение 1</td>\n",
       "      <td>40</td>\n",
       "      <td>NaN</td>\n",
       "    </tr>\n",
       "    <tr>\n",
       "      <th>7691</th>\n",
       "      <td>132359</td>\n",
       "      <td>Кафе «La Carotte»</td>\n",
       "      <td>нет</td>\n",
       "      <td>кафе</td>\n",
       "      <td>1-й Нагатинский проезд, дом 10</td>\n",
       "      <td>198</td>\n",
       "      <td>NaN</td>\n",
       "    </tr>\n",
       "    <tr>\n",
       "      <th>7827</th>\n",
       "      <td>28214</td>\n",
       "      <td>Роснефть (закрытое)</td>\n",
       "      <td>нет</td>\n",
       "      <td>столовая</td>\n",
       "      <td>Софийская набережная, дом 26/1, строение 1</td>\n",
       "      <td>80</td>\n",
       "      <td>NaN</td>\n",
       "    </tr>\n",
       "    <tr>\n",
       "      <th>...</th>\n",
       "      <td>...</td>\n",
       "      <td>...</td>\n",
       "      <td>...</td>\n",
       "      <td>...</td>\n",
       "      <td>...</td>\n",
       "      <td>...</td>\n",
       "      <td>...</td>\n",
       "    </tr>\n",
       "    <tr>\n",
       "      <th>13184</th>\n",
       "      <td>192903</td>\n",
       "      <td>Сабрина</td>\n",
       "      <td>нет</td>\n",
       "      <td>кафе</td>\n",
       "      <td>Бауманская улица, дом 7, строение 3</td>\n",
       "      <td>30</td>\n",
       "      <td>NaN</td>\n",
       "    </tr>\n",
       "    <tr>\n",
       "      <th>13185</th>\n",
       "      <td>192918</td>\n",
       "      <td>Limassol</td>\n",
       "      <td>нет</td>\n",
       "      <td>кафе</td>\n",
       "      <td>Бауманская улица, дом 7, строение 3</td>\n",
       "      <td>42</td>\n",
       "      <td>NaN</td>\n",
       "    </tr>\n",
       "    <tr>\n",
       "      <th>13399</th>\n",
       "      <td>204788</td>\n",
       "      <td>Крошка Картошка</td>\n",
       "      <td>да</td>\n",
       "      <td>предприятие быстрого обслуживания</td>\n",
       "      <td>Солянский тупик, дом 1/4, строение 1</td>\n",
       "      <td>15</td>\n",
       "      <td>NaN</td>\n",
       "    </tr>\n",
       "    <tr>\n",
       "      <th>13991</th>\n",
       "      <td>204917</td>\n",
       "      <td>Шаурма на углях- Чайхана Баракат</td>\n",
       "      <td>нет</td>\n",
       "      <td>кафе</td>\n",
       "      <td>Таганская площадь, дом 88, строение 4</td>\n",
       "      <td>80</td>\n",
       "      <td>NaN</td>\n",
       "    </tr>\n",
       "    <tr>\n",
       "      <th>14003</th>\n",
       "      <td>211986</td>\n",
       "      <td>FRESH CAFE</td>\n",
       "      <td>нет</td>\n",
       "      <td>кафе</td>\n",
       "      <td>Шарикоподшипниковская улица, дом 5, строение 1</td>\n",
       "      <td>42</td>\n",
       "      <td>NaN</td>\n",
       "    </tr>\n",
       "  </tbody>\n",
       "</table>\n",
       "<p>68 rows × 7 columns</p>\n",
       "</div>"
      ],
      "text/plain": [
       "           id                       object_name chain  \\\n",
       "859    23601   Буфет - ГБОУ СОШ № 64             нет    \n",
       "860    23604   Буфет - ГБОУ 60                   нет    \n",
       "1491   25349   Ресторан «Гранатовый сад»         нет    \n",
       "7691   132359  Кафе «La Carotte»                 нет    \n",
       "7827   28214   Роснефть (закрытое)               нет    \n",
       "...      ...                   ...               ...    \n",
       "13184  192903  Сабрина                           нет    \n",
       "13185  192918  Limassol                          нет    \n",
       "13399  204788  Крошка Картошка                   да     \n",
       "13991  204917  Шаурма на углях- Чайхана Баракат  нет    \n",
       "14003  211986  FRESH CAFE                        нет    \n",
       "\n",
       "                             object_type  \\\n",
       "859    буфет                               \n",
       "860    буфет                               \n",
       "1491   ресторан                            \n",
       "7691   кафе                                \n",
       "7827   столовая                            \n",
       "...         ...                            \n",
       "13184  кафе                                \n",
       "13185  кафе                                \n",
       "13399  предприятие быстрого обслуживания   \n",
       "13991  кафе                                \n",
       "14003  кафе                                \n",
       "\n",
       "                                              address  number street  \n",
       "859    Партизанская улица, дом 30                      100     NaN    \n",
       "860    Партизанская улица, дом 30                      100     NaN    \n",
       "1491   Поречная улица, дом 5/14, строение 1            40      NaN    \n",
       "7691   1-й Нагатинский проезд, дом 10                  198     NaN    \n",
       "7827   Софийская набережная, дом 26/1, строение 1      80      NaN    \n",
       "...                                           ...      ..      ...    \n",
       "13184  Бауманская улица, дом 7, строение 3             30      NaN    \n",
       "13185  Бауманская улица, дом 7, строение 3             42      NaN    \n",
       "13399  Солянский тупик, дом 1/4, строение 1            15      NaN    \n",
       "13991  Таганская площадь, дом 88, строение 4           80      NaN    \n",
       "14003  Шарикоподшипниковская улица, дом 5, строение 1  42      NaN    \n",
       "\n",
       "[68 rows x 7 columns]"
      ]
     },
     "metadata": {},
     "output_type": "display_data"
    },
    {
     "name": "stderr",
     "output_type": "stream",
     "text": [
      "C:\\Users\\moroz\\AppData\\Local\\Temp\\ipykernel_12968\\506569483.py:13: SettingWithCopyWarning: \n",
      "A value is trying to be set on a copy of a slice from a DataFrame.\n",
      "Try using .loc[row_indexer,col_indexer] = value instead\n",
      "\n",
      "See the caveats in the documentation: https://pandas.pydata.org/pandas-docs/stable/user_guide/indexing.html#returning-a-view-versus-a-copy\n",
      "  missig_streets['address'] = 'город Москва, ' + missig_streets['address']\n",
      "C:\\Users\\moroz\\AppData\\Local\\Temp\\ipykernel_12968\\506569483.py:14: SettingWithCopyWarning: \n",
      "A value is trying to be set on a copy of a slice from a DataFrame.\n",
      "Try using .loc[row_indexer,col_indexer] = value instead\n",
      "\n",
      "See the caveats in the documentation: https://pandas.pydata.org/pandas-docs/stable/user_guide/indexing.html#returning-a-view-versus-a-copy\n",
      "  missig_streets['street'] = missig_streets['address'].str.extract(str_pat)\n"
     ]
    },
    {
     "data": {
      "text/html": [
       "<div>\n",
       "<style scoped>\n",
       "    .dataframe tbody tr th:only-of-type {\n",
       "        vertical-align: middle;\n",
       "    }\n",
       "\n",
       "    .dataframe tbody tr th {\n",
       "        vertical-align: top;\n",
       "    }\n",
       "\n",
       "    .dataframe thead th {\n",
       "        text-align: right;\n",
       "    }\n",
       "</style>\n",
       "<table border=\"1\" class=\"dataframe\">\n",
       "  <thead>\n",
       "    <tr style=\"text-align: right;\">\n",
       "      <th></th>\n",
       "      <th>id</th>\n",
       "      <th>object_name</th>\n",
       "      <th>chain</th>\n",
       "      <th>object_type</th>\n",
       "      <th>address</th>\n",
       "      <th>number</th>\n",
       "      <th>street</th>\n",
       "    </tr>\n",
       "  </thead>\n",
       "  <tbody>\n",
       "    <tr>\n",
       "      <th>0</th>\n",
       "      <td>151635</td>\n",
       "      <td>СМЕТАНА</td>\n",
       "      <td>нет</td>\n",
       "      <td>кафе</td>\n",
       "      <td>город Москва, улица Егора Абакумова, дом 9</td>\n",
       "      <td>48</td>\n",
       "      <td>улица Егора Абакумова</td>\n",
       "    </tr>\n",
       "    <tr>\n",
       "      <th>1</th>\n",
       "      <td>77874</td>\n",
       "      <td>Родник</td>\n",
       "      <td>нет</td>\n",
       "      <td>кафе</td>\n",
       "      <td>город Москва, улица Талалихина, дом 2/1, корпус 1</td>\n",
       "      <td>35</td>\n",
       "      <td>улица Талалихина</td>\n",
       "    </tr>\n",
       "    <tr>\n",
       "      <th>2</th>\n",
       "      <td>24309</td>\n",
       "      <td>Кафе «Академия»</td>\n",
       "      <td>нет</td>\n",
       "      <td>кафе</td>\n",
       "      <td>город Москва, Абельмановская улица, дом 6</td>\n",
       "      <td>95</td>\n",
       "      <td>Абельмановская улица</td>\n",
       "    </tr>\n",
       "    <tr>\n",
       "      <th>3</th>\n",
       "      <td>21894</td>\n",
       "      <td>ПИЦЦЕТОРИЯ</td>\n",
       "      <td>да</td>\n",
       "      <td>кафе</td>\n",
       "      <td>город Москва, Абрамцевская улица, дом 1</td>\n",
       "      <td>40</td>\n",
       "      <td>Абрамцевская улица</td>\n",
       "    </tr>\n",
       "    <tr>\n",
       "      <th>4</th>\n",
       "      <td>119365</td>\n",
       "      <td>Кафе «Вишневая метель»</td>\n",
       "      <td>нет</td>\n",
       "      <td>кафе</td>\n",
       "      <td>город Москва, Абрамцевская улица, дом 9, корпус 1</td>\n",
       "      <td>50</td>\n",
       "      <td>Абрамцевская улица</td>\n",
       "    </tr>\n",
       "    <tr>\n",
       "      <th>...</th>\n",
       "      <td>...</td>\n",
       "      <td>...</td>\n",
       "      <td>...</td>\n",
       "      <td>...</td>\n",
       "      <td>...</td>\n",
       "      <td>...</td>\n",
       "      <td>...</td>\n",
       "    </tr>\n",
       "    <tr>\n",
       "      <th>15361</th>\n",
       "      <td>208537</td>\n",
       "      <td>Шоколадница</td>\n",
       "      <td>да</td>\n",
       "      <td>кафе</td>\n",
       "      <td>город Москва, 3-й Крутицкий переулок, дом 18</td>\n",
       "      <td>50</td>\n",
       "      <td>3-й Крутицкий переулок</td>\n",
       "    </tr>\n",
       "    <tr>\n",
       "      <th>15362</th>\n",
       "      <td>209264</td>\n",
       "      <td>Шоколадница</td>\n",
       "      <td>да</td>\n",
       "      <td>кафе</td>\n",
       "      <td>город Москва, улица Земляной Вал, дом 33</td>\n",
       "      <td>10</td>\n",
       "      <td>улица Земляной Вал</td>\n",
       "    </tr>\n",
       "    <tr>\n",
       "      <th>15363</th>\n",
       "      <td>209186</td>\n",
       "      <td>Шоколадница</td>\n",
       "      <td>да</td>\n",
       "      <td>кафе</td>\n",
       "      <td>город Москва, улица Земляной Вал, дом 33</td>\n",
       "      <td>20</td>\n",
       "      <td>улица Земляной Вал</td>\n",
       "    </tr>\n",
       "    <tr>\n",
       "      <th>15364</th>\n",
       "      <td>221900</td>\n",
       "      <td>Шоколадница</td>\n",
       "      <td>да</td>\n",
       "      <td>кафе</td>\n",
       "      <td>город Москва, поселение Московский, Киевское шоссе, 22-й километр, домовладение 4, строение 1</td>\n",
       "      <td>36</td>\n",
       "      <td>22-й километр</td>\n",
       "    </tr>\n",
       "    <tr>\n",
       "      <th>15365</th>\n",
       "      <td>222535</td>\n",
       "      <td>Шоколадница</td>\n",
       "      <td>да</td>\n",
       "      <td>кафе</td>\n",
       "      <td>город Москва, Ходынский бульвар, дом 4</td>\n",
       "      <td>10</td>\n",
       "      <td>Ходынский бульвар</td>\n",
       "    </tr>\n",
       "  </tbody>\n",
       "</table>\n",
       "<p>13745 rows × 7 columns</p>\n",
       "</div>"
      ],
      "text/plain": [
       "           id             object_name chain object_type  \\\n",
       "0      151635  СМЕТАНА                 нет   кафе         \n",
       "1      77874   Родник                  нет   кафе         \n",
       "2      24309   Кафе «Академия»         нет   кафе         \n",
       "3      21894   ПИЦЦЕТОРИЯ              да    кафе         \n",
       "4      119365  Кафе «Вишневая метель»  нет   кафе         \n",
       "...       ...                     ...  ...    ...         \n",
       "15361  208537  Шоколадница             да    кафе         \n",
       "15362  209264  Шоколадница             да    кафе         \n",
       "15363  209186  Шоколадница             да    кафе         \n",
       "15364  221900  Шоколадница             да    кафе         \n",
       "15365  222535  Шоколадница             да    кафе         \n",
       "\n",
       "                                                                                             address  \\\n",
       "0      город Москва, улица Егора Абакумова, дом 9                                                      \n",
       "1      город Москва, улица Талалихина, дом 2/1, корпус 1                                               \n",
       "2      город Москва, Абельмановская улица, дом 6                                                       \n",
       "3      город Москва, Абрамцевская улица, дом 1                                                         \n",
       "4      город Москва, Абрамцевская улица, дом 9, корпус 1                                               \n",
       "...                                                  ...                                               \n",
       "15361  город Москва, 3-й Крутицкий переулок, дом 18                                                    \n",
       "15362  город Москва, улица Земляной Вал, дом 33                                                        \n",
       "15363  город Москва, улица Земляной Вал, дом 33                                                        \n",
       "15364  город Москва, поселение Московский, Киевское шоссе, 22-й километр, домовладение 4, строение 1   \n",
       "15365  город Москва, Ходынский бульвар, дом 4                                                          \n",
       "\n",
       "       number                  street  \n",
       "0      48      улица Егора Абакумова   \n",
       "1      35      улица Талалихина        \n",
       "2      95      Абельмановская улица    \n",
       "3      40      Абрамцевская улица      \n",
       "4      50      Абрамцевская улица      \n",
       "...    ..                     ...      \n",
       "15361  50      3-й Крутицкий переулок  \n",
       "15362  10      улица Земляной Вал      \n",
       "15363  20      улица Земляной Вал      \n",
       "15364  36      22-й километр           \n",
       "15365  10      Ходынский бульвар       \n",
       "\n",
       "[13745 rows x 7 columns]"
      ]
     },
     "metadata": {},
     "output_type": "display_data"
    }
   ],
   "source": [
    "words = ['улица','ул','переулок','шоссе','проспект','площадь','проезд',\n",
    "         'село','аллея','бульвар','набережная','тупик','линия', 'деревня', \n",
    "         'Зеленоград', 'квартал', 'микрорайон', 'посёлок', 'поселок', 'километр',\n",
    "        'территория']\n",
    "\n",
    "str_pat = r\".*,\\s*\\b([^,]*?(?:{})\\b[^,]*)[,$]+\".format(\"|\".join(words))\n",
    "\n",
    "data['street'] = data['address'].str.extract(str_pat)\n",
    "\n",
    "missig_streets = data[data['street'].isna()]\n",
    "display(missig_streets)\n",
    "\n",
    "missig_streets['address'] = 'город Москва, ' + missig_streets['address']\n",
    "missig_streets['street'] = missig_streets['address'].str.extract(str_pat)\n",
    "data['street'] = data['street'].fillna(missig_streets['street'])\n",
    "\n",
    "display(data)"
   ]
  },
  {
   "cell_type": "markdown",
   "id": "ad579a73",
   "metadata": {},
   "source": [
    "## Построение графика топ-10 улиц по количеству объектов общественного питания. \n",
    "В каких районах Москвы находятся эти улицы?"
   ]
  },
  {
   "cell_type": "code",
   "execution_count": 14,
   "id": "19897121",
   "metadata": {},
   "outputs": [
    {
     "data": {
      "text/html": [
       "<div>\n",
       "<style scoped>\n",
       "    .dataframe tbody tr th:only-of-type {\n",
       "        vertical-align: middle;\n",
       "    }\n",
       "\n",
       "    .dataframe tbody tr th {\n",
       "        vertical-align: top;\n",
       "    }\n",
       "\n",
       "    .dataframe thead th {\n",
       "        text-align: right;\n",
       "    }\n",
       "</style>\n",
       "<table border=\"1\" class=\"dataframe\">\n",
       "  <thead>\n",
       "    <tr style=\"text-align: right;\">\n",
       "      <th></th>\n",
       "      <th>street</th>\n",
       "      <th>object_name</th>\n",
       "    </tr>\n",
       "  </thead>\n",
       "  <tbody>\n",
       "    <tr>\n",
       "      <th>1475</th>\n",
       "      <td>проспект Мира</td>\n",
       "      <td>192</td>\n",
       "    </tr>\n",
       "    <tr>\n",
       "      <th>708</th>\n",
       "      <td>Ленинградский проспект</td>\n",
       "      <td>160</td>\n",
       "    </tr>\n",
       "    <tr>\n",
       "      <th>1016</th>\n",
       "      <td>Пресненская набережная</td>\n",
       "      <td>156</td>\n",
       "    </tr>\n",
       "    <tr>\n",
       "      <th>1031</th>\n",
       "      <td>Профсоюзная улица</td>\n",
       "      <td>143</td>\n",
       "    </tr>\n",
       "    <tr>\n",
       "      <th>426</th>\n",
       "      <td>Варшавское шоссе</td>\n",
       "      <td>141</td>\n",
       "    </tr>\n",
       "    <tr>\n",
       "      <th>711</th>\n",
       "      <td>Ленинский проспект</td>\n",
       "      <td>138</td>\n",
       "    </tr>\n",
       "    <tr>\n",
       "      <th>1471</th>\n",
       "      <td>проспект Вернадского</td>\n",
       "      <td>130</td>\n",
       "    </tr>\n",
       "    <tr>\n",
       "      <th>1381</th>\n",
       "      <td>город Зеленоград</td>\n",
       "      <td>128</td>\n",
       "    </tr>\n",
       "    <tr>\n",
       "      <th>698</th>\n",
       "      <td>Кутузовский проспект</td>\n",
       "      <td>98</td>\n",
       "    </tr>\n",
       "    <tr>\n",
       "      <th>622</th>\n",
       "      <td>Каширское шоссе</td>\n",
       "      <td>97</td>\n",
       "    </tr>\n",
       "  </tbody>\n",
       "</table>\n",
       "</div>"
      ],
      "text/plain": [
       "                      street  object_name\n",
       "1475  проспект Мира           192        \n",
       "708   Ленинградский проспект  160        \n",
       "1016  Пресненская набережная  156        \n",
       "1031  Профсоюзная улица       143        \n",
       "426   Варшавское шоссе        141        \n",
       "711   Ленинский проспект      138        \n",
       "1471  проспект Вернадского    130        \n",
       "1381  город Зеленоград        128        \n",
       "698   Кутузовский проспект    98         \n",
       "622   Каширское шоссе         97         "
      ]
     },
     "metadata": {},
     "output_type": "display_data"
    },
    {
     "data": {
      "image/png": "[encoded data removed]",
      "text/plain": [
       "<Figure size 1440x576 with 1 Axes>"
      ]
     },
     "metadata": {},
     "output_type": "display_data"
    }
   ],
   "source": [
    "street_data = (\n",
    "    data\n",
    "    .groupby('street')\n",
    "    .agg({'object_name':'count'})\n",
    "    .reset_index()\n",
    "    .sort_values(by='object_name', ascending=False)\n",
    "    .head(10)\n",
    ")\n",
    "\n",
    "display(street_data)\n",
    "\n",
    "#Задаем цвет, размер шрифта и размер графика\n",
    "sns.set_theme(style=\"white\", font_scale=1.3)\n",
    "fig, ax = plt.subplots(figsize=(20, 8))\n",
    "\n",
    "#Выделяем только победителя\n",
    "values = street_data['object_name']\n",
    "clrs = ['lightsteelblue' if (x < max(values)) else 'cornflowerblue' for x in values]\n",
    "\n",
    "#Строим график с подписями\n",
    "sns.barplot(x='street', y='object_name', data=street_data, palette=clrs)\n",
    "ax.set_title('Топ-10 улиц по количеству объектов общественного питания')\n",
    "plt.xlabel(u'Улица')\n",
    "plt.ylabel(u'Количество объектов общественного питания')\n",
    "\n",
    "#Делаем перенос длинных названий\n",
    "import textwrap\n",
    "def wrap_labels(ax, width, break_long_words=False):\n",
    "    labels = []\n",
    "    for label in ax.get_xticklabels():\n",
    "        text = label.get_text()\n",
    "        labels.append(textwrap.fill(text, width=width,\n",
    "                      break_long_words=break_long_words))\n",
    "    ax.set_xticklabels(labels, rotation=0)\n",
    "\n",
    "wrap_labels(ax, 10)\n",
    "ax.figure;"
   ]
  },
  {
   "cell_type": "code",
   "execution_count": 15,
   "id": "af50bfe2",
   "metadata": {},
   "outputs": [
    {
     "data": {
      "text/html": [
       "<div>\n",
       "<style scoped>\n",
       "    .dataframe tbody tr th:only-of-type {\n",
       "        vertical-align: middle;\n",
       "    }\n",
       "\n",
       "    .dataframe tbody tr th {\n",
       "        vertical-align: top;\n",
       "    }\n",
       "\n",
       "    .dataframe thead th {\n",
       "        text-align: right;\n",
       "    }\n",
       "</style>\n",
       "<table border=\"1\" class=\"dataframe\">\n",
       "  <thead>\n",
       "    <tr style=\"text-align: right;\">\n",
       "      <th></th>\n",
       "      <th>streetname</th>\n",
       "      <th>areaid</th>\n",
       "      <th>okrug</th>\n",
       "      <th>area</th>\n",
       "    </tr>\n",
       "  </thead>\n",
       "  <tbody>\n",
       "    <tr>\n",
       "      <th>0</th>\n",
       "      <td>Выставочный переулок</td>\n",
       "      <td>17</td>\n",
       "      <td>ЦАО</td>\n",
       "      <td>Пресненский район</td>\n",
       "    </tr>\n",
       "    <tr>\n",
       "      <th>1</th>\n",
       "      <td>улица Гашека</td>\n",
       "      <td>17</td>\n",
       "      <td>ЦАО</td>\n",
       "      <td>Пресненский район</td>\n",
       "    </tr>\n",
       "    <tr>\n",
       "      <th>2</th>\n",
       "      <td>Большая Никитская улица</td>\n",
       "      <td>17</td>\n",
       "      <td>ЦАО</td>\n",
       "      <td>Пресненский район</td>\n",
       "    </tr>\n",
       "    <tr>\n",
       "      <th>3</th>\n",
       "      <td>Глубокий переулок</td>\n",
       "      <td>17</td>\n",
       "      <td>ЦАО</td>\n",
       "      <td>Пресненский район</td>\n",
       "    </tr>\n",
       "    <tr>\n",
       "      <th>4</th>\n",
       "      <td>Большой Гнездниковский переулок</td>\n",
       "      <td>17</td>\n",
       "      <td>ЦАО</td>\n",
       "      <td>Пресненский район</td>\n",
       "    </tr>\n",
       "  </tbody>\n",
       "</table>\n",
       "</div>"
      ],
      "text/plain": [
       "                        streetname  areaid okrug               area\n",
       "0  Выставочный переулок             17      ЦАО   Пресненский район\n",
       "1  улица Гашека                     17      ЦАО   Пресненский район\n",
       "2  Большая Никитская улица          17      ЦАО   Пресненский район\n",
       "3  Глубокий переулок                17      ЦАО   Пресненский район\n",
       "4  Большой Гнездниковский переулок  17      ЦАО   Пресненский район"
      ]
     },
     "metadata": {},
     "output_type": "display_data"
    }
   ],
   "source": [
    "mosgaz_streets = pd.read_csv('https://frs.noosphere.ru/xmlui/bitstream/handle/20.500.11925/714058/mosgaz-streets.csv?sequence=1&isAllowed=y')\n",
    "\n",
    "display(mosgaz_streets.head())"
   ]
  },
  {
   "cell_type": "code",
   "execution_count": 16,
   "id": "65069431",
   "metadata": {
    "scrolled": true
   },
   "outputs": [
    {
     "name": "stdout",
     "output_type": "stream",
     "text": [
      "Список районов данных улиц: ['Пресненский район' 'Район Дорогомилово' 'Район Фили-Давыдково'\n",
      " 'Район Проспект Вернадского' 'Район Раменки' 'Район Тропарево-Никулино'\n",
      " 'Район Крюково' 'Район Матушкино-Савелки' 'Панфиловский район'\n",
      " 'Район Аэропорт' 'Район Беговой' 'Хорошевский район' 'Район Сокол'\n",
      " 'Алексеевский район' 'Ярославский Район' 'Район Марьина роща'\n",
      " 'Останкинский район' 'Район Ростокино' 'Район Свиблово'\n",
      " 'Район Чертаново Центральное' 'Район Чертаново Северное'\n",
      " 'Район Чертаново Южное' 'Донской район' 'Район Москворечье-Сабурово'\n",
      " 'Район Нагатино-Садовники' 'Нагорный район'\n",
      " 'Район Орехово-Борисово Южное' 'Район Орехово-Борисово Северное'\n",
      " 'Академический район' 'Район Черемушки' 'Район Гагаринский'\n",
      " 'Район Ясенево' 'Район Коньково' 'Ломоносовский район'\n",
      " 'Обручевский район' 'Район Северное Бутово' 'Район Теплый Стан'\n",
      " 'Район Южное Бутово' 'Район Якиманка' 'Мещанский район']\n"
     ]
    }
   ],
   "source": [
    "mosgaz_streets['streetname'] = mosgaz_streets['streetname'].str.strip(' ')\n",
    "district_top_10 = mosgaz_streets.query('streetname in @street_data.street')\n",
    "top_10_list = district_top_10['area'].unique()\n",
    "print(f'Список районов данных улиц: {top_10_list}')"
   ]
  },
  {
   "cell_type": "markdown",
   "id": "4e632a9d",
   "metadata": {},
   "source": [
    "Больше всего объектов общественного питания находится на проспекте Мира. \n",
    "\n",
    "Неудивительно, это самые длинные улицы Москвы, к тому же, начинающиеся близко к центру и проходящие через большие спальные районы."
   ]
  },
  {
   "cell_type": "markdown",
   "id": "384cfa6a",
   "metadata": {},
   "source": [
    "## Число улиц с одним объектом общественного питания. \n",
    "В каких районах Москвы находятся эти улицы?"
   ]
  },
  {
   "cell_type": "code",
   "execution_count": 17,
   "id": "fe4bfb72",
   "metadata": {},
   "outputs": [
    {
     "data": {
      "text/html": [
       "<div>\n",
       "<style scoped>\n",
       "    .dataframe tbody tr th:only-of-type {\n",
       "        vertical-align: middle;\n",
       "    }\n",
       "\n",
       "    .dataframe tbody tr th {\n",
       "        vertical-align: top;\n",
       "    }\n",
       "\n",
       "    .dataframe thead th {\n",
       "        text-align: right;\n",
       "    }\n",
       "</style>\n",
       "<table border=\"1\" class=\"dataframe\">\n",
       "  <thead>\n",
       "    <tr style=\"text-align: right;\">\n",
       "      <th></th>\n",
       "      <th>street</th>\n",
       "      <th>object_name</th>\n",
       "    </tr>\n",
       "  </thead>\n",
       "  <tbody>\n",
       "    <tr>\n",
       "      <th>976</th>\n",
       "      <td>Петроверигский переулок</td>\n",
       "      <td>1</td>\n",
       "    </tr>\n",
       "    <tr>\n",
       "      <th>1417</th>\n",
       "      <td>переулок Красина</td>\n",
       "      <td>1</td>\n",
       "    </tr>\n",
       "    <tr>\n",
       "      <th>1416</th>\n",
       "      <td>переулок Васнецова</td>\n",
       "      <td>1</td>\n",
       "    </tr>\n",
       "    <tr>\n",
       "      <th>614</th>\n",
       "      <td>Каргопольская улица</td>\n",
       "      <td>1</td>\n",
       "    </tr>\n",
       "    <tr>\n",
       "      <th>615</th>\n",
       "      <td>Карельский бульвар</td>\n",
       "      <td>1</td>\n",
       "    </tr>\n",
       "  </tbody>\n",
       "</table>\n",
       "</div>"
      ],
      "text/plain": [
       "                       street  object_name\n",
       "976   Петроверигский переулок  1          \n",
       "1417  переулок Красина         1          \n",
       "1416  переулок Васнецова       1          \n",
       "614   Каргопольская улица      1          \n",
       "615   Карельский бульвар       1          "
      ]
     },
     "metadata": {},
     "output_type": "display_data"
    },
    {
     "name": "stdout",
     "output_type": "stream",
     "text": [
      "Число улиц с одним объектом общественного питания: 601\n"
     ]
    }
   ],
   "source": [
    "single_object_data = (\n",
    "    data\n",
    "    .groupby('street')\n",
    "    .agg({'object_name':'count'})\n",
    "    .reset_index()\n",
    "    .sort_values(by='object_name', ascending=True)\n",
    ")\n",
    "single_object_data = single_object_data[single_object_data['object_name'] == 1]\n",
    "\n",
    "display(single_object_data.head())\n",
    "\n",
    "single_object_data_len = len(single_object_data['street'])\n",
    "\n",
    "print(f'Число улиц с одним объектом общественного питания: {single_object_data_len}')"
   ]
  },
  {
   "cell_type": "code",
   "execution_count": 18,
   "id": "cd748e8e",
   "metadata": {},
   "outputs": [
    {
     "name": "stdout",
     "output_type": "stream",
     "text": [
      "Список районов данных улиц: ['Пресненский район' 'Таганский район' 'Тверской район' 'Район Арбат'\n",
      " 'Район Замоскворечье' 'Район Богородское' 'Район Гольяново'\n",
      " 'Район Измайлово' 'Район Косино-Ухтомский' 'Басманный район'\n",
      " 'Район Метрогородок' 'Район Новогиреево' 'Район Перово'\n",
      " 'Район Преображенское' 'Район Северное Измайлово' 'Район Соколиная Гора'\n",
      " 'Район Вешняки' 'Район Восточное Измайлово' 'Район Восточный'\n",
      " 'Район Сокольники' 'Район Дорогомилово' 'Район Филевский Парк'\n",
      " 'Район Фили-Давыдково' 'Район Кунцево' 'Можайский Район'\n",
      " 'Район Ново-Переделкино' 'Район Очаково-Матвеевское' 'Район Раменки'\n",
      " 'Район Солнцево' 'Район Внуково' 'Район Крюково'\n",
      " 'Район Матушкино-Савелки' 'Панфиловский район' 'Район Аэропорт'\n",
      " 'Район Беговой' 'Бескудниковский Район' 'Дмитровский район'\n",
      " 'Головинский район' 'Хорошевский район' 'Район Коптево'\n",
      " 'Район Левобережный' 'Молжаниновский район' 'Савеловский район'\n",
      " 'Район Сокол' 'Тимирязевский Район' 'Войковский Район'\n",
      " 'Район Западное Дегунино' 'Алексеевский район' 'Алтуфьевский район'\n",
      " 'Бабушкинский район' 'Бутырский район' 'Ярославский Район'\n",
      " 'Район Южное Медведково' 'Район Лианозово' 'Район Хамовники'\n",
      " 'Лосиноостровский район' 'Район Марфино' 'Район Марьина роща'\n",
      " 'Останкинский район' 'Район Отрадное' 'Район Ростокино'\n",
      " 'Район Северное Медведково' 'Район Северный' 'Район Свиблово'\n",
      " 'Район Хорошево-Мневники' 'Район Куркино' 'Район Митино'\n",
      " 'Район Покровское-Стрешнево' 'Район Щукино' 'Район Строгино'\n",
      " 'Район Южное Тушино' 'Район Бирюлево Восточное' 'Район Царицыно'\n",
      " 'Район Чертаново Южное' 'Даниловский район' 'Донской район'\n",
      " 'Район Москворечье-Сабурово' 'Район Нагатино-Садовники' 'Нагорный район'\n",
      " 'Южнопортовый Район' 'Район Кузьминки' 'Район Лефортово' 'Район Люблино'\n",
      " 'Район Марьино' 'Нижегородский район' 'Район Печатники' 'Рязанский район'\n",
      " 'Район Текстильщики' 'Район Выхино-Жулебино' 'Район Черемушки'\n",
      " 'Район Гагаринский' 'Район Ясенево' 'Район Коньково' 'Район Котловка'\n",
      " 'Район Якиманка' 'Обручевский район' 'Район Северное Бутово'\n",
      " 'Район Зюзино' 'Район Южное Бутово' 'Красносельский район'\n",
      " 'Мещанский район']\n"
     ]
    }
   ],
   "source": [
    "district_single_object = mosgaz_streets.query('streetname in @single_object_data.street')\n",
    "single_object_list = district_single_object['area'].unique()\n",
    "print(f'Список районов данных улиц: {single_object_list}')"
   ]
  },
  {
   "cell_type": "markdown",
   "id": "1bcf16fc",
   "metadata": {},
   "source": [
    "Улицы с одним заведением общественного питания короткие и находятся по всей Москве."
   ]
  },
  {
   "cell_type": "code",
   "execution_count": 19,
   "id": "f1f001b1",
   "metadata": {},
   "outputs": [],
   "source": [
    "#data_top_10 = data.query('street in @street_data.street')\n",
    "#data_single_object = data.query('street in @single_object_data.street')\n",
    "\n",
    "#data_top_10.to_excel (r'C:\\Users\\moroz\\Desktop\\data_top_10.xlsx', index = False, header=True)\n",
    "#data_single_object.to_excel (r'C:\\Users\\moroz\\Desktop\\data_single_object.xlsx', index = False, header=True)"
   ]
  },
  {
   "cell_type": "markdown",
   "id": "4fe04811",
   "metadata": {},
   "source": [
    "Интерактивная карта: <https://www.google.com/maps/d/edit?mid=1bDG5ekhPlViPZt5OJJA0wjbZDh_835E&usp=sharing>"
   ]
  },
  {
   "cell_type": "markdown",
   "id": "f993e82d",
   "metadata": {},
   "source": [
    "# Вывод.\n",
    "Больше всего заведений типа \"кафе\" (их 5789) , вдвое меньше \"столовая\" (2568) и \"ресторан\" (2240 заведений). Остальные типа заведений составляют менее значительную часть от общего числа.\n",
    "\n",
    "В 4 раза больше несетевых заведений (11045) , чем сетевых (2700).\n",
    "\n",
    "Для предприятий быстрого обслуживания наиболее характерно сетевое распространение (больше половины заведений этого типа), большинство остальных типов общепита на 70-80% состоят из несетвых точек.\n",
    "\n",
    "Для сетевых общепитов характерно характерно небольшое (1-20 точек) количество заведений с большим (до 250) количеством посадочных мест.\n",
    "\n",
    "Как правило, в столовых наибольшее количество посадочных мест (около 131), далее идут рестораны (99) и буфеты (58), а замыкают список отделы кулинарии в магазинах (всего 12).\n",
    "\n",
    "Несетевые заведения располагаются по всей Москве, но не часто встречаются на крупных улицах.\n",
    "Сетевые же заведения чаще всего располагаются вдоль крупнейших улиц Москвы в ЦАО, САО, ЗАО и ЮАО.\n",
    "\n",
    "Концепция небольшого кафе с роботами-официантами вписывается в наиболее популярные виды предприятий общественного питания. Кафе наиболее популярный тип общепита, в таких местах гости сидят подолгу и не будут мешать передвижению роботов, что сложно представить в ресторанах быстрого питания. Чаще можно встретить несетевые заведения с примерно 40 посадочными местами. Такое количество гостей должно быть по силам нескольким роботам-официантам."
   ]
  },
  {
   "cell_type": "markdown",
   "id": "b55e3d6d",
   "metadata": {},
   "source": [
    "Ссылка на презентацию: <https://drive.google.com/file/d/1hhzk47qYYcQdoclaOP8v7eqkD8mE5qHR/view?usp=sharing>"
   ]
  }
 ],
 "metadata": {
  "ExecuteTimeLog": [
   {
    "duration": 1304,
    "start_time": "2022-07-20T02:59:52.855Z"
   },
   {
    "duration": 24,
    "start_time": "2022-07-20T02:59:54.161Z"
   },
   {
    "duration": 19,
    "start_time": "2022-07-20T02:59:54.187Z"
   },
   {
    "duration": 8,
    "start_time": "2022-07-20T02:59:54.208Z"
   },
   {
    "duration": 28,
    "start_time": "2022-07-20T02:59:54.241Z"
   },
   {
    "duration": 7,
    "start_time": "2022-07-20T02:59:54.270Z"
   },
   {
    "duration": 14,
    "start_time": "2022-07-20T02:59:54.278Z"
   },
   {
    "duration": 277,
    "start_time": "2022-07-20T02:59:54.294Z"
   },
   {
    "duration": 167,
    "start_time": "2022-07-20T02:59:54.573Z"
   },
   {
    "duration": 21,
    "start_time": "2022-07-20T02:59:54.742Z"
   },
   {
    "duration": 261,
    "start_time": "2022-07-20T02:59:54.765Z"
   },
   {
    "duration": 299,
    "start_time": "2022-07-20T02:59:55.029Z"
   },
   {
    "duration": 86,
    "start_time": "2022-07-20T02:59:55.329Z"
   },
   {
    "duration": 280,
    "start_time": "2022-07-20T02:59:55.418Z"
   },
   {
    "duration": 206,
    "start_time": "2022-07-20T02:59:55.700Z"
   },
   {
    "duration": 0,
    "start_time": "2022-07-20T02:59:55.908Z"
   },
   {
    "duration": 0,
    "start_time": "2022-07-20T02:59:55.910Z"
   },
   {
    "duration": 0,
    "start_time": "2022-07-20T02:59:55.911Z"
   },
   {
    "duration": 0,
    "start_time": "2022-07-20T02:59:55.912Z"
   },
   {
    "duration": 14,
    "start_time": "2022-07-20T03:24:12.642Z"
   },
   {
    "duration": 11,
    "start_time": "2022-07-20T03:24:25.858Z"
   },
   {
    "duration": 17,
    "start_time": "2022-07-20T03:24:45.736Z"
   },
   {
    "duration": 1456,
    "start_time": "2022-07-21T05:43:53.338Z"
   },
   {
    "duration": 21,
    "start_time": "2022-07-21T05:43:54.796Z"
   },
   {
    "duration": 16,
    "start_time": "2022-07-21T05:43:54.818Z"
   },
   {
    "duration": 8,
    "start_time": "2022-07-21T05:43:54.836Z"
   },
   {
    "duration": 38,
    "start_time": "2022-07-21T05:43:54.851Z"
   },
   {
    "duration": 5,
    "start_time": "2022-07-21T05:43:54.891Z"
   },
   {
    "duration": 25,
    "start_time": "2022-07-21T05:43:54.898Z"
   },
   {
    "duration": 257,
    "start_time": "2022-07-21T05:43:54.924Z"
   },
   {
    "duration": 179,
    "start_time": "2022-07-21T05:43:55.183Z"
   },
   {
    "duration": 242,
    "start_time": "2022-07-21T05:43:55.365Z"
   },
   {
    "duration": 253,
    "start_time": "2022-07-21T05:43:55.609Z"
   },
   {
    "duration": 268,
    "start_time": "2022-07-21T05:43:55.865Z"
   },
   {
    "duration": 97,
    "start_time": "2022-07-21T05:43:56.135Z"
   },
   {
    "duration": 281,
    "start_time": "2022-07-21T05:43:56.234Z"
   },
   {
    "duration": 245,
    "start_time": "2022-07-21T05:43:56.517Z"
   },
   {
    "duration": 94,
    "start_time": "2022-07-21T05:43:56.763Z"
   },
   {
    "duration": 34,
    "start_time": "2022-07-21T05:43:56.859Z"
   },
   {
    "duration": 13,
    "start_time": "2022-07-21T05:43:56.895Z"
   },
   {
    "duration": 13,
    "start_time": "2022-07-21T05:43:56.909Z"
   },
   {
    "duration": 16,
    "start_time": "2022-07-21T05:57:24.612Z"
   }
  ],
  "kernelspec": {
   "display_name": "Python 3 (ipykernel)",
   "language": "python",
   "name": "python3"
  },
  "language_info": {
   "codemirror_mode": {
    "name": "ipython",
    "version": 3
   },
   "file_extension": ".py",
   "mimetype": "text/x-python",
   "name": "python",
   "nbconvert_exporter": "python",
   "pygments_lexer": "ipython3",
   "version": "3.9.12"
  },
  "toc": {
   "base_numbering": 1,
   "nav_menu": {},
   "number_sections": true,
   "sideBar": true,
   "skip_h1_title": true,
   "title_cell": "Table of Contents",
   "title_sidebar": "Contents",
   "toc_cell": false,
   "toc_position": {},
   "toc_section_display": true,
   "toc_window_display": false
  }
 },
 "nbformat": 4,
 "nbformat_minor": 5
}
