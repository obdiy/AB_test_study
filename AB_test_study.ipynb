{
 "cells": [
  {
   "cell_type": "markdown",
   "id": "2ff12b73",
   "metadata": {},
   "source": [
    "# Приоритизация гипотез, A/B-тест и анализ результатов."
   ]
  },
  {
   "cell_type": "markdown",
   "id": "7090765e",
   "metadata": {},
   "source": [
    "## Описание проекта\n",
    "Вы — аналитик крупного интернет-магазина. Вместе с отделом маркетинга вы подготовили список гипотез для увеличения выручки.\n",
    "Приоритизируйте гипотезы, запустите A/B-тест и проанализируйте результаты."
   ]
  },
  {
   "cell_type": "markdown",
   "id": "b4c4297c",
   "metadata": {},
   "source": [
    "# Часть 1. Приоритизация гипотез."
   ]
  },
  {
   "cell_type": "markdown",
   "id": "53d5b69c",
   "metadata": {},
   "source": [
    "## Обзор данных"
   ]
  },
  {
   "cell_type": "code",
   "execution_count": 1,
   "id": "1b00c536",
   "metadata": {
    "scrolled": false
   },
   "outputs": [
    {
     "name": "stdout",
     "output_type": "stream",
     "text": [
      "hypothesis\n"
     ]
    },
    {
     "data": {
      "text/html": [
       "<div>\n",
       "<style scoped>\n",
       "    .dataframe tbody tr th:only-of-type {\n",
       "        vertical-align: middle;\n",
       "    }\n",
       "\n",
       "    .dataframe tbody tr th {\n",
       "        vertical-align: top;\n",
       "    }\n",
       "\n",
       "    .dataframe thead th {\n",
       "        text-align: right;\n",
       "    }\n",
       "</style>\n",
       "<table border=\"1\" class=\"dataframe\">\n",
       "  <thead>\n",
       "    <tr style=\"text-align: right;\">\n",
       "      <th></th>\n",
       "      <th>Hypothesis</th>\n",
       "      <th>Reach</th>\n",
       "      <th>Impact</th>\n",
       "      <th>Confidence</th>\n",
       "      <th>Efforts</th>\n",
       "    </tr>\n",
       "  </thead>\n",
       "  <tbody>\n",
       "    <tr>\n",
       "      <th>0</th>\n",
       "      <td>Добавить два новых канала привлечения трафика, что позволит привлекать на 30% больше пользователей</td>\n",
       "      <td>3</td>\n",
       "      <td>10</td>\n",
       "      <td>8</td>\n",
       "      <td>6</td>\n",
       "    </tr>\n",
       "    <tr>\n",
       "      <th>1</th>\n",
       "      <td>Запустить собственную службу доставки, что сократит срок доставки заказов</td>\n",
       "      <td>2</td>\n",
       "      <td>5</td>\n",
       "      <td>4</td>\n",
       "      <td>10</td>\n",
       "    </tr>\n",
       "    <tr>\n",
       "      <th>2</th>\n",
       "      <td>Добавить блоки рекомендаций товаров на сайт интернет магазина, чтобы повысить конверсию и средний чек заказа</td>\n",
       "      <td>8</td>\n",
       "      <td>3</td>\n",
       "      <td>7</td>\n",
       "      <td>3</td>\n",
       "    </tr>\n",
       "    <tr>\n",
       "      <th>3</th>\n",
       "      <td>Изменить структура категорий, что увеличит конверсию, т.к. пользователи быстрее найдут нужный товар</td>\n",
       "      <td>8</td>\n",
       "      <td>3</td>\n",
       "      <td>3</td>\n",
       "      <td>8</td>\n",
       "    </tr>\n",
       "    <tr>\n",
       "      <th>4</th>\n",
       "      <td>Изменить цвет фона главной страницы, чтобы увеличить вовлеченность пользователей</td>\n",
       "      <td>3</td>\n",
       "      <td>1</td>\n",
       "      <td>1</td>\n",
       "      <td>1</td>\n",
       "    </tr>\n",
       "    <tr>\n",
       "      <th>5</th>\n",
       "      <td>Добавить страницу отзывов клиентов о магазине, что позволит увеличить количество заказов</td>\n",
       "      <td>3</td>\n",
       "      <td>2</td>\n",
       "      <td>2</td>\n",
       "      <td>3</td>\n",
       "    </tr>\n",
       "    <tr>\n",
       "      <th>6</th>\n",
       "      <td>Показать на главной странице баннеры с актуальными акциями и распродажами, чтобы увеличить конверсию</td>\n",
       "      <td>5</td>\n",
       "      <td>3</td>\n",
       "      <td>8</td>\n",
       "      <td>3</td>\n",
       "    </tr>\n",
       "    <tr>\n",
       "      <th>7</th>\n",
       "      <td>Добавить форму подписки на все основные страницы, чтобы собрать базу клиентов для email-рассылок</td>\n",
       "      <td>10</td>\n",
       "      <td>7</td>\n",
       "      <td>8</td>\n",
       "      <td>5</td>\n",
       "    </tr>\n",
       "    <tr>\n",
       "      <th>8</th>\n",
       "      <td>Запустить акцию, дающую скидку на товар в день рождения</td>\n",
       "      <td>1</td>\n",
       "      <td>9</td>\n",
       "      <td>9</td>\n",
       "      <td>5</td>\n",
       "    </tr>\n",
       "  </tbody>\n",
       "</table>\n",
       "</div>"
      ],
      "text/plain": [
       "                                                                                                     Hypothesis  \\\n",
       "0  Добавить два новых канала привлечения трафика, что позволит привлекать на 30% больше пользователей             \n",
       "1  Запустить собственную службу доставки, что сократит срок доставки заказов                                      \n",
       "2  Добавить блоки рекомендаций товаров на сайт интернет магазина, чтобы повысить конверсию и средний чек заказа   \n",
       "3  Изменить структура категорий, что увеличит конверсию, т.к. пользователи быстрее найдут нужный товар            \n",
       "4  Изменить цвет фона главной страницы, чтобы увеличить вовлеченность пользователей                               \n",
       "5  Добавить страницу отзывов клиентов о магазине, что позволит увеличить количество заказов                       \n",
       "6  Показать на главной странице баннеры с актуальными акциями и распродажами, чтобы увеличить конверсию           \n",
       "7  Добавить форму подписки на все основные страницы, чтобы собрать базу клиентов для email-рассылок               \n",
       "8  Запустить акцию, дающую скидку на товар в день рождения                                                        \n",
       "\n",
       "   Reach  Impact  Confidence  Efforts  \n",
       "0  3      10      8           6        \n",
       "1  2      5       4           10       \n",
       "2  8      3       7           3        \n",
       "3  8      3       3           8        \n",
       "4  3      1       1           1        \n",
       "5  3      2       2           3        \n",
       "6  5      3       8           3        \n",
       "7  10     7       8           5        \n",
       "8  1      9       9           5        "
      ]
     },
     "metadata": {},
     "output_type": "display_data"
    },
    {
     "name": "stdout",
     "output_type": "stream",
     "text": [
      "<class 'pandas.core.frame.DataFrame'>\n",
      "RangeIndex: 9 entries, 0 to 8\n",
      "Data columns (total 5 columns):\n",
      " #   Column      Non-Null Count  Dtype \n",
      "---  ------      --------------  ----- \n",
      " 0   Hypothesis  9 non-null      object\n",
      " 1   Reach       9 non-null      int64 \n",
      " 2   Impact      9 non-null      int64 \n",
      " 3   Confidence  9 non-null      int64 \n",
      " 4   Efforts     9 non-null      int64 \n",
      "dtypes: int64(4), object(1)\n",
      "memory usage: 488.0+ bytes\n"
     ]
    }
   ],
   "source": [
    "import pandas as pd\n",
    "import numpy as np\n",
    "import matplotlib.pyplot as plt\n",
    "import scipy.stats as stats\n",
    "import datetime as dt\n",
    "\n",
    "pd.options.display.max_colwidth = 1\n",
    "\n",
    "try:\n",
    "    hypothesis = pd.read_csv('datasets/hypothesis.csv')\n",
    "except:\n",
    "    hypothesis = pd.read_csv('/datasets/hypothesis.csv')\n",
    "\n",
    "#Посмотрим что внутри\n",
    "print('hypothesis')\n",
    "display(hypothesis)\n",
    "hypothesis.info()"
   ]
  },
  {
   "cell_type": "markdown",
   "id": "c2bdde69",
   "metadata": {},
   "source": [
    "Небольшая таблица, все данные в порядке"
   ]
  },
  {
   "cell_type": "markdown",
   "id": "91c101b6",
   "metadata": {},
   "source": [
    "## Задача 1.\n",
    "Примените фреймворк ICE для приоритизации гипотез. Отсортируйте их по убыванию приоритета."
   ]
  },
  {
   "cell_type": "code",
   "execution_count": 2,
   "id": "f7cb4fd5",
   "metadata": {
    "scrolled": true
   },
   "outputs": [
    {
     "data": {
      "text/html": [
       "<div>\n",
       "<style scoped>\n",
       "    .dataframe tbody tr th:only-of-type {\n",
       "        vertical-align: middle;\n",
       "    }\n",
       "\n",
       "    .dataframe tbody tr th {\n",
       "        vertical-align: top;\n",
       "    }\n",
       "\n",
       "    .dataframe thead th {\n",
       "        text-align: right;\n",
       "    }\n",
       "</style>\n",
       "<table border=\"1\" class=\"dataframe\">\n",
       "  <thead>\n",
       "    <tr style=\"text-align: right;\">\n",
       "      <th></th>\n",
       "      <th>Hypothesis</th>\n",
       "      <th>ICE</th>\n",
       "    </tr>\n",
       "  </thead>\n",
       "  <tbody>\n",
       "    <tr>\n",
       "      <th>8</th>\n",
       "      <td>Запустить акцию, дающую скидку на товар в день рождения</td>\n",
       "      <td>16.200</td>\n",
       "    </tr>\n",
       "    <tr>\n",
       "      <th>0</th>\n",
       "      <td>Добавить два новых канала привлечения трафика, что позволит привлекать на 30% больше пользователей</td>\n",
       "      <td>13.333</td>\n",
       "    </tr>\n",
       "    <tr>\n",
       "      <th>7</th>\n",
       "      <td>Добавить форму подписки на все основные страницы, чтобы собрать базу клиентов для email-рассылок</td>\n",
       "      <td>11.200</td>\n",
       "    </tr>\n",
       "    <tr>\n",
       "      <th>6</th>\n",
       "      <td>Показать на главной странице баннеры с актуальными акциями и распродажами, чтобы увеличить конверсию</td>\n",
       "      <td>8.000</td>\n",
       "    </tr>\n",
       "    <tr>\n",
       "      <th>2</th>\n",
       "      <td>Добавить блоки рекомендаций товаров на сайт интернет магазина, чтобы повысить конверсию и средний чек заказа</td>\n",
       "      <td>7.000</td>\n",
       "    </tr>\n",
       "    <tr>\n",
       "      <th>1</th>\n",
       "      <td>Запустить собственную службу доставки, что сократит срок доставки заказов</td>\n",
       "      <td>2.000</td>\n",
       "    </tr>\n",
       "    <tr>\n",
       "      <th>5</th>\n",
       "      <td>Добавить страницу отзывов клиентов о магазине, что позволит увеличить количество заказов</td>\n",
       "      <td>1.333</td>\n",
       "    </tr>\n",
       "    <tr>\n",
       "      <th>3</th>\n",
       "      <td>Изменить структура категорий, что увеличит конверсию, т.к. пользователи быстрее найдут нужный товар</td>\n",
       "      <td>1.125</td>\n",
       "    </tr>\n",
       "    <tr>\n",
       "      <th>4</th>\n",
       "      <td>Изменить цвет фона главной страницы, чтобы увеличить вовлеченность пользователей</td>\n",
       "      <td>1.000</td>\n",
       "    </tr>\n",
       "  </tbody>\n",
       "</table>\n",
       "</div>"
      ],
      "text/plain": [
       "                                                                                                     Hypothesis  \\\n",
       "8  Запустить акцию, дающую скидку на товар в день рождения                                                        \n",
       "0  Добавить два новых канала привлечения трафика, что позволит привлекать на 30% больше пользователей             \n",
       "7  Добавить форму подписки на все основные страницы, чтобы собрать базу клиентов для email-рассылок               \n",
       "6  Показать на главной странице баннеры с актуальными акциями и распродажами, чтобы увеличить конверсию           \n",
       "2  Добавить блоки рекомендаций товаров на сайт интернет магазина, чтобы повысить конверсию и средний чек заказа   \n",
       "1  Запустить собственную службу доставки, что сократит срок доставки заказов                                      \n",
       "5  Добавить страницу отзывов клиентов о магазине, что позволит увеличить количество заказов                       \n",
       "3  Изменить структура категорий, что увеличит конверсию, т.к. пользователи быстрее найдут нужный товар            \n",
       "4  Изменить цвет фона главной страницы, чтобы увеличить вовлеченность пользователей                               \n",
       "\n",
       "      ICE  \n",
       "8  16.200  \n",
       "0  13.333  \n",
       "7  11.200  \n",
       "6  8.000   \n",
       "2  7.000   \n",
       "1  2.000   \n",
       "5  1.333   \n",
       "3  1.125   \n",
       "4  1.000   "
      ]
     },
     "metadata": {},
     "output_type": "display_data"
    }
   ],
   "source": [
    "hypothesis['ICE'] = round(((hypothesis['Impact']*hypothesis['Confidence']) / hypothesis['Efforts']), 3)\n",
    "\n",
    "display(hypothesis[['Hypothesis', 'ICE']].sort_values(by='ICE', ascending=False))"
   ]
  },
  {
   "cell_type": "markdown",
   "id": "1adee28e",
   "metadata": {},
   "source": [
    "С фреймворком ICE приоритетной становится задача \"Запустить акцию, дающую скидку на товар в день рождения\"."
   ]
  },
  {
   "cell_type": "markdown",
   "id": "03289f7b",
   "metadata": {},
   "source": [
    "## Задача 2.\n",
    "Примените фреймворк RICE для приоритизации гипотез. Отсортируйте их по убыванию приоритета."
   ]
  },
  {
   "cell_type": "code",
   "execution_count": 3,
   "id": "18a38ebc",
   "metadata": {
    "scrolled": true
   },
   "outputs": [
    {
     "data": {
      "text/html": [
       "<div>\n",
       "<style scoped>\n",
       "    .dataframe tbody tr th:only-of-type {\n",
       "        vertical-align: middle;\n",
       "    }\n",
       "\n",
       "    .dataframe tbody tr th {\n",
       "        vertical-align: top;\n",
       "    }\n",
       "\n",
       "    .dataframe thead th {\n",
       "        text-align: right;\n",
       "    }\n",
       "</style>\n",
       "<table border=\"1\" class=\"dataframe\">\n",
       "  <thead>\n",
       "    <tr style=\"text-align: right;\">\n",
       "      <th></th>\n",
       "      <th>Hypothesis</th>\n",
       "      <th>RICE</th>\n",
       "    </tr>\n",
       "  </thead>\n",
       "  <tbody>\n",
       "    <tr>\n",
       "      <th>7</th>\n",
       "      <td>Добавить форму подписки на все основные страницы, чтобы собрать базу клиентов для email-рассылок</td>\n",
       "      <td>112.0</td>\n",
       "    </tr>\n",
       "    <tr>\n",
       "      <th>2</th>\n",
       "      <td>Добавить блоки рекомендаций товаров на сайт интернет магазина, чтобы повысить конверсию и средний чек заказа</td>\n",
       "      <td>56.0</td>\n",
       "    </tr>\n",
       "    <tr>\n",
       "      <th>0</th>\n",
       "      <td>Добавить два новых канала привлечения трафика, что позволит привлекать на 30% больше пользователей</td>\n",
       "      <td>40.0</td>\n",
       "    </tr>\n",
       "    <tr>\n",
       "      <th>6</th>\n",
       "      <td>Показать на главной странице баннеры с актуальными акциями и распродажами, чтобы увеличить конверсию</td>\n",
       "      <td>40.0</td>\n",
       "    </tr>\n",
       "    <tr>\n",
       "      <th>8</th>\n",
       "      <td>Запустить акцию, дающую скидку на товар в день рождения</td>\n",
       "      <td>16.2</td>\n",
       "    </tr>\n",
       "    <tr>\n",
       "      <th>3</th>\n",
       "      <td>Изменить структура категорий, что увеличит конверсию, т.к. пользователи быстрее найдут нужный товар</td>\n",
       "      <td>9.0</td>\n",
       "    </tr>\n",
       "    <tr>\n",
       "      <th>1</th>\n",
       "      <td>Запустить собственную службу доставки, что сократит срок доставки заказов</td>\n",
       "      <td>4.0</td>\n",
       "    </tr>\n",
       "    <tr>\n",
       "      <th>5</th>\n",
       "      <td>Добавить страницу отзывов клиентов о магазине, что позволит увеличить количество заказов</td>\n",
       "      <td>4.0</td>\n",
       "    </tr>\n",
       "    <tr>\n",
       "      <th>4</th>\n",
       "      <td>Изменить цвет фона главной страницы, чтобы увеличить вовлеченность пользователей</td>\n",
       "      <td>3.0</td>\n",
       "    </tr>\n",
       "  </tbody>\n",
       "</table>\n",
       "</div>"
      ],
      "text/plain": [
       "                                                                                                     Hypothesis  \\\n",
       "7  Добавить форму подписки на все основные страницы, чтобы собрать базу клиентов для email-рассылок               \n",
       "2  Добавить блоки рекомендаций товаров на сайт интернет магазина, чтобы повысить конверсию и средний чек заказа   \n",
       "0  Добавить два новых канала привлечения трафика, что позволит привлекать на 30% больше пользователей             \n",
       "6  Показать на главной странице баннеры с актуальными акциями и распродажами, чтобы увеличить конверсию           \n",
       "8  Запустить акцию, дающую скидку на товар в день рождения                                                        \n",
       "3  Изменить структура категорий, что увеличит конверсию, т.к. пользователи быстрее найдут нужный товар            \n",
       "1  Запустить собственную службу доставки, что сократит срок доставки заказов                                      \n",
       "5  Добавить страницу отзывов клиентов о магазине, что позволит увеличить количество заказов                       \n",
       "4  Изменить цвет фона главной страницы, чтобы увеличить вовлеченность пользователей                               \n",
       "\n",
       "    RICE  \n",
       "7  112.0  \n",
       "2  56.0   \n",
       "0  40.0   \n",
       "6  40.0   \n",
       "8  16.2   \n",
       "3  9.0    \n",
       "1  4.0    \n",
       "5  4.0    \n",
       "4  3.0    "
      ]
     },
     "metadata": {},
     "output_type": "display_data"
    }
   ],
   "source": [
    "hypothesis['RICE'] = (hypothesis['Impact']*hypothesis['Confidence']*hypothesis['Reach']) / hypothesis['Efforts']\n",
    "\n",
    "display(hypothesis[['Hypothesis', 'RICE']].sort_values(by='RICE', ascending=False))"
   ]
  },
  {
   "cell_type": "markdown",
   "id": "35a6ec2d",
   "metadata": {},
   "source": [
    "С фреймворком RICE приоритетной становится задача \"Добавить форму подписки на все основные страницы, чтобы собрать базу клиентов для email-рассылок\t\"."
   ]
  },
  {
   "cell_type": "markdown",
   "id": "dcd46194",
   "metadata": {},
   "source": [
    "## Задача 3.\n",
    "Укажите, как изменилась приоритизация гипотез при применении RICE вместо ICE. Объясните, почему так произошло."
   ]
  },
  {
   "cell_type": "markdown",
   "id": "6d93e9f8",
   "metadata": {},
   "source": [
    "Приоритет задач сильно различается для ICE и RICE методов. Хотя, задачи в конце списка остались примерно там же, но средний и высокий приоритет задач сместился. Метод ICE не учитывает охват аудитории, потому он не является всеобъемлющим и может быть более субъективным, чем RICE. В RICE большое влияние оказало количество пользователей, которых затронет изменение, даже если оно не очень существенное, но влияет на всех пользователей, то его стоит рассматривать в первую очередь."
   ]
  },
  {
   "cell_type": "markdown",
   "id": "09bdb8b2",
   "metadata": {},
   "source": [
    "# Часть 2.\n",
    "Анализ A/B-теста"
   ]
  },
  {
   "cell_type": "markdown",
   "id": "73e596c3",
   "metadata": {},
   "source": [
    "## Обзор данных"
   ]
  },
  {
   "cell_type": "code",
   "execution_count": 4,
   "id": "c2d2ef7f",
   "metadata": {},
   "outputs": [
    {
     "name": "stdout",
     "output_type": "stream",
     "text": [
      "visitors\n"
     ]
    },
    {
     "data": {
      "text/html": [
       "<div>\n",
       "<style scoped>\n",
       "    .dataframe tbody tr th:only-of-type {\n",
       "        vertical-align: middle;\n",
       "    }\n",
       "\n",
       "    .dataframe tbody tr th {\n",
       "        vertical-align: top;\n",
       "    }\n",
       "\n",
       "    .dataframe thead th {\n",
       "        text-align: right;\n",
       "    }\n",
       "</style>\n",
       "<table border=\"1\" class=\"dataframe\">\n",
       "  <thead>\n",
       "    <tr style=\"text-align: right;\">\n",
       "      <th></th>\n",
       "      <th>date</th>\n",
       "      <th>group</th>\n",
       "      <th>visitors</th>\n",
       "    </tr>\n",
       "  </thead>\n",
       "  <tbody>\n",
       "    <tr>\n",
       "      <th>0</th>\n",
       "      <td>2019-08-01</td>\n",
       "      <td>A</td>\n",
       "      <td>719</td>\n",
       "    </tr>\n",
       "    <tr>\n",
       "      <th>1</th>\n",
       "      <td>2019-08-02</td>\n",
       "      <td>A</td>\n",
       "      <td>619</td>\n",
       "    </tr>\n",
       "    <tr>\n",
       "      <th>2</th>\n",
       "      <td>2019-08-03</td>\n",
       "      <td>A</td>\n",
       "      <td>507</td>\n",
       "    </tr>\n",
       "    <tr>\n",
       "      <th>3</th>\n",
       "      <td>2019-08-04</td>\n",
       "      <td>A</td>\n",
       "      <td>717</td>\n",
       "    </tr>\n",
       "    <tr>\n",
       "      <th>4</th>\n",
       "      <td>2019-08-05</td>\n",
       "      <td>A</td>\n",
       "      <td>756</td>\n",
       "    </tr>\n",
       "  </tbody>\n",
       "</table>\n",
       "</div>"
      ],
      "text/plain": [
       "         date group  visitors\n",
       "0  2019-08-01  A     719     \n",
       "1  2019-08-02  A     619     \n",
       "2  2019-08-03  A     507     \n",
       "3  2019-08-04  A     717     \n",
       "4  2019-08-05  A     756     "
      ]
     },
     "metadata": {},
     "output_type": "display_data"
    },
    {
     "name": "stdout",
     "output_type": "stream",
     "text": [
      "<class 'pandas.core.frame.DataFrame'>\n",
      "RangeIndex: 62 entries, 0 to 61\n",
      "Data columns (total 3 columns):\n",
      " #   Column    Non-Null Count  Dtype \n",
      "---  ------    --------------  ----- \n",
      " 0   date      62 non-null     object\n",
      " 1   group     62 non-null     object\n",
      " 2   visitors  62 non-null     int64 \n",
      "dtypes: int64(1), object(2)\n",
      "memory usage: 1.6+ KB\n",
      "-------------------------------------------------------------\n",
      "orders\n"
     ]
    },
    {
     "data": {
      "text/html": [
       "<div>\n",
       "<style scoped>\n",
       "    .dataframe tbody tr th:only-of-type {\n",
       "        vertical-align: middle;\n",
       "    }\n",
       "\n",
       "    .dataframe tbody tr th {\n",
       "        vertical-align: top;\n",
       "    }\n",
       "\n",
       "    .dataframe thead th {\n",
       "        text-align: right;\n",
       "    }\n",
       "</style>\n",
       "<table border=\"1\" class=\"dataframe\">\n",
       "  <thead>\n",
       "    <tr style=\"text-align: right;\">\n",
       "      <th></th>\n",
       "      <th>transactionId</th>\n",
       "      <th>visitorId</th>\n",
       "      <th>date</th>\n",
       "      <th>revenue</th>\n",
       "      <th>group</th>\n",
       "    </tr>\n",
       "  </thead>\n",
       "  <tbody>\n",
       "    <tr>\n",
       "      <th>0</th>\n",
       "      <td>3667963787</td>\n",
       "      <td>3312258926</td>\n",
       "      <td>2019-08-15</td>\n",
       "      <td>1650</td>\n",
       "      <td>B</td>\n",
       "    </tr>\n",
       "    <tr>\n",
       "      <th>1</th>\n",
       "      <td>2804400009</td>\n",
       "      <td>3642806036</td>\n",
       "      <td>2019-08-15</td>\n",
       "      <td>730</td>\n",
       "      <td>B</td>\n",
       "    </tr>\n",
       "    <tr>\n",
       "      <th>2</th>\n",
       "      <td>2961555356</td>\n",
       "      <td>4069496402</td>\n",
       "      <td>2019-08-15</td>\n",
       "      <td>400</td>\n",
       "      <td>A</td>\n",
       "    </tr>\n",
       "    <tr>\n",
       "      <th>3</th>\n",
       "      <td>3797467345</td>\n",
       "      <td>1196621759</td>\n",
       "      <td>2019-08-15</td>\n",
       "      <td>9759</td>\n",
       "      <td>B</td>\n",
       "    </tr>\n",
       "    <tr>\n",
       "      <th>4</th>\n",
       "      <td>2282983706</td>\n",
       "      <td>2322279887</td>\n",
       "      <td>2019-08-15</td>\n",
       "      <td>2308</td>\n",
       "      <td>B</td>\n",
       "    </tr>\n",
       "  </tbody>\n",
       "</table>\n",
       "</div>"
      ],
      "text/plain": [
       "   transactionId   visitorId        date  revenue group\n",
       "0  3667963787     3312258926  2019-08-15  1650     B   \n",
       "1  2804400009     3642806036  2019-08-15  730      B   \n",
       "2  2961555356     4069496402  2019-08-15  400      A   \n",
       "3  3797467345     1196621759  2019-08-15  9759     B   \n",
       "4  2282983706     2322279887  2019-08-15  2308     B   "
      ]
     },
     "metadata": {},
     "output_type": "display_data"
    },
    {
     "name": "stdout",
     "output_type": "stream",
     "text": [
      "<class 'pandas.core.frame.DataFrame'>\n",
      "RangeIndex: 1197 entries, 0 to 1196\n",
      "Data columns (total 5 columns):\n",
      " #   Column         Non-Null Count  Dtype \n",
      "---  ------         --------------  ----- \n",
      " 0   transactionId  1197 non-null   int64 \n",
      " 1   visitorId      1197 non-null   int64 \n",
      " 2   date           1197 non-null   object\n",
      " 3   revenue        1197 non-null   int64 \n",
      " 4   group          1197 non-null   object\n",
      "dtypes: int64(3), object(2)\n",
      "memory usage: 46.9+ KB\n"
     ]
    }
   ],
   "source": [
    "try:\n",
    "    visitors, orders = (\n",
    "        pd.read_csv('datasets/visitors.csv'),\n",
    "        pd.read_csv('datasets/orders.csv')\n",
    "    )\n",
    "except:\n",
    "    visitors, orders = (\n",
    "        pd.read_csv('/datasets/visitors.csv'),\n",
    "        pd.read_csv('/datasets/orders.csv')\n",
    "    )\n",
    "\n",
    "#Посмотрим что внутри\n",
    "print('visitors')\n",
    "display(visitors.head())\n",
    "visitors.info()\n",
    "print('-------------------------------------------------------------')\n",
    "print('orders')\n",
    "display(orders.head())\n",
    "orders.info()"
   ]
  },
  {
   "cell_type": "code",
   "execution_count": 5,
   "id": "b30e6af8",
   "metadata": {
    "scrolled": true
   },
   "outputs": [
    {
     "name": "stdout",
     "output_type": "stream",
     "text": [
      "0\n",
      "0\n",
      "date        0\n",
      "group       0\n",
      "visitors    0\n",
      "dtype: int64\n",
      "transactionId    0\n",
      "visitorId        0\n",
      "date             0\n",
      "revenue          0\n",
      "group            0\n",
      "dtype: int64\n"
     ]
    }
   ],
   "source": [
    "print(visitors.duplicated().sum())\n",
    "print(orders.duplicated().sum())\n",
    "\n",
    "print(visitors.isna().sum())\n",
    "print(orders.isna().sum())"
   ]
  },
  {
   "cell_type": "markdown",
   "id": "e67a53a6",
   "metadata": {},
   "source": [
    "Дубликатов и пропусков в данных нет."
   ]
  },
  {
   "cell_type": "code",
   "execution_count": 6,
   "id": "66623082",
   "metadata": {
    "scrolled": false
   },
   "outputs": [
    {
     "data": {
      "text/html": [
       "<div>\n",
       "<style scoped>\n",
       "    .dataframe tbody tr th:only-of-type {\n",
       "        vertical-align: middle;\n",
       "    }\n",
       "\n",
       "    .dataframe tbody tr th {\n",
       "        vertical-align: top;\n",
       "    }\n",
       "\n",
       "    .dataframe thead th {\n",
       "        text-align: right;\n",
       "    }\n",
       "</style>\n",
       "<table border=\"1\" class=\"dataframe\">\n",
       "  <thead>\n",
       "    <tr style=\"text-align: right;\">\n",
       "      <th></th>\n",
       "      <th>visitorId</th>\n",
       "      <th>group</th>\n",
       "    </tr>\n",
       "  </thead>\n",
       "  <tbody>\n",
       "    <tr>\n",
       "      <th>2</th>\n",
       "      <td>8300375</td>\n",
       "      <td>2</td>\n",
       "    </tr>\n",
       "    <tr>\n",
       "      <th>44</th>\n",
       "      <td>199603092</td>\n",
       "      <td>2</td>\n",
       "    </tr>\n",
       "    <tr>\n",
       "      <th>51</th>\n",
       "      <td>232979603</td>\n",
       "      <td>2</td>\n",
       "    </tr>\n",
       "    <tr>\n",
       "      <th>55</th>\n",
       "      <td>237748145</td>\n",
       "      <td>2</td>\n",
       "    </tr>\n",
       "    <tr>\n",
       "      <th>66</th>\n",
       "      <td>276558944</td>\n",
       "      <td>2</td>\n",
       "    </tr>\n",
       "  </tbody>\n",
       "</table>\n",
       "</div>"
      ],
      "text/plain": [
       "    visitorId  group\n",
       "2   8300375    2    \n",
       "44  199603092  2    \n",
       "51  232979603  2    \n",
       "55  237748145  2    \n",
       "66  276558944  2    "
      ]
     },
     "metadata": {},
     "output_type": "display_data"
    },
    {
     "data": {
      "text/html": [
       "<div>\n",
       "<style scoped>\n",
       "    .dataframe tbody tr th:only-of-type {\n",
       "        vertical-align: middle;\n",
       "    }\n",
       "\n",
       "    .dataframe tbody tr th {\n",
       "        vertical-align: top;\n",
       "    }\n",
       "\n",
       "    .dataframe thead th {\n",
       "        text-align: right;\n",
       "    }\n",
       "</style>\n",
       "<table border=\"1\" class=\"dataframe\">\n",
       "  <thead>\n",
       "    <tr style=\"text-align: right;\">\n",
       "      <th></th>\n",
       "      <th>transactionId</th>\n",
       "      <th>visitorId</th>\n",
       "      <th>date</th>\n",
       "      <th>revenue</th>\n",
       "      <th>group</th>\n",
       "    </tr>\n",
       "  </thead>\n",
       "  <tbody>\n",
       "    <tr>\n",
       "      <th>0</th>\n",
       "      <td>3667963787</td>\n",
       "      <td>3312258926</td>\n",
       "      <td>2019-08-15</td>\n",
       "      <td>1650</td>\n",
       "      <td>B</td>\n",
       "    </tr>\n",
       "    <tr>\n",
       "      <th>1</th>\n",
       "      <td>2804400009</td>\n",
       "      <td>3642806036</td>\n",
       "      <td>2019-08-15</td>\n",
       "      <td>730</td>\n",
       "      <td>B</td>\n",
       "    </tr>\n",
       "    <tr>\n",
       "      <th>3</th>\n",
       "      <td>3797467345</td>\n",
       "      <td>1196621759</td>\n",
       "      <td>2019-08-15</td>\n",
       "      <td>9759</td>\n",
       "      <td>B</td>\n",
       "    </tr>\n",
       "    <tr>\n",
       "      <th>4</th>\n",
       "      <td>2282983706</td>\n",
       "      <td>2322279887</td>\n",
       "      <td>2019-08-15</td>\n",
       "      <td>2308</td>\n",
       "      <td>B</td>\n",
       "    </tr>\n",
       "    <tr>\n",
       "      <th>5</th>\n",
       "      <td>182168103</td>\n",
       "      <td>935554773</td>\n",
       "      <td>2019-08-15</td>\n",
       "      <td>2210</td>\n",
       "      <td>B</td>\n",
       "    </tr>\n",
       "    <tr>\n",
       "      <th>7</th>\n",
       "      <td>2626614568</td>\n",
       "      <td>78758296</td>\n",
       "      <td>2019-08-15</td>\n",
       "      <td>1044</td>\n",
       "      <td>A</td>\n",
       "    </tr>\n",
       "    <tr>\n",
       "      <th>8</th>\n",
       "      <td>1576988021</td>\n",
       "      <td>295230930</td>\n",
       "      <td>2019-08-15</td>\n",
       "      <td>13710</td>\n",
       "      <td>A</td>\n",
       "    </tr>\n",
       "    <tr>\n",
       "      <th>10</th>\n",
       "      <td>3649131742</td>\n",
       "      <td>879864040</td>\n",
       "      <td>2019-08-15</td>\n",
       "      <td>4008</td>\n",
       "      <td>A</td>\n",
       "    </tr>\n",
       "    <tr>\n",
       "      <th>12</th>\n",
       "      <td>2809384911</td>\n",
       "      <td>3213223594</td>\n",
       "      <td>2019-08-15</td>\n",
       "      <td>7370</td>\n",
       "      <td>A</td>\n",
       "    </tr>\n",
       "    <tr>\n",
       "      <th>14</th>\n",
       "      <td>3859315276</td>\n",
       "      <td>1565034404</td>\n",
       "      <td>2019-08-15</td>\n",
       "      <td>10980</td>\n",
       "      <td>A</td>\n",
       "    </tr>\n",
       "  </tbody>\n",
       "</table>\n",
       "</div>"
      ],
      "text/plain": [
       "    transactionId   visitorId        date  revenue group\n",
       "0   3667963787     3312258926  2019-08-15  1650     B   \n",
       "1   2804400009     3642806036  2019-08-15  730      B   \n",
       "3   3797467345     1196621759  2019-08-15  9759     B   \n",
       "4   2282983706     2322279887  2019-08-15  2308     B   \n",
       "5   182168103      935554773   2019-08-15  2210     B   \n",
       "7   2626614568     78758296    2019-08-15  1044     A   \n",
       "8   1576988021     295230930   2019-08-15  13710    A   \n",
       "10  3649131742     879864040   2019-08-15  4008     A   \n",
       "12  2809384911     3213223594  2019-08-15  7370     A   \n",
       "14  3859315276     1565034404  2019-08-15  10980    A   "
      ]
     },
     "metadata": {},
     "output_type": "display_data"
    },
    {
     "name": "stdout",
     "output_type": "stream",
     "text": [
      "Количество дубликатов: 58\n"
     ]
    }
   ],
   "source": [
    "duplicates = (\n",
    "    orders[['visitorId', 'group']]\n",
    "    .groupby('visitorId')\n",
    "    .agg({'group':'nunique'})\n",
    "    .reset_index().query('group > 1')\n",
    ")\n",
    "display(duplicates.head())\n",
    "\n",
    "orders = orders[~orders['visitorId'].isin(duplicates['visitorId'])]\n",
    "\n",
    "display(orders.groupby('group').head())\n",
    "\n",
    "print('Количество дубликатов: {:.0f}'.format(len(duplicates)))"
   ]
  },
  {
   "cell_type": "markdown",
   "id": "cf59930c",
   "metadata": {},
   "source": [
    "В таблице есть пользователи, которые попали сразу в обе группы. Для чистоты эксперимента удалим строки. Дубликатов всего 58 из 1197, меньше 1%, существенного влияние их отсутствие не окажет."
   ]
  },
  {
   "cell_type": "markdown",
   "id": "9d4d2085",
   "metadata": {},
   "source": [
    "### Подготовка данных"
   ]
  },
  {
   "cell_type": "code",
   "execution_count": 7,
   "id": "88e193e8",
   "metadata": {
    "scrolled": false
   },
   "outputs": [
    {
     "data": {
      "text/html": [
       "<div>\n",
       "<style scoped>\n",
       "    .dataframe tbody tr th:only-of-type {\n",
       "        vertical-align: middle;\n",
       "    }\n",
       "\n",
       "    .dataframe tbody tr th {\n",
       "        vertical-align: top;\n",
       "    }\n",
       "\n",
       "    .dataframe thead th {\n",
       "        text-align: right;\n",
       "    }\n",
       "</style>\n",
       "<table border=\"1\" class=\"dataframe\">\n",
       "  <thead>\n",
       "    <tr style=\"text-align: right;\">\n",
       "      <th></th>\n",
       "      <th>date</th>\n",
       "      <th>orders_per_date_A</th>\n",
       "      <th>revenue_per_date_A</th>\n",
       "      <th>orders_per_date_B</th>\n",
       "      <th>revenue_per_date_B</th>\n",
       "      <th>orders_cummulative_A</th>\n",
       "      <th>revenue_cummulative_A</th>\n",
       "      <th>orders_cummulative_B</th>\n",
       "      <th>revenue_cummulative_B</th>\n",
       "      <th>visitors_per_date_A</th>\n",
       "      <th>visitors_per_date_B</th>\n",
       "      <th>visitors_cummulative_A</th>\n",
       "      <th>visitors_cummulative_B</th>\n",
       "    </tr>\n",
       "  </thead>\n",
       "  <tbody>\n",
       "    <tr>\n",
       "      <th>0</th>\n",
       "      <td>2019-08-01</td>\n",
       "      <td>23</td>\n",
       "      <td>142779</td>\n",
       "      <td>17</td>\n",
       "      <td>59758</td>\n",
       "      <td>23</td>\n",
       "      <td>142779</td>\n",
       "      <td>17</td>\n",
       "      <td>59758</td>\n",
       "      <td>719</td>\n",
       "      <td>713</td>\n",
       "      <td>719</td>\n",
       "      <td>713</td>\n",
       "    </tr>\n",
       "    <tr>\n",
       "      <th>1</th>\n",
       "      <td>2019-08-02</td>\n",
       "      <td>19</td>\n",
       "      <td>91602</td>\n",
       "      <td>23</td>\n",
       "      <td>162043</td>\n",
       "      <td>42</td>\n",
       "      <td>234381</td>\n",
       "      <td>40</td>\n",
       "      <td>221801</td>\n",
       "      <td>619</td>\n",
       "      <td>581</td>\n",
       "      <td>1338</td>\n",
       "      <td>1294</td>\n",
       "    </tr>\n",
       "    <tr>\n",
       "      <th>2</th>\n",
       "      <td>2019-08-03</td>\n",
       "      <td>24</td>\n",
       "      <td>112473</td>\n",
       "      <td>14</td>\n",
       "      <td>67049</td>\n",
       "      <td>66</td>\n",
       "      <td>346854</td>\n",
       "      <td>54</td>\n",
       "      <td>288850</td>\n",
       "      <td>507</td>\n",
       "      <td>509</td>\n",
       "      <td>1845</td>\n",
       "      <td>1803</td>\n",
       "    </tr>\n",
       "    <tr>\n",
       "      <th>3</th>\n",
       "      <td>2019-08-04</td>\n",
       "      <td>11</td>\n",
       "      <td>41176</td>\n",
       "      <td>14</td>\n",
       "      <td>96890</td>\n",
       "      <td>77</td>\n",
       "      <td>388030</td>\n",
       "      <td>68</td>\n",
       "      <td>385740</td>\n",
       "      <td>717</td>\n",
       "      <td>770</td>\n",
       "      <td>2562</td>\n",
       "      <td>2573</td>\n",
       "    </tr>\n",
       "    <tr>\n",
       "      <th>4</th>\n",
       "      <td>2019-08-05</td>\n",
       "      <td>22</td>\n",
       "      <td>86383</td>\n",
       "      <td>21</td>\n",
       "      <td>89908</td>\n",
       "      <td>99</td>\n",
       "      <td>474413</td>\n",
       "      <td>89</td>\n",
       "      <td>475648</td>\n",
       "      <td>756</td>\n",
       "      <td>707</td>\n",
       "      <td>3318</td>\n",
       "      <td>3280</td>\n",
       "    </tr>\n",
       "  </tbody>\n",
       "</table>\n",
       "</div>"
      ],
      "text/plain": [
       "        date  orders_per_date_A  revenue_per_date_A  orders_per_date_B  \\\n",
       "0 2019-08-01  23                 142779              17                  \n",
       "1 2019-08-02  19                 91602               23                  \n",
       "2 2019-08-03  24                 112473              14                  \n",
       "3 2019-08-04  11                 41176               14                  \n",
       "4 2019-08-05  22                 86383               21                  \n",
       "\n",
       "   revenue_per_date_B  orders_cummulative_A  revenue_cummulative_A  \\\n",
       "0  59758               23                    142779                  \n",
       "1  162043              42                    234381                  \n",
       "2  67049               66                    346854                  \n",
       "3  96890               77                    388030                  \n",
       "4  89908               99                    474413                  \n",
       "\n",
       "   orders_cummulative_B  revenue_cummulative_B  visitors_per_date_A  \\\n",
       "0  17                    59758                  719                   \n",
       "1  40                    221801                 619                   \n",
       "2  54                    288850                 507                   \n",
       "3  68                    385740                 717                   \n",
       "4  89                    475648                 756                   \n",
       "\n",
       "   visitors_per_date_B  visitors_cummulative_A  visitors_cummulative_B  \n",
       "0  713                  719                     713                     \n",
       "1  581                  1338                    1294                    \n",
       "2  509                  1845                    1803                    \n",
       "3  770                  2562                    2573                    \n",
       "4  707                  3318                    3280                    "
      ]
     },
     "metadata": {},
     "output_type": "display_data"
    },
    {
     "name": "stdout",
     "output_type": "stream",
     "text": [
      "<class 'pandas.core.frame.DataFrame'>\n",
      "Int64Index: 31 entries, 0 to 30\n",
      "Data columns (total 13 columns):\n",
      " #   Column                  Non-Null Count  Dtype         \n",
      "---  ------                  --------------  -----         \n",
      " 0   date                    31 non-null     datetime64[ns]\n",
      " 1   orders_per_date_A       31 non-null     int64         \n",
      " 2   revenue_per_date_A      31 non-null     int64         \n",
      " 3   orders_per_date_B       31 non-null     int64         \n",
      " 4   revenue_per_date_B      31 non-null     int64         \n",
      " 5   orders_cummulative_A    31 non-null     int64         \n",
      " 6   revenue_cummulative_A   31 non-null     int64         \n",
      " 7   orders_cummulative_B    31 non-null     int64         \n",
      " 8   revenue_cummulative_B   31 non-null     int64         \n",
      " 9   visitors_per_date_A     31 non-null     int64         \n",
      " 10  visitors_per_date_B     31 non-null     int64         \n",
      " 11  visitors_cummulative_A  31 non-null     int64         \n",
      " 12  visitors_cummulative_B  31 non-null     int64         \n",
      "dtypes: datetime64[ns](1), int64(12)\n",
      "memory usage: 3.4 KB\n"
     ]
    }
   ],
   "source": [
    "#Дата в формат даты\n",
    "visitors['date'] = visitors['date'].map(lambda x: dt.datetime.strptime(x, '%Y-%m-%d'))\n",
    "orders['date'] = orders['date'].map(lambda x: dt.datetime.strptime(x, '%Y-%m-%d'))\n",
    "\n",
    "#Число посетителей группы А ежедневно\n",
    "visitors_A_daily = visitors[visitors['group'] == 'A'][['date', 'visitors']]\n",
    "visitors_A_daily.columns = ['date', 'visitors_per_date_A']\n",
    "\n",
    "#Суммарное число посетителей группы А\n",
    "visitors_A_cummulative = visitors_A_daily.apply(\n",
    "    lambda x: visitors_A_daily[visitors_A_daily['date'] <= x['date']].agg(\n",
    "        {'date': 'max', 'visitors_per_date_A': 'sum'}\n",
    "    ),\n",
    "    axis=1,\n",
    ")\n",
    "visitors_A_cummulative.columns = ['date', 'visitors_cummulative_A']\n",
    "\n",
    "#Число посетителей группы В ежедневно\n",
    "visitors_B_daily = visitors[visitors['group'] == 'B'][['date', 'visitors']]\n",
    "visitors_B_daily.columns = ['date', 'visitors_per_date_B']\n",
    "\n",
    "#Суммарное число посетителей группы В\n",
    "visitors_B_cummulative = visitors_B_daily.apply(\n",
    "    lambda x: visitors_B_daily[visitors_B_daily['date'] <= x['date']].agg(\n",
    "        {'date': 'max', 'visitors_per_date_B': 'sum'}\n",
    "    ),\n",
    "    axis=1,\n",
    ")\n",
    "visitors_B_cummulative.columns = ['date', 'visitors_cummulative_B']\n",
    "\n",
    "#Число заказов группы А ежедневно\n",
    "orders_A_daily = (\n",
    "    orders[orders['group'] == 'A'][['date', 'transactionId', 'visitorId', 'revenue']]\n",
    "    .groupby('date', as_index=False)\n",
    "    .agg({'transactionId': pd.Series.nunique, 'revenue': 'sum'})\n",
    ")\n",
    "orders_A_daily.columns = ['date', 'orders_per_date_A', 'revenue_per_date_A']\n",
    "\n",
    "#Суммарное число заказов группы А\n",
    "orders_A_cummulative = orders_A_daily.apply(\n",
    "    lambda x: orders_A_daily[orders_A_daily['date'] <= x['date']].agg(\n",
    "        {'date': 'max', 'orders_per_date_A': 'sum', 'revenue_per_date_A': 'sum'}\n",
    "    ),\n",
    "    axis=1,\n",
    ").sort_values(by=['date'])\n",
    "orders_A_cummulative.columns = [\n",
    "    'date',\n",
    "    'orders_cummulative_A',\n",
    "    'revenue_cummulative_A',\n",
    "]\n",
    "\n",
    "#Число заказов группы В ежедневно\n",
    "orders_B_daily = (\n",
    "    orders[orders['group'] == 'B'][['date', 'transactionId', 'visitorId', 'revenue']]\n",
    "    .groupby('date', as_index=False)\n",
    "    .agg({'transactionId': pd.Series.nunique, 'revenue': 'sum'})\n",
    ")\n",
    "orders_B_daily.columns = ['date', 'orders_per_date_B', 'revenue_per_date_B']\n",
    "\n",
    "#Суммарное число заказов группы В\n",
    "orders_B_cummulative = orders_B_daily.apply(\n",
    "    lambda x: orders_B_daily[orders_B_daily['date'] <= x['date']].agg(\n",
    "        {'date': 'max', 'orders_per_date_B': 'sum', 'revenue_per_date_B': 'sum'}\n",
    "    ),\n",
    "    axis=1,\n",
    ").sort_values(by=['date'])\n",
    "orders_B_cummulative.columns = [\n",
    "    'date',\n",
    "    'orders_cummulative_B',\n",
    "    'revenue_cummulative_B',\n",
    "]\n",
    "\n",
    "#Объединение таблиц\n",
    "data = (\n",
    "    orders_A_daily.merge(\n",
    "        orders_B_daily, left_on='date', right_on='date', how='left'\n",
    "    )\n",
    "    .merge(orders_A_cummulative, left_on='date', right_on='date', how='left')\n",
    "    .merge(orders_B_cummulative, left_on='date', right_on='date', how='left')\n",
    "    .merge(visitors_A_daily, left_on='date', right_on='date', how='left')\n",
    "    .merge(visitors_B_daily, left_on='date', right_on='date', how='left')\n",
    "    .merge(visitors_A_cummulative, left_on='date', right_on='date', how='left')\n",
    "    .merge(visitors_B_cummulative, left_on='date', right_on='date', how='left')\n",
    ")\n",
    "\n",
    "display(data.head(5))\n",
    "data.info()"
   ]
  },
  {
   "cell_type": "markdown",
   "id": "a65577af",
   "metadata": {},
   "source": [
    "Одна большая таблица со всем данными по группам: число поситителей, заказов, накопительные суммы."
   ]
  },
  {
   "cell_type": "markdown",
   "id": "8ed2a915",
   "metadata": {},
   "source": [
    "## Задача 1.\n",
    "Постройте график кумулятивной выручки по группам. Сделайте выводы и предположения."
   ]
  },
  {
   "cell_type": "code",
   "execution_count": 8,
   "id": "970e1a0a",
   "metadata": {
    "scrolled": false
   },
   "outputs": [
    {
     "data": {
      "image/png": "[encoded data removed]",
      "text/plain": [
       "<Figure size 1296x576 with 1 Axes>"
      ]
     },
     "metadata": {
      "needs_background": "light"
     },
     "output_type": "display_data"
    }
   ],
   "source": [
    "plt.figure(figsize=(18, 8))\n",
    "plt.plot(data['date'], data['revenue_cummulative_A'], label='A')\n",
    "plt.plot(data['date'], data['revenue_cummulative_B'], label='B')\n",
    "\n",
    "plt.title('График кумулятивной выручки по группам')\n",
    "\n",
    "plt.xlabel(u'Дата')\n",
    "plt.ylabel(u'Выручка')\n",
    "\n",
    "plt.legend();"
   ]
  },
  {
   "cell_type": "markdown",
   "id": "60212e6a",
   "metadata": {},
   "source": [
    "В начале группы шли ровно, но в середине теста группа В вырвалась вперед, а после повышение происходило с тем же темпом, что и в группе А. Возможно, это влияние крупных заказов. В будущем следует исключить их влияние на общую картину."
   ]
  },
  {
   "cell_type": "markdown",
   "id": "a4630e82",
   "metadata": {},
   "source": [
    "## Задача 2.\n",
    "Постройте график кумулятивного среднего чека по группам. Сделайте выводы и предположения."
   ]
  },
  {
   "cell_type": "code",
   "execution_count": 9,
   "id": "6233ecbb",
   "metadata": {},
   "outputs": [
    {
     "data": {
      "image/png": "[encoded data removed]",
      "text/plain": [
       "<Figure size 1296x576 with 1 Axes>"
      ]
     },
     "metadata": {
      "needs_background": "light"
     },
     "output_type": "display_data"
    }
   ],
   "source": [
    "plt.figure(figsize=(18, 8))\n",
    "plt.plot(data['date'], data['revenue_cummulative_A']/data['orders_cummulative_A'], label='A')\n",
    "plt.plot(data['date'], data['revenue_cummulative_B']/data['orders_cummulative_B'], label='B')\n",
    "\n",
    "plt.title('График кумулятивного среднего чека по группам')\n",
    "\n",
    "plt.xlabel(u'Дата')\n",
    "plt.ylabel(u'Средний чек')\n",
    "\n",
    "plt.legend();"
   ]
  },
  {
   "cell_type": "markdown",
   "id": "0b28dc15",
   "metadata": {},
   "source": [
    "Здесь похожая картина: в начале графики скачут, но к середине теста уравниваются и снова группа В резко уходит в отрыв. Ближе к концу теста наблюдается снижение суммарного среднего чека. Налицо искажения, вызванные крупными разовыми покупками."
   ]
  },
  {
   "cell_type": "markdown",
   "id": "1ef683d4",
   "metadata": {},
   "source": [
    "## Задача 3.\n",
    "Постройте график относительного изменения кумулятивного среднего чека группы B к группе A. Сделайте выводы и предположения."
   ]
  },
  {
   "cell_type": "code",
   "execution_count": 10,
   "id": "5b5f8b43",
   "metadata": {
    "scrolled": false
   },
   "outputs": [
    {
     "data": {
      "image/png": "[encoded data removed]",
      "text/plain": [
       "<Figure size 1296x576 with 1 Axes>"
      ]
     },
     "metadata": {
      "needs_background": "light"
     },
     "output_type": "display_data"
    }
   ],
   "source": [
    "plt.figure(figsize=(18, 8))\n",
    "plt.plot(\n",
    "    data['date'],\n",
    "    (data['revenue_cummulative_B']/data['orders_cummulative_B'])/\n",
    "         (data['revenue_cummulative_A']/data['orders_cummulative_A'])\n",
    "    -1\n",
    ")\n",
    "\n",
    "plt.title('График относительного изменения кумулятивного среднего чека группы B к группе A')\n",
    "\n",
    "plt.xlabel(u'Дата')\n",
    "\n",
    "\n",
    "plt.axhline(y=0, color='black', linestyle='--');"
   ]
  },
  {
   "cell_type": "markdown",
   "id": "101f6118",
   "metadata": {},
   "source": [
    "Результаты теста резко изменяются несколько раз. Вероятно, в эти даты и были совершены сномальные заказы."
   ]
  },
  {
   "cell_type": "markdown",
   "id": "005dfc43",
   "metadata": {},
   "source": [
    "## Задача 4.\n",
    "Постройте график кумулятивной конверсии по группам. Сделайте выводы и предположения."
   ]
  },
  {
   "cell_type": "code",
   "execution_count": 11,
   "id": "91e0ecc6",
   "metadata": {},
   "outputs": [
    {
     "data": {
      "image/png": "[encoded data removed]",
      "text/plain": [
       "<Figure size 1296x576 with 1 Axes>"
      ]
     },
     "metadata": {
      "needs_background": "light"
     },
     "output_type": "display_data"
    }
   ],
   "source": [
    "plt.figure(figsize=(18, 8))\n",
    "plt.plot(data['date'], (data['orders_cummulative_A']/data['visitors_cummulative_A']), label='A')\n",
    "plt.plot(data['date'], (data['orders_cummulative_B']/data['visitors_cummulative_B']), label='B')\n",
    "plt.legend()\n",
    "\n",
    "plt.title('График кумулятивной конверсии по группам')\n",
    "\n",
    "plt.xlabel(u'Дата')\n",
    "plt.ylabel(u'Конверсия')\n",
    "\n",
    "plt.axis([dt.datetime(2019, 8, 1), dt.datetime(2019, 9, 1), 0.02, 0.05]);"
   ]
  },
  {
   "cell_type": "markdown",
   "id": "b9b15227",
   "metadata": {},
   "source": [
    "В начале теста график показывает колебания, но постепенно конверсия у обоих групп выровнялась. Группа В стабильно показывает более высокую конверсию."
   ]
  },
  {
   "cell_type": "markdown",
   "id": "0330f0fd",
   "metadata": {},
   "source": [
    "## Задача 5.\n",
    "Постройте график относительного изменения кумулятивной конверсии группы B к группе A. Сделайте выводы и предположения."
   ]
  },
  {
   "cell_type": "code",
   "execution_count": 12,
   "id": "66dd4205",
   "metadata": {},
   "outputs": [
    {
     "data": {
      "image/png": "[encoded data removed]",
      "text/plain": [
       "<Figure size 1296x576 with 1 Axes>"
      ]
     },
     "metadata": {
      "needs_background": "light"
     },
     "output_type": "display_data"
    }
   ],
   "source": [
    "plt.figure(figsize=(18, 8))\n",
    "plt.plot(data['date'],\n",
    "         (data['orders_cummulative_B']/data['visitors_cummulative_B'])/\n",
    "         (data['orders_cummulative_A']/data['visitors_cummulative_A'])-1,\n",
    "         label=\"Относительный прирост конверсии группы B относительно группы A\")\n",
    "plt.legend()\n",
    "\n",
    "plt.title('относительного изменения кумулятивной конверсии группы B к группе A')\n",
    "\n",
    "plt.xlabel(u'Дата')\n",
    "\n",
    "plt.axhline(y=0, color='black', linestyle='--')\n",
    "plt.axhline(y=0.12, color='grey', linestyle='--')\n",
    "plt.axis([dt.datetime(2019, 8, 1), dt.datetime(2019, 9, 1), -0.5, 0.5]);"
   ]
  },
  {
   "cell_type": "markdown",
   "id": "64975e2a",
   "metadata": {},
   "source": [
    "Почти с самого начала теста группа В лидирует по конверсии: рост продолжался до 20%, а в конце теста зафиксировался в районе 12%."
   ]
  },
  {
   "cell_type": "markdown",
   "id": "5ba144f0",
   "metadata": {},
   "source": [
    "## Задача 6.\n",
    "Постройте точечный график количества заказов по пользователям. Сделайте выводы и предположения."
   ]
  },
  {
   "cell_type": "code",
   "execution_count": 13,
   "id": "5c553893",
   "metadata": {},
   "outputs": [
    {
     "data": {
      "text/html": [
       "<div>\n",
       "<style scoped>\n",
       "    .dataframe tbody tr th:only-of-type {\n",
       "        vertical-align: middle;\n",
       "    }\n",
       "\n",
       "    .dataframe tbody tr th {\n",
       "        vertical-align: top;\n",
       "    }\n",
       "\n",
       "    .dataframe thead th {\n",
       "        text-align: right;\n",
       "    }\n",
       "</style>\n",
       "<table border=\"1\" class=\"dataframe\">\n",
       "  <thead>\n",
       "    <tr style=\"text-align: right;\">\n",
       "      <th></th>\n",
       "      <th>visitorId</th>\n",
       "      <th>orders</th>\n",
       "    </tr>\n",
       "  </thead>\n",
       "  <tbody>\n",
       "    <tr>\n",
       "      <th>0</th>\n",
       "      <td>5114589</td>\n",
       "      <td>1</td>\n",
       "    </tr>\n",
       "    <tr>\n",
       "      <th>1</th>\n",
       "      <td>6958315</td>\n",
       "      <td>1</td>\n",
       "    </tr>\n",
       "    <tr>\n",
       "      <th>2</th>\n",
       "      <td>11685486</td>\n",
       "      <td>1</td>\n",
       "    </tr>\n",
       "    <tr>\n",
       "      <th>3</th>\n",
       "      <td>39475350</td>\n",
       "      <td>1</td>\n",
       "    </tr>\n",
       "    <tr>\n",
       "      <th>4</th>\n",
       "      <td>47206413</td>\n",
       "      <td>1</td>\n",
       "    </tr>\n",
       "  </tbody>\n",
       "</table>\n",
       "</div>"
      ],
      "text/plain": [
       "   visitorId  orders\n",
       "0  5114589    1     \n",
       "1  6958315    1     \n",
       "2  11685486   1     \n",
       "3  39475350   1     \n",
       "4  47206413   1     "
      ]
     },
     "metadata": {},
     "output_type": "display_data"
    },
    {
     "data": {
      "image/png": "[encoded data removed]",
      "text/plain": [
       "<Figure size 1296x576 with 1 Axes>"
      ]
     },
     "metadata": {
      "needs_background": "light"
     },
     "output_type": "display_data"
    }
   ],
   "source": [
    "orders_by_users = (\n",
    "    orders.groupby('visitorId', as_index=False)\n",
    "    .agg({'transactionId': 'nunique'})\n",
    ")\n",
    "orders_by_users.columns = ['visitorId', 'orders']\n",
    "\n",
    "display(orders_by_users.head())\n",
    "\n",
    "# серия из чисел от 0 до количества наблюдений в orders_by_users\n",
    "x_values = pd.Series(range(0, len(orders_by_users)))\n",
    "\n",
    "plt.figure(figsize=(18, 8))\n",
    "plt.scatter(x=x_values, y=orders_by_users['orders'])\n",
    "\n",
    "plt.title('График количества заказов по пользователям')\n",
    "\n",
    "plt.xlabel(u'Пользователи')\n",
    "plt.ylabel(u'Заказы');"
   ]
  },
  {
   "cell_type": "markdown",
   "id": "643b3c0d",
   "metadata": {},
   "source": [
    "Большинство пользователей делают 1 заказ. Есть некоторое количество пользователей с 2 и 3 заказами, но их меньшинство."
   ]
  },
  {
   "cell_type": "markdown",
   "id": "795bac22",
   "metadata": {},
   "source": [
    "## Задача 7.\n",
    "Посчитайте 95-й и 99-й перцентили количества заказов на пользователя. Выберите границу для определения аномальных пользователей."
   ]
  },
  {
   "cell_type": "code",
   "execution_count": 14,
   "id": "31c22350",
   "metadata": {},
   "outputs": [
    {
     "name": "stdout",
     "output_type": "stream",
     "text": [
      "[1. 2.]\n"
     ]
    }
   ],
   "source": [
    "print(np.percentile(orders_by_users['orders'], [95, 99]))"
   ]
  },
  {
   "cell_type": "markdown",
   "id": "4c062090",
   "metadata": {},
   "source": [
    "Не более 5% пользователей совершали одного двух заказа, не более 1% больше четырёх заказов. Разумно выбрать 2 заказа  на одного пользователя за нижнюю границу числа заказов, и отсеять аномальных пользователей по ней. "
   ]
  },
  {
   "cell_type": "markdown",
   "id": "b2809a85",
   "metadata": {},
   "source": [
    "## Задача 8.\n",
    "Постройте точечный график стоимостей заказов. Сделайте выводы и предположения."
   ]
  },
  {
   "cell_type": "code",
   "execution_count": 15,
   "id": "d1652443",
   "metadata": {
    "scrolled": false
   },
   "outputs": [
    {
     "data": {
      "text/html": [
       "<div>\n",
       "<style scoped>\n",
       "    .dataframe tbody tr th:only-of-type {\n",
       "        vertical-align: middle;\n",
       "    }\n",
       "\n",
       "    .dataframe tbody tr th {\n",
       "        vertical-align: top;\n",
       "    }\n",
       "\n",
       "    .dataframe thead th {\n",
       "        text-align: right;\n",
       "    }\n",
       "</style>\n",
       "<table border=\"1\" class=\"dataframe\">\n",
       "  <thead>\n",
       "    <tr style=\"text-align: right;\">\n",
       "      <th></th>\n",
       "      <th>transactionId</th>\n",
       "      <th>visitorId</th>\n",
       "      <th>date</th>\n",
       "      <th>revenue</th>\n",
       "      <th>group</th>\n",
       "    </tr>\n",
       "  </thead>\n",
       "  <tbody>\n",
       "    <tr>\n",
       "      <th>425</th>\n",
       "      <td>590470918</td>\n",
       "      <td>1920142716</td>\n",
       "      <td>2019-08-19</td>\n",
       "      <td>1294500</td>\n",
       "      <td>B</td>\n",
       "    </tr>\n",
       "    <tr>\n",
       "      <th>1196</th>\n",
       "      <td>3936777065</td>\n",
       "      <td>2108080724</td>\n",
       "      <td>2019-08-15</td>\n",
       "      <td>202740</td>\n",
       "      <td>B</td>\n",
       "    </tr>\n",
       "    <tr>\n",
       "      <th>1136</th>\n",
       "      <td>666610489</td>\n",
       "      <td>1307669133</td>\n",
       "      <td>2019-08-13</td>\n",
       "      <td>92550</td>\n",
       "      <td>A</td>\n",
       "    </tr>\n",
       "    <tr>\n",
       "      <th>744</th>\n",
       "      <td>3668308183</td>\n",
       "      <td>888512513</td>\n",
       "      <td>2019-08-27</td>\n",
       "      <td>86620</td>\n",
       "      <td>B</td>\n",
       "    </tr>\n",
       "    <tr>\n",
       "      <th>743</th>\n",
       "      <td>3603576309</td>\n",
       "      <td>4133034833</td>\n",
       "      <td>2019-08-09</td>\n",
       "      <td>67990</td>\n",
       "      <td>A</td>\n",
       "    </tr>\n",
       "    <tr>\n",
       "      <th>1103</th>\n",
       "      <td>1348774318</td>\n",
       "      <td>1164614297</td>\n",
       "      <td>2019-08-12</td>\n",
       "      <td>66350</td>\n",
       "      <td>A</td>\n",
       "    </tr>\n",
       "    <tr>\n",
       "      <th>1099</th>\n",
       "      <td>316924019</td>\n",
       "      <td>148427295</td>\n",
       "      <td>2019-08-12</td>\n",
       "      <td>65710</td>\n",
       "      <td>A</td>\n",
       "    </tr>\n",
       "    <tr>\n",
       "      <th>949</th>\n",
       "      <td>1347999392</td>\n",
       "      <td>887908475</td>\n",
       "      <td>2019-08-21</td>\n",
       "      <td>60450</td>\n",
       "      <td>A</td>\n",
       "    </tr>\n",
       "    <tr>\n",
       "      <th>940</th>\n",
       "      <td>2420050534</td>\n",
       "      <td>4003628586</td>\n",
       "      <td>2019-08-08</td>\n",
       "      <td>58550</td>\n",
       "      <td>B</td>\n",
       "    </tr>\n",
       "    <tr>\n",
       "      <th>131</th>\n",
       "      <td>3163614039</td>\n",
       "      <td>2254586615</td>\n",
       "      <td>2019-08-22</td>\n",
       "      <td>53904</td>\n",
       "      <td>A</td>\n",
       "    </tr>\n",
       "  </tbody>\n",
       "</table>\n",
       "</div>"
      ],
      "text/plain": [
       "      transactionId   visitorId       date  revenue group\n",
       "425   590470918      1920142716 2019-08-19  1294500  B   \n",
       "1196  3936777065     2108080724 2019-08-15  202740   B   \n",
       "1136  666610489      1307669133 2019-08-13  92550    A   \n",
       "744   3668308183     888512513  2019-08-27  86620    B   \n",
       "743   3603576309     4133034833 2019-08-09  67990    A   \n",
       "1103  1348774318     1164614297 2019-08-12  66350    A   \n",
       "1099  316924019      148427295  2019-08-12  65710    A   \n",
       "949   1347999392     887908475  2019-08-21  60450    A   \n",
       "940   2420050534     4003628586 2019-08-08  58550    B   \n",
       "131   3163614039     2254586615 2019-08-22  53904    A   "
      ]
     },
     "metadata": {},
     "output_type": "display_data"
    },
    {
     "data": {
      "image/png": "[encoded data removed]",
      "text/plain": [
       "<Figure size 1296x576 with 1 Axes>"
      ]
     },
     "metadata": {
      "needs_background": "light"
     },
     "output_type": "display_data"
    }
   ],
   "source": [
    "display(orders.sort_values(by='revenue', ascending=False).head(10))\n",
    "\n",
    "x_values = pd.Series(range(0, len(orders['revenue'])))\n",
    "\n",
    "plt.figure(figsize=(18, 8))\n",
    "plt.scatter(x=x_values, y=orders['revenue'])\n",
    "plt.ylim(0, 80000)\n",
    "\n",
    "plt.title('График стоимостей заказов')\n",
    "\n",
    "plt.xlabel(u'Пользователи')\n",
    "plt.ylabel(u'Стоимость заказа');"
   ]
  },
  {
   "cell_type": "markdown",
   "id": "ef277e5e",
   "metadata": {},
   "source": [
    "Подавляющее большинство заказов до 30 тысяч, но есть и парочка мощных аномалий: 200 тысяч и 1.3 миллиона."
   ]
  },
  {
   "cell_type": "markdown",
   "id": "d1b0e6e6",
   "metadata": {},
   "source": [
    "## Задача 9.\n",
    "Посчитайте 95-й и 99-й перцентили стоимости заказов. Выберите границу для определения аномальных заказов."
   ]
  },
  {
   "cell_type": "code",
   "execution_count": 16,
   "id": "7fcd0335",
   "metadata": {},
   "outputs": [
    {
     "name": "stdout",
     "output_type": "stream",
     "text": [
      "[26785. 53904.]\n"
     ]
    }
   ],
   "source": [
    "print(np.percentile(orders['revenue'], [95, 99]))"
   ]
  },
  {
   "cell_type": "markdown",
   "id": "78e32068",
   "metadata": {},
   "source": [
    "У 5% пользователей чек дороже 26.8 тысяч, а у 1% дороже 53.9 тысяч. Тут тоже возьмем 95% пользоваталей и установим 28000 за верхнюю границу стоимости заказа."
   ]
  },
  {
   "cell_type": "markdown",
   "id": "fd6a5234",
   "metadata": {},
   "source": [
    "## Задача 10.\n",
    "Посчитайте статистическую значимость различий в конверсии между группами по «сырым» данным. Сделайте выводы и предположения."
   ]
  },
  {
   "cell_type": "markdown",
   "id": "0e964d6f",
   "metadata": {},
   "source": [
    "Для всех последующих тестов применяется метод Манна-Уитни.\n",
    "\n",
    "p-value = 0.05.\n",
    "\n",
    "Так же, вычислим относительное различие в среднем между группами в каждом тесте."
   ]
  },
  {
   "cell_type": "markdown",
   "id": "63e47841",
   "metadata": {},
   "source": [
    "Гипотеза для Задачи 10:\n",
    "\n",
    "Статистически значимых различий в конверсии между группами по «сырым» данным нет."
   ]
  },
  {
   "cell_type": "code",
   "execution_count": 17,
   "id": "e3a1ded6",
   "metadata": {},
   "outputs": [
    {
     "name": "stdout",
     "output_type": "stream",
     "text": [
      "0.01102\n",
      "0.160\n"
     ]
    }
   ],
   "source": [
    "orders_by_users_A = (\n",
    "    orders[orders['group'] == 'A']\n",
    "    .groupby('visitorId', as_index=False)\n",
    "    .agg({'transactionId': pd.Series.nunique})\n",
    ")\n",
    "orders_by_users_A.columns = ['visitorId', 'orders']\n",
    "\n",
    "orders_by_users_B = (\n",
    "    orders[orders['group'] == 'B']\n",
    "    .groupby('visitorId', as_index=False)\n",
    "    .agg({'transactionId': pd.Series.nunique})\n",
    ")\n",
    "orders_by_users_B.columns = ['visitorId', 'orders']\n",
    "\n",
    "sample_A = pd.concat([orders_by_users_A['orders'],pd.Series(0, index=np.arange(data['visitors_per_date_A'].sum() - len(orders_by_users_A['orders'])), name='orders')],axis=0)\n",
    "\n",
    "sample_B = pd.concat([orders_by_users_B['orders'],pd.Series(0, index=np.arange(data['visitors_per_date_B'].sum() - len(orders_by_users_B['orders'])), name='orders')],axis=0)\n",
    "\n",
    "print(\"{0:.5f}\".format(stats.mannwhitneyu(sample_A, sample_B)[1]))\n",
    "print(\n",
    "    \"{0:.3f}\".format(\n",
    "        (data['orders_per_date_B'].sum() / data['visitors_per_date_B'].sum())\n",
    "        / (data['orders_per_date_A'].sum() / data['visitors_per_date_A'].sum())\n",
    "        - 1\n",
    "    )\n",
    ")"
   ]
  },
  {
   "cell_type": "markdown",
   "id": "f818fff9",
   "metadata": {},
   "source": [
    "Первое число — p-value = 0.01102 меньше 0.05. Значит, нулевую гипотезу о том, что статистически значимых различий в конверсии между группами по «сырым» данным нет, отвергаем. Относительный выигрыш группы B равен 16% — второе число в выводе. Следует изучить данные без аномалий."
   ]
  },
  {
   "cell_type": "markdown",
   "id": "1764d870",
   "metadata": {},
   "source": [
    "## Задача 11.\n",
    "Посчитайте статистическую значимость различий в среднем чеке заказа между группами по «сырым» данным. Сделайте выводы и предположения."
   ]
  },
  {
   "cell_type": "markdown",
   "id": "3b123797",
   "metadata": {},
   "source": [
    "Гипотеза для Задачи 11:\n",
    "\n",
    "Статистически значимых различий в среднем чеке заказа между группами по «сырым» данным нет."
   ]
  },
  {
   "cell_type": "code",
   "execution_count": 18,
   "id": "25b39cf3",
   "metadata": {
    "scrolled": true
   },
   "outputs": [
    {
     "name": "stdout",
     "output_type": "stream",
     "text": [
      "0.82949\n",
      "0.287\n"
     ]
    }
   ],
   "source": [
    "print(\"{0:.5f}\".format(stats.mannwhitneyu(orders[orders['group'] == 'A']['revenue'], orders[orders['group'] == 'B']['revenue'], )[1]))\n",
    "print(\"{0:.3f}\".format(orders[orders['group'] == 'B']['revenue'].mean() / orders[orders['group'] == 'A']['revenue'].mean() - 1))"
   ]
  },
  {
   "cell_type": "markdown",
   "id": "ec18f663",
   "metadata": {},
   "source": [
    "Первое число — p-value = 0.90179 больше 0.05. Значит, нулевую гипотезу о том, что статистически различий в среднем чеке заказа между группами по «сырым» данным нет, не отвергаем. Относительный выигрыш группы B равен 27.4% — второе число в выводе. Следует изучить данные без аномалий."
   ]
  },
  {
   "cell_type": "markdown",
   "id": "7f4d1e79",
   "metadata": {},
   "source": [
    "## Задача 12.\n",
    "Посчитайте статистическую значимость различий в конверсии между группами по «очищенным» данным. Сделайте выводы и предположения."
   ]
  },
  {
   "cell_type": "markdown",
   "id": "46a7ab77",
   "metadata": {},
   "source": [
    "Гипотеза для Задачи 12:\n",
    "\n",
    "Статистически значимых различий в конверсии между группами по «очищенным» данным нет."
   ]
  },
  {
   "cell_type": "code",
   "execution_count": 19,
   "id": "6123a839",
   "metadata": {},
   "outputs": [
    {
     "name": "stdout",
     "output_type": "stream",
     "text": [
      "0.00945\n",
      "0.189\n"
     ]
    }
   ],
   "source": [
    "#Создаем таблицу с аномальными заказами\n",
    "users_with_many_orders = pd.concat(\n",
    "    [\n",
    "        orders_by_users_A[orders_by_users_A['orders'] > 2]['visitorId'],\n",
    "        orders_by_users_B[orders_by_users_B['orders'] > 2]['visitorId'],\n",
    "    ],\n",
    "    axis=0,\n",
    ")\n",
    "\n",
    "users_with_expensive_orders = orders[orders['revenue'] > 28000]['visitorId']\n",
    "\n",
    "abnormal_users = (\n",
    "    pd.concat([users_with_many_orders, users_with_expensive_orders], axis=0)\n",
    "    .drop_duplicates()\n",
    "    .sort_values()\n",
    ")\n",
    "#Анализ\n",
    "sample_A_filtered = pd.concat(\n",
    "    [\n",
    "        orders_by_users_A[\n",
    "            np.logical_not(orders_by_users_A['visitorId'].isin(abnormal_users))\n",
    "        ]['orders'],\n",
    "        pd.Series(\n",
    "            0,\n",
    "            index=np.arange(\n",
    "                data['visitors_per_date_A'].sum() - len(orders_by_users_A['orders'])\n",
    "            ),\n",
    "            name='orders',\n",
    "        ),\n",
    "    ],\n",
    "    axis=0,\n",
    ")\n",
    "\n",
    "sample_B_filtered = pd.concat(\n",
    "    [\n",
    "        orders_by_users_B[\n",
    "            np.logical_not(orders_by_users_B['visitorId'].isin(abnormal_users))\n",
    "        ]['orders'],\n",
    "        pd.Series(\n",
    "            0,\n",
    "            index=np.arange(\n",
    "                data['visitors_per_date_B'].sum() - len(orders_by_users_B['orders'])\n",
    "            ),\n",
    "            name='orders',\n",
    "        ),\n",
    "    ],\n",
    "    axis=0,\n",
    ")\n",
    "\n",
    "print('{0:.5f}'.format(stats.mannwhitneyu(sample_A_filtered, sample_B_filtered)[1]))\n",
    "print('{0:.3f}'.format(sample_B_filtered.mean()/sample_A_filtered.mean()-1)) "
   ]
  },
  {
   "cell_type": "markdown",
   "id": "ae91684e",
   "metadata": {},
   "source": [
    "Первое число — p-value = 0.00945 меньше 0.05. Значит, нулевую гипотезу о том, что статистически значимых различий в конверсии между группами по «очищенным» данным нет, отвергаем. Относительный проигрыш группы А равен 1.89% — второе число в выводе. Статистические различия в конверсии есть."
   ]
  },
  {
   "cell_type": "markdown",
   "id": "7194b3b8",
   "metadata": {},
   "source": [
    "## Задача 13.\n",
    "Посчитайте статистическую значимость различий в среднем чеке заказа между группами по «очищенным» данным. Сделайте выводы и предположения."
   ]
  },
  {
   "cell_type": "code",
   "execution_count": 20,
   "id": "47ae7104",
   "metadata": {},
   "outputs": [
    {
     "name": "stdout",
     "output_type": "stream",
     "text": [
      "0.76169\n",
      "-0.022\n"
     ]
    }
   ],
   "source": [
    "print(\n",
    "    '{0:.5f}'.format(\n",
    "        stats.mannwhitneyu(\n",
    "            orders[\n",
    "                np.logical_and(\n",
    "                    orders['group'] == 'A',\n",
    "                    np.logical_not(orders['visitorId'].isin(abnormal_users)),\n",
    "                )\n",
    "            ]['revenue'],\n",
    "            orders[\n",
    "                np.logical_and(\n",
    "                    orders['group'] == 'B',\n",
    "                    np.logical_not(orders['visitorId'].isin(abnormal_users)),\n",
    "                )\n",
    "            ]['revenue'],\n",
    "        )[1]\n",
    "    )\n",
    ")\n",
    "\n",
    "print(\n",
    "    \"{0:.3f}\".format(\n",
    "        orders[\n",
    "            np.logical_and(\n",
    "                orders['group'] == 'B',\n",
    "                np.logical_not(orders['visitorId'].isin(abnormal_users)),\n",
    "            )\n",
    "        ]['revenue'].mean()\n",
    "        / orders[\n",
    "            np.logical_and(\n",
    "                orders['group'] == 'A',\n",
    "                np.logical_not(orders['visitorId'].isin(abnormal_users)),\n",
    "            )\n",
    "        ]['revenue'].mean()\n",
    "        - 1\n",
    "    )\n",
    ")"
   ]
  },
  {
   "cell_type": "markdown",
   "id": "2c7766b4",
   "metadata": {},
   "source": [
    "Первое число — p-value = 0.76169 больше 0.05. Значит, нулевую гипотезу о том, что статистически значимых различий в среднем числе заказов между группами нет, не отвергаем. Относительный выигрыш группы А равен 2% — второе число в выводе. Статистических различий в среднем чеке нет."
   ]
  },
  {
   "cell_type": "markdown",
   "id": "0085b38d",
   "metadata": {},
   "source": [
    "## Задача 14.\n",
    "Примите решение по результатам теста и объясните его. Варианты решений: 1. Остановить тест, зафиксировать победу одной из групп. 2. Остановить тест, зафиксировать отсутствие различий между группами. 3. Продолжить тест."
   ]
  },
  {
   "cell_type": "markdown",
   "id": "3cd256df",
   "metadata": {},
   "source": [
    "# Решение и общий вывод.\n",
    "1. При применении различных методов приотеризации задач, следует учитывать и пользователей, которых коснутся изменений. Если их число велико или может сильно отличаться от задачи к задаче, то следует воспользоваться методом RICE. Он вывел в абсолютные лидеры задачу \"Добавить форму подписки на все основные страницы, чтобы собрать базу клиентов для email-рассылок \".\n",
    "\n",
    "2. Следует остановить тест. Различия между группами небольшие (в районе 2%). Аномальные покупки (как сумма заказа, так и количество покупок) сильно влияют на результаты теста, но исключив их, явно видно, что данные стабилизировались и почти не отличаются между собой. Тем не менее, статистические различия в конверсии групп есть, лидирует группа В."
   ]
  }
 ],
 "metadata": {
  "ExecuteTimeLog": [
   {
    "duration": 495,
    "start_time": "2022-07-06T11:05:09.151Z"
   },
   {
    "duration": 11,
    "start_time": "2022-07-06T11:05:09.648Z"
   },
   {
    "duration": 15,
    "start_time": "2022-07-06T11:05:09.661Z"
   },
   {
    "duration": 570,
    "start_time": "2022-07-06T11:05:09.678Z"
   },
   {
    "duration": 240,
    "start_time": "2022-07-06T11:05:10.250Z"
   },
   {
    "duration": 92,
    "start_time": "2022-07-06T11:05:10.492Z"
   },
   {
    "duration": 0,
    "start_time": "2022-07-06T11:05:10.586Z"
   },
   {
    "duration": 0,
    "start_time": "2022-07-06T11:05:10.587Z"
   },
   {
    "duration": 0,
    "start_time": "2022-07-06T11:05:10.588Z"
   },
   {
    "duration": 0,
    "start_time": "2022-07-06T11:05:10.589Z"
   },
   {
    "duration": 0,
    "start_time": "2022-07-06T11:05:10.590Z"
   },
   {
    "duration": 0,
    "start_time": "2022-07-06T11:05:10.592Z"
   },
   {
    "duration": 0,
    "start_time": "2022-07-06T11:05:10.593Z"
   },
   {
    "duration": 0,
    "start_time": "2022-07-06T11:05:10.594Z"
   },
   {
    "duration": 0,
    "start_time": "2022-07-06T11:05:10.595Z"
   },
   {
    "duration": 0,
    "start_time": "2022-07-06T11:05:10.596Z"
   },
   {
    "duration": 0,
    "start_time": "2022-07-06T11:05:10.597Z"
   },
   {
    "duration": 0,
    "start_time": "2022-07-06T11:05:10.598Z"
   },
   {
    "duration": 501,
    "start_time": "2022-07-06T11:09:03.740Z"
   },
   {
    "duration": 11,
    "start_time": "2022-07-06T11:09:04.243Z"
   },
   {
    "duration": 11,
    "start_time": "2022-07-06T11:09:04.255Z"
   },
   {
    "duration": 523,
    "start_time": "2022-07-06T11:09:04.268Z"
   },
   {
    "duration": 244,
    "start_time": "2022-07-06T11:09:04.793Z"
   },
   {
    "duration": 96,
    "start_time": "2022-07-06T11:09:05.039Z"
   },
   {
    "duration": 0,
    "start_time": "2022-07-06T11:09:05.137Z"
   },
   {
    "duration": 0,
    "start_time": "2022-07-06T11:09:05.138Z"
   },
   {
    "duration": 0,
    "start_time": "2022-07-06T11:09:05.140Z"
   },
   {
    "duration": 0,
    "start_time": "2022-07-06T11:09:05.141Z"
   },
   {
    "duration": 0,
    "start_time": "2022-07-06T11:09:05.142Z"
   },
   {
    "duration": 0,
    "start_time": "2022-07-06T11:09:05.143Z"
   },
   {
    "duration": 0,
    "start_time": "2022-07-06T11:09:05.161Z"
   },
   {
    "duration": 0,
    "start_time": "2022-07-06T11:09:05.162Z"
   },
   {
    "duration": 0,
    "start_time": "2022-07-06T11:09:05.163Z"
   },
   {
    "duration": 0,
    "start_time": "2022-07-06T11:09:05.164Z"
   },
   {
    "duration": 0,
    "start_time": "2022-07-06T11:09:05.165Z"
   },
   {
    "duration": 0,
    "start_time": "2022-07-06T11:09:05.166Z"
   },
   {
    "duration": 641,
    "start_time": "2022-07-06T12:23:24.327Z"
   },
   {
    "duration": 38,
    "start_time": "2022-07-06T12:23:24.971Z"
   },
   {
    "duration": 17,
    "start_time": "2022-07-06T12:23:25.012Z"
   },
   {
    "duration": 651,
    "start_time": "2022-07-06T12:23:25.031Z"
   },
   {
    "duration": 398,
    "start_time": "2022-07-06T12:23:25.686Z"
   },
   {
    "duration": 125,
    "start_time": "2022-07-06T12:23:26.087Z"
   },
   {
    "duration": 0,
    "start_time": "2022-07-06T12:23:26.214Z"
   },
   {
    "duration": 0,
    "start_time": "2022-07-06T12:23:26.216Z"
   },
   {
    "duration": 0,
    "start_time": "2022-07-06T12:23:26.218Z"
   },
   {
    "duration": 0,
    "start_time": "2022-07-06T12:23:26.220Z"
   },
   {
    "duration": 0,
    "start_time": "2022-07-06T12:23:26.223Z"
   },
   {
    "duration": 0,
    "start_time": "2022-07-06T12:23:26.225Z"
   },
   {
    "duration": 0,
    "start_time": "2022-07-06T12:23:26.226Z"
   },
   {
    "duration": 0,
    "start_time": "2022-07-06T12:23:26.228Z"
   },
   {
    "duration": 0,
    "start_time": "2022-07-06T12:23:26.229Z"
   },
   {
    "duration": 0,
    "start_time": "2022-07-06T12:23:26.230Z"
   },
   {
    "duration": 0,
    "start_time": "2022-07-06T12:23:26.237Z"
   },
   {
    "duration": 0,
    "start_time": "2022-07-06T12:23:26.239Z"
   },
   {
    "duration": 777,
    "start_time": "2022-07-06T12:24:26.977Z"
   },
   {
    "duration": 905,
    "start_time": "2022-07-06T12:24:32.617Z"
   },
   {
    "duration": 20,
    "start_time": "2022-07-06T12:24:33.528Z"
   },
   {
    "duration": 36,
    "start_time": "2022-07-06T12:24:33.550Z"
   },
   {
    "duration": 735,
    "start_time": "2022-07-06T12:24:33.588Z"
   },
   {
    "duration": 353,
    "start_time": "2022-07-06T12:24:34.325Z"
   },
   {
    "duration": 513,
    "start_time": "2022-07-06T12:24:34.680Z"
   },
   {
    "duration": 299,
    "start_time": "2022-07-06T12:24:35.195Z"
   },
   {
    "duration": 414,
    "start_time": "2022-07-06T12:24:35.497Z"
   },
   {
    "duration": 290,
    "start_time": "2022-07-06T12:24:35.914Z"
   },
   {
    "duration": 471,
    "start_time": "2022-07-06T12:24:36.208Z"
   },
   {
    "duration": 207,
    "start_time": "2022-07-06T12:24:36.681Z"
   },
   {
    "duration": 6,
    "start_time": "2022-07-06T12:24:36.890Z"
   },
   {
    "duration": 328,
    "start_time": "2022-07-06T12:24:36.899Z"
   },
   {
    "duration": 14,
    "start_time": "2022-07-06T12:24:37.233Z"
   },
   {
    "duration": 230,
    "start_time": "2022-07-06T12:24:37.252Z"
   },
   {
    "duration": 12,
    "start_time": "2022-07-06T12:24:37.487Z"
   },
   {
    "duration": 51,
    "start_time": "2022-07-06T12:24:37.501Z"
   },
   {
    "duration": 43,
    "start_time": "2022-07-06T12:24:37.554Z"
   },
   {
    "duration": 891,
    "start_time": "2022-07-06T12:58:21.122Z"
   },
   {
    "duration": 9,
    "start_time": "2022-07-06T12:58:22.015Z"
   },
   {
    "duration": 9,
    "start_time": "2022-07-06T12:58:22.025Z"
   },
   {
    "duration": 590,
    "start_time": "2022-07-06T12:58:22.036Z"
   },
   {
    "duration": 212,
    "start_time": "2022-07-06T12:58:22.628Z"
   },
   {
    "duration": 263,
    "start_time": "2022-07-06T12:58:22.842Z"
   },
   {
    "duration": 192,
    "start_time": "2022-07-06T12:58:23.106Z"
   },
   {
    "duration": 340,
    "start_time": "2022-07-06T12:58:23.299Z"
   },
   {
    "duration": 184,
    "start_time": "2022-07-06T12:58:23.641Z"
   },
   {
    "duration": 281,
    "start_time": "2022-07-06T12:58:23.827Z"
   },
   {
    "duration": 137,
    "start_time": "2022-07-06T12:58:24.109Z"
   },
   {
    "duration": 4,
    "start_time": "2022-07-06T12:58:24.248Z"
   },
   {
    "duration": 158,
    "start_time": "2022-07-06T12:58:24.253Z"
   },
   {
    "duration": 3,
    "start_time": "2022-07-06T12:58:24.413Z"
   },
   {
    "duration": 205,
    "start_time": "2022-07-06T12:58:24.417Z"
   },
   {
    "duration": 8,
    "start_time": "2022-07-06T12:58:24.624Z"
   },
   {
    "duration": 16,
    "start_time": "2022-07-06T12:58:24.633Z"
   },
   {
    "duration": 11,
    "start_time": "2022-07-06T12:58:24.650Z"
   },
   {
    "duration": 870,
    "start_time": "2022-07-06T13:40:07.732Z"
   },
   {
    "duration": 11,
    "start_time": "2022-07-06T13:40:08.603Z"
   },
   {
    "duration": 12,
    "start_time": "2022-07-06T13:40:08.615Z"
   },
   {
    "duration": 606,
    "start_time": "2022-07-06T13:40:08.629Z"
   },
   {
    "duration": 232,
    "start_time": "2022-07-06T13:40:09.238Z"
   },
   {
    "duration": 345,
    "start_time": "2022-07-06T13:40:09.471Z"
   },
   {
    "duration": 220,
    "start_time": "2022-07-06T13:40:09.819Z"
   },
   {
    "duration": 325,
    "start_time": "2022-07-06T13:40:10.040Z"
   },
   {
    "duration": 222,
    "start_time": "2022-07-06T13:40:10.367Z"
   },
   {
    "duration": 325,
    "start_time": "2022-07-06T13:40:10.591Z"
   },
   {
    "duration": 152,
    "start_time": "2022-07-06T13:40:10.918Z"
   },
   {
    "duration": 5,
    "start_time": "2022-07-06T13:40:11.071Z"
   },
   {
    "duration": 165,
    "start_time": "2022-07-06T13:40:11.078Z"
   },
   {
    "duration": 4,
    "start_time": "2022-07-06T13:40:11.245Z"
   },
   {
    "duration": 177,
    "start_time": "2022-07-06T13:40:11.250Z"
   },
   {
    "duration": 15,
    "start_time": "2022-07-06T13:40:11.429Z"
   },
   {
    "duration": 36,
    "start_time": "2022-07-06T13:40:11.446Z"
   },
   {
    "duration": 33,
    "start_time": "2022-07-06T13:40:11.484Z"
   },
   {
    "duration": 786,
    "start_time": "2022-07-06T13:41:03.470Z"
   },
   {
    "duration": 16,
    "start_time": "2022-07-06T13:41:04.258Z"
   },
   {
    "duration": 13,
    "start_time": "2022-07-06T13:41:04.276Z"
   },
   {
    "duration": 566,
    "start_time": "2022-07-06T13:41:04.290Z"
   },
   {
    "duration": 252,
    "start_time": "2022-07-06T13:41:04.858Z"
   },
   {
    "duration": 377,
    "start_time": "2022-07-06T13:41:05.116Z"
   },
   {
    "duration": 244,
    "start_time": "2022-07-06T13:41:05.495Z"
   },
   {
    "duration": 292,
    "start_time": "2022-07-06T13:41:05.740Z"
   },
   {
    "duration": 227,
    "start_time": "2022-07-06T13:41:06.033Z"
   },
   {
    "duration": 367,
    "start_time": "2022-07-06T13:41:06.261Z"
   },
   {
    "duration": 155,
    "start_time": "2022-07-06T13:41:06.629Z"
   },
   {
    "duration": 4,
    "start_time": "2022-07-06T13:41:06.786Z"
   },
   {
    "duration": 196,
    "start_time": "2022-07-06T13:41:06.802Z"
   },
   {
    "duration": 13,
    "start_time": "2022-07-06T13:41:07.003Z"
   },
   {
    "duration": 216,
    "start_time": "2022-07-06T13:41:07.020Z"
   },
   {
    "duration": 9,
    "start_time": "2022-07-06T13:41:07.237Z"
   },
   {
    "duration": 23,
    "start_time": "2022-07-06T13:41:07.248Z"
   },
   {
    "duration": 21,
    "start_time": "2022-07-06T13:41:07.273Z"
   },
   {
    "duration": 882,
    "start_time": "2022-07-06T13:45:38.078Z"
   },
   {
    "duration": 15,
    "start_time": "2022-07-06T13:45:38.963Z"
   },
   {
    "duration": 13,
    "start_time": "2022-07-06T13:45:38.980Z"
   },
   {
    "duration": 639,
    "start_time": "2022-07-06T13:45:38.996Z"
   },
   {
    "duration": 244,
    "start_time": "2022-07-06T13:45:39.637Z"
   },
   {
    "duration": 323,
    "start_time": "2022-07-06T13:45:39.883Z"
   },
   {
    "duration": 222,
    "start_time": "2022-07-06T13:45:40.208Z"
   },
   {
    "duration": 392,
    "start_time": "2022-07-06T13:45:40.431Z"
   },
   {
    "duration": 216,
    "start_time": "2022-07-06T13:45:40.824Z"
   },
   {
    "duration": 319,
    "start_time": "2022-07-06T13:45:41.043Z"
   },
   {
    "duration": 165,
    "start_time": "2022-07-06T13:45:41.364Z"
   },
   {
    "duration": 5,
    "start_time": "2022-07-06T13:45:41.530Z"
   },
   {
    "duration": 166,
    "start_time": "2022-07-06T13:45:41.545Z"
   },
   {
    "duration": 4,
    "start_time": "2022-07-06T13:45:41.713Z"
   },
   {
    "duration": 157,
    "start_time": "2022-07-06T13:45:41.719Z"
   },
   {
    "duration": 12,
    "start_time": "2022-07-06T13:45:41.878Z"
   },
   {
    "duration": 20,
    "start_time": "2022-07-06T13:45:41.892Z"
   },
   {
    "duration": 32,
    "start_time": "2022-07-06T13:45:41.914Z"
   },
   {
    "duration": 10,
    "start_time": "2022-07-06T13:46:02.779Z"
   },
   {
    "duration": 14,
    "start_time": "2022-07-06T13:46:06.513Z"
   },
   {
    "duration": 68,
    "start_time": "2022-07-06T13:46:24.384Z"
   },
   {
    "duration": 11,
    "start_time": "2022-07-06T13:46:24.454Z"
   },
   {
    "duration": 13,
    "start_time": "2022-07-06T13:46:24.467Z"
   },
   {
    "duration": 85,
    "start_time": "2022-07-06T13:46:24.482Z"
   },
   {
    "duration": 260,
    "start_time": "2022-07-06T13:46:24.569Z"
   },
   {
    "duration": 328,
    "start_time": "2022-07-06T13:46:24.830Z"
   },
   {
    "duration": 225,
    "start_time": "2022-07-06T13:46:25.160Z"
   },
   {
    "duration": 283,
    "start_time": "2022-07-06T13:46:25.387Z"
   },
   {
    "duration": 219,
    "start_time": "2022-07-06T13:46:25.672Z"
   },
   {
    "duration": 304,
    "start_time": "2022-07-06T13:46:25.893Z"
   },
   {
    "duration": 157,
    "start_time": "2022-07-06T13:46:26.199Z"
   },
   {
    "duration": 4,
    "start_time": "2022-07-06T13:46:26.358Z"
   },
   {
    "duration": 178,
    "start_time": "2022-07-06T13:46:26.363Z"
   },
   {
    "duration": 5,
    "start_time": "2022-07-06T13:46:26.542Z"
   },
   {
    "duration": 155,
    "start_time": "2022-07-06T13:46:26.548Z"
   },
   {
    "duration": 10,
    "start_time": "2022-07-06T13:46:26.704Z"
   },
   {
    "duration": 36,
    "start_time": "2022-07-06T13:46:26.715Z"
   },
   {
    "duration": 12,
    "start_time": "2022-07-06T13:46:26.753Z"
   },
   {
    "duration": 8,
    "start_time": "2022-07-06T13:48:34.369Z"
   },
   {
    "duration": 9,
    "start_time": "2022-07-06T13:49:01.375Z"
   },
   {
    "duration": 8,
    "start_time": "2022-07-06T13:49:36.530Z"
   },
   {
    "duration": 9,
    "start_time": "2022-07-06T13:50:32.173Z"
   },
   {
    "duration": 19,
    "start_time": "2022-07-06T13:50:38.876Z"
   },
   {
    "duration": 21,
    "start_time": "2022-07-06T13:52:30.577Z"
   },
   {
    "duration": 8,
    "start_time": "2022-07-06T13:53:22.193Z"
   },
   {
    "duration": 17,
    "start_time": "2022-07-06T13:53:31.828Z"
   },
   {
    "duration": 112,
    "start_time": "2022-07-06T13:54:52.786Z"
   },
   {
    "duration": 25,
    "start_time": "2022-07-06T13:55:33.982Z"
   },
   {
    "duration": 32,
    "start_time": "2022-07-06T13:56:02.903Z"
   },
   {
    "duration": 24,
    "start_time": "2022-07-06T13:57:43.114Z"
   },
   {
    "duration": 22,
    "start_time": "2022-07-06T13:58:14.296Z"
   },
   {
    "duration": 21,
    "start_time": "2022-07-06T13:58:20.829Z"
   },
   {
    "duration": 15,
    "start_time": "2022-07-06T13:58:28.161Z"
   },
   {
    "duration": 17,
    "start_time": "2022-07-06T13:59:46.162Z"
   },
   {
    "duration": 19,
    "start_time": "2022-07-06T14:00:05.604Z"
   },
   {
    "duration": 65,
    "start_time": "2022-07-06T14:00:09.565Z"
   },
   {
    "duration": 11,
    "start_time": "2022-07-06T14:00:09.633Z"
   },
   {
    "duration": 33,
    "start_time": "2022-07-06T14:00:09.646Z"
   },
   {
    "duration": 82,
    "start_time": "2022-07-06T14:00:09.682Z"
   },
   {
    "duration": 9,
    "start_time": "2022-07-06T14:00:09.766Z"
   },
   {
    "duration": 22,
    "start_time": "2022-07-06T14:00:09.776Z"
   },
   {
    "duration": 989,
    "start_time": "2022-07-06T14:00:09.800Z"
   },
   {
    "duration": 0,
    "start_time": "2022-07-06T14:00:10.791Z"
   },
   {
    "duration": 0,
    "start_time": "2022-07-06T14:00:10.792Z"
   },
   {
    "duration": 0,
    "start_time": "2022-07-06T14:00:10.793Z"
   },
   {
    "duration": 0,
    "start_time": "2022-07-06T14:00:10.795Z"
   },
   {
    "duration": 0,
    "start_time": "2022-07-06T14:00:10.796Z"
   },
   {
    "duration": 0,
    "start_time": "2022-07-06T14:00:10.798Z"
   },
   {
    "duration": 0,
    "start_time": "2022-07-06T14:00:10.799Z"
   },
   {
    "duration": 0,
    "start_time": "2022-07-06T14:00:10.800Z"
   },
   {
    "duration": 0,
    "start_time": "2022-07-06T14:00:10.801Z"
   },
   {
    "duration": 0,
    "start_time": "2022-07-06T14:00:10.803Z"
   },
   {
    "duration": 0,
    "start_time": "2022-07-06T14:00:10.804Z"
   },
   {
    "duration": 0,
    "start_time": "2022-07-06T14:00:10.805Z"
   },
   {
    "duration": 0,
    "start_time": "2022-07-06T14:00:10.806Z"
   },
   {
    "duration": 764,
    "start_time": "2022-07-06T14:00:16.879Z"
   },
   {
    "duration": 31,
    "start_time": "2022-07-06T14:00:17.648Z"
   },
   {
    "duration": 14,
    "start_time": "2022-07-06T14:00:17.682Z"
   },
   {
    "duration": 96,
    "start_time": "2022-07-06T14:00:17.698Z"
   },
   {
    "duration": 10,
    "start_time": "2022-07-06T14:00:17.795Z"
   },
   {
    "duration": 19,
    "start_time": "2022-07-06T14:00:17.806Z"
   },
   {
    "duration": 516,
    "start_time": "2022-07-06T14:00:17.827Z"
   },
   {
    "duration": 0,
    "start_time": "2022-07-06T14:00:18.346Z"
   },
   {
    "duration": 0,
    "start_time": "2022-07-06T14:00:18.347Z"
   },
   {
    "duration": 0,
    "start_time": "2022-07-06T14:00:18.348Z"
   },
   {
    "duration": 0,
    "start_time": "2022-07-06T14:00:18.350Z"
   },
   {
    "duration": 0,
    "start_time": "2022-07-06T14:00:18.351Z"
   },
   {
    "duration": 0,
    "start_time": "2022-07-06T14:00:18.352Z"
   },
   {
    "duration": 0,
    "start_time": "2022-07-06T14:00:18.353Z"
   },
   {
    "duration": 0,
    "start_time": "2022-07-06T14:00:18.354Z"
   },
   {
    "duration": 0,
    "start_time": "2022-07-06T14:00:18.356Z"
   },
   {
    "duration": 0,
    "start_time": "2022-07-06T14:00:18.357Z"
   },
   {
    "duration": 0,
    "start_time": "2022-07-06T14:00:18.358Z"
   },
   {
    "duration": 0,
    "start_time": "2022-07-06T14:00:18.360Z"
   },
   {
    "duration": 0,
    "start_time": "2022-07-06T14:00:18.361Z"
   },
   {
    "duration": 12,
    "start_time": "2022-07-06T14:00:31.462Z"
   },
   {
    "duration": 64,
    "start_time": "2022-07-06T14:00:33.861Z"
   },
   {
    "duration": 11,
    "start_time": "2022-07-06T14:00:33.928Z"
   },
   {
    "duration": 35,
    "start_time": "2022-07-06T14:00:33.941Z"
   },
   {
    "duration": 88,
    "start_time": "2022-07-06T14:00:33.978Z"
   },
   {
    "duration": 12,
    "start_time": "2022-07-06T14:00:34.068Z"
   },
   {
    "duration": 15,
    "start_time": "2022-07-06T14:00:34.082Z"
   },
   {
    "duration": 274,
    "start_time": "2022-07-06T14:00:34.099Z"
   },
   {
    "duration": 0,
    "start_time": "2022-07-06T14:00:34.375Z"
   },
   {
    "duration": 0,
    "start_time": "2022-07-06T14:00:34.377Z"
   },
   {
    "duration": 0,
    "start_time": "2022-07-06T14:00:34.378Z"
   },
   {
    "duration": 0,
    "start_time": "2022-07-06T14:00:34.380Z"
   },
   {
    "duration": 0,
    "start_time": "2022-07-06T14:00:34.381Z"
   },
   {
    "duration": 0,
    "start_time": "2022-07-06T14:00:34.381Z"
   },
   {
    "duration": 0,
    "start_time": "2022-07-06T14:00:34.383Z"
   },
   {
    "duration": 0,
    "start_time": "2022-07-06T14:00:34.383Z"
   },
   {
    "duration": 0,
    "start_time": "2022-07-06T14:00:34.384Z"
   },
   {
    "duration": 0,
    "start_time": "2022-07-06T14:00:34.385Z"
   },
   {
    "duration": 0,
    "start_time": "2022-07-06T14:00:34.387Z"
   },
   {
    "duration": 0,
    "start_time": "2022-07-06T14:00:34.388Z"
   },
   {
    "duration": 0,
    "start_time": "2022-07-06T14:00:34.389Z"
   },
   {
    "duration": 23,
    "start_time": "2022-07-06T14:01:49.041Z"
   },
   {
    "duration": 57,
    "start_time": "2022-07-06T14:01:51.952Z"
   },
   {
    "duration": 11,
    "start_time": "2022-07-06T14:01:52.011Z"
   },
   {
    "duration": 18,
    "start_time": "2022-07-06T14:01:52.024Z"
   },
   {
    "duration": 104,
    "start_time": "2022-07-06T14:01:52.044Z"
   },
   {
    "duration": 13,
    "start_time": "2022-07-06T14:01:52.150Z"
   },
   {
    "duration": 26,
    "start_time": "2022-07-06T14:01:52.165Z"
   },
   {
    "duration": 244,
    "start_time": "2022-07-06T14:01:52.193Z"
   },
   {
    "duration": 0,
    "start_time": "2022-07-06T14:01:52.439Z"
   },
   {
    "duration": 0,
    "start_time": "2022-07-06T14:01:52.441Z"
   },
   {
    "duration": 0,
    "start_time": "2022-07-06T14:01:52.441Z"
   },
   {
    "duration": 0,
    "start_time": "2022-07-06T14:01:52.443Z"
   },
   {
    "duration": 0,
    "start_time": "2022-07-06T14:01:52.444Z"
   },
   {
    "duration": 0,
    "start_time": "2022-07-06T14:01:52.445Z"
   },
   {
    "duration": 0,
    "start_time": "2022-07-06T14:01:52.446Z"
   },
   {
    "duration": 0,
    "start_time": "2022-07-06T14:01:52.447Z"
   },
   {
    "duration": 0,
    "start_time": "2022-07-06T14:01:52.448Z"
   },
   {
    "duration": 0,
    "start_time": "2022-07-06T14:01:52.449Z"
   },
   {
    "duration": 0,
    "start_time": "2022-07-06T14:01:52.450Z"
   },
   {
    "duration": 0,
    "start_time": "2022-07-06T14:01:52.451Z"
   },
   {
    "duration": 0,
    "start_time": "2022-07-06T14:01:52.452Z"
   },
   {
    "duration": 16,
    "start_time": "2022-07-06T14:03:35.824Z"
   },
   {
    "duration": 57,
    "start_time": "2022-07-06T14:03:40.408Z"
   },
   {
    "duration": 11,
    "start_time": "2022-07-06T14:03:40.467Z"
   },
   {
    "duration": 14,
    "start_time": "2022-07-06T14:03:40.479Z"
   },
   {
    "duration": 84,
    "start_time": "2022-07-06T14:03:40.495Z"
   },
   {
    "duration": 10,
    "start_time": "2022-07-06T14:03:40.581Z"
   },
   {
    "duration": 14,
    "start_time": "2022-07-06T14:03:40.593Z"
   },
   {
    "duration": 272,
    "start_time": "2022-07-06T14:03:40.609Z"
   },
   {
    "duration": 0,
    "start_time": "2022-07-06T14:03:40.884Z"
   },
   {
    "duration": 0,
    "start_time": "2022-07-06T14:03:40.885Z"
   },
   {
    "duration": 0,
    "start_time": "2022-07-06T14:03:40.886Z"
   },
   {
    "duration": 0,
    "start_time": "2022-07-06T14:03:40.888Z"
   },
   {
    "duration": 0,
    "start_time": "2022-07-06T14:03:40.889Z"
   },
   {
    "duration": 0,
    "start_time": "2022-07-06T14:03:40.891Z"
   },
   {
    "duration": 0,
    "start_time": "2022-07-06T14:03:40.893Z"
   },
   {
    "duration": 0,
    "start_time": "2022-07-06T14:03:40.894Z"
   },
   {
    "duration": 0,
    "start_time": "2022-07-06T14:03:40.896Z"
   },
   {
    "duration": 0,
    "start_time": "2022-07-06T14:03:40.897Z"
   },
   {
    "duration": 0,
    "start_time": "2022-07-06T14:03:40.898Z"
   },
   {
    "duration": 0,
    "start_time": "2022-07-06T14:03:40.899Z"
   },
   {
    "duration": 0,
    "start_time": "2022-07-06T14:03:40.900Z"
   },
   {
    "duration": 79,
    "start_time": "2022-07-06T14:04:41.012Z"
   },
   {
    "duration": 14,
    "start_time": "2022-07-06T14:04:41.094Z"
   },
   {
    "duration": 19,
    "start_time": "2022-07-06T14:04:41.110Z"
   },
   {
    "duration": 112,
    "start_time": "2022-07-06T14:04:41.132Z"
   },
   {
    "duration": 11,
    "start_time": "2022-07-06T14:04:41.246Z"
   },
   {
    "duration": 32,
    "start_time": "2022-07-06T14:04:41.259Z"
   },
   {
    "duration": 241,
    "start_time": "2022-07-06T14:04:41.292Z"
   },
   {
    "duration": 0,
    "start_time": "2022-07-06T14:04:41.536Z"
   },
   {
    "duration": 0,
    "start_time": "2022-07-06T14:04:41.538Z"
   },
   {
    "duration": 0,
    "start_time": "2022-07-06T14:04:41.539Z"
   },
   {
    "duration": 0,
    "start_time": "2022-07-06T14:04:41.541Z"
   },
   {
    "duration": 0,
    "start_time": "2022-07-06T14:04:41.542Z"
   },
   {
    "duration": 0,
    "start_time": "2022-07-06T14:04:41.544Z"
   },
   {
    "duration": 0,
    "start_time": "2022-07-06T14:04:41.545Z"
   },
   {
    "duration": 0,
    "start_time": "2022-07-06T14:04:41.546Z"
   },
   {
    "duration": 0,
    "start_time": "2022-07-06T14:04:41.547Z"
   },
   {
    "duration": 0,
    "start_time": "2022-07-06T14:04:41.548Z"
   },
   {
    "duration": 0,
    "start_time": "2022-07-06T14:04:41.549Z"
   },
   {
    "duration": 0,
    "start_time": "2022-07-06T14:04:41.551Z"
   },
   {
    "duration": 0,
    "start_time": "2022-07-06T14:04:41.552Z"
   },
   {
    "duration": 526,
    "start_time": "2022-07-06T14:05:44.440Z"
   },
   {
    "duration": 10,
    "start_time": "2022-07-06T14:05:44.968Z"
   },
   {
    "duration": 14,
    "start_time": "2022-07-06T14:05:44.980Z"
   },
   {
    "duration": 94,
    "start_time": "2022-07-06T14:05:44.997Z"
   },
   {
    "duration": 9,
    "start_time": "2022-07-06T14:05:45.092Z"
   },
   {
    "duration": 17,
    "start_time": "2022-07-06T14:05:45.103Z"
   },
   {
    "duration": 928,
    "start_time": "2022-07-06T14:05:45.122Z"
   },
   {
    "duration": 0,
    "start_time": "2022-07-06T14:05:46.052Z"
   },
   {
    "duration": 0,
    "start_time": "2022-07-06T14:05:46.053Z"
   },
   {
    "duration": 0,
    "start_time": "2022-07-06T14:05:46.054Z"
   },
   {
    "duration": 0,
    "start_time": "2022-07-06T14:05:46.056Z"
   },
   {
    "duration": 0,
    "start_time": "2022-07-06T14:05:46.057Z"
   },
   {
    "duration": 0,
    "start_time": "2022-07-06T14:05:46.058Z"
   },
   {
    "duration": 0,
    "start_time": "2022-07-06T14:05:46.060Z"
   },
   {
    "duration": 0,
    "start_time": "2022-07-06T14:05:46.061Z"
   },
   {
    "duration": 0,
    "start_time": "2022-07-06T14:05:46.062Z"
   },
   {
    "duration": 0,
    "start_time": "2022-07-06T14:05:46.063Z"
   },
   {
    "duration": 0,
    "start_time": "2022-07-06T14:05:46.064Z"
   },
   {
    "duration": 0,
    "start_time": "2022-07-06T14:05:46.066Z"
   },
   {
    "duration": 0,
    "start_time": "2022-07-06T14:05:46.067Z"
   },
   {
    "duration": 1149,
    "start_time": "2022-07-06T14:06:03.302Z"
   },
   {
    "duration": 12,
    "start_time": "2022-07-06T14:06:04.453Z"
   },
   {
    "duration": 12,
    "start_time": "2022-07-06T14:06:04.467Z"
   },
   {
    "duration": 83,
    "start_time": "2022-07-06T14:06:04.481Z"
   },
   {
    "duration": 13,
    "start_time": "2022-07-06T14:06:04.567Z"
   },
   {
    "duration": 20,
    "start_time": "2022-07-06T14:06:04.582Z"
   },
   {
    "duration": 1054,
    "start_time": "2022-07-06T14:06:04.604Z"
   },
   {
    "duration": 0,
    "start_time": "2022-07-06T14:06:05.660Z"
   },
   {
    "duration": 0,
    "start_time": "2022-07-06T14:06:05.662Z"
   },
   {
    "duration": 1,
    "start_time": "2022-07-06T14:06:05.663Z"
   },
   {
    "duration": 0,
    "start_time": "2022-07-06T14:06:05.665Z"
   },
   {
    "duration": 0,
    "start_time": "2022-07-06T14:06:05.666Z"
   },
   {
    "duration": 0,
    "start_time": "2022-07-06T14:06:05.667Z"
   },
   {
    "duration": 0,
    "start_time": "2022-07-06T14:06:05.668Z"
   },
   {
    "duration": 0,
    "start_time": "2022-07-06T14:06:05.669Z"
   },
   {
    "duration": 0,
    "start_time": "2022-07-06T14:06:05.670Z"
   },
   {
    "duration": 0,
    "start_time": "2022-07-06T14:06:05.671Z"
   },
   {
    "duration": 0,
    "start_time": "2022-07-06T14:06:05.672Z"
   },
   {
    "duration": 0,
    "start_time": "2022-07-06T14:06:05.673Z"
   },
   {
    "duration": 0,
    "start_time": "2022-07-06T14:06:05.675Z"
   },
   {
    "duration": 59,
    "start_time": "2022-07-06T14:06:57.968Z"
   },
   {
    "duration": 11,
    "start_time": "2022-07-06T14:06:58.030Z"
   },
   {
    "duration": 16,
    "start_time": "2022-07-06T14:06:58.043Z"
   },
   {
    "duration": 91,
    "start_time": "2022-07-06T14:06:58.061Z"
   },
   {
    "duration": 12,
    "start_time": "2022-07-06T14:06:58.154Z"
   },
   {
    "duration": 19,
    "start_time": "2022-07-06T14:06:58.168Z"
   },
   {
    "duration": 16,
    "start_time": "2022-07-06T14:07:00.185Z"
   },
   {
    "duration": 62,
    "start_time": "2022-07-06T14:07:36.447Z"
   },
   {
    "duration": 14,
    "start_time": "2022-07-06T14:07:36.511Z"
   },
   {
    "duration": 19,
    "start_time": "2022-07-06T14:07:36.526Z"
   },
   {
    "duration": 84,
    "start_time": "2022-07-06T14:07:36.549Z"
   },
   {
    "duration": 10,
    "start_time": "2022-07-06T14:07:36.634Z"
   },
   {
    "duration": 32,
    "start_time": "2022-07-06T14:07:38.411Z"
   },
   {
    "duration": 61,
    "start_time": "2022-07-06T14:08:32.155Z"
   },
   {
    "duration": 11,
    "start_time": "2022-07-06T14:08:32.218Z"
   },
   {
    "duration": 16,
    "start_time": "2022-07-06T14:08:32.230Z"
   },
   {
    "duration": 78,
    "start_time": "2022-07-06T14:08:32.249Z"
   },
   {
    "duration": 13,
    "start_time": "2022-07-06T14:08:32.329Z"
   },
   {
    "duration": 21,
    "start_time": "2022-07-06T14:08:34.812Z"
   },
   {
    "duration": 18,
    "start_time": "2022-07-06T14:08:39.032Z"
   },
   {
    "duration": 275,
    "start_time": "2022-07-06T14:08:48.486Z"
   },
   {
    "duration": 57,
    "start_time": "2022-07-06T14:08:52.008Z"
   },
   {
    "duration": 16,
    "start_time": "2022-07-06T14:08:52.068Z"
   },
   {
    "duration": 21,
    "start_time": "2022-07-06T14:08:52.086Z"
   },
   {
    "duration": 110,
    "start_time": "2022-07-06T14:08:52.110Z"
   },
   {
    "duration": 12,
    "start_time": "2022-07-06T14:08:52.222Z"
   },
   {
    "duration": 20,
    "start_time": "2022-07-06T14:08:52.236Z"
   },
   {
    "duration": 291,
    "start_time": "2022-07-06T14:08:52.259Z"
   },
   {
    "duration": 311,
    "start_time": "2022-07-06T14:08:52.552Z"
   },
   {
    "duration": 244,
    "start_time": "2022-07-06T14:08:52.864Z"
   },
   {
    "duration": 390,
    "start_time": "2022-07-06T14:08:53.111Z"
   },
   {
    "duration": 247,
    "start_time": "2022-07-06T14:08:53.503Z"
   },
   {
    "duration": 412,
    "start_time": "2022-07-06T14:08:53.752Z"
   },
   {
    "duration": 192,
    "start_time": "2022-07-06T14:08:54.166Z"
   },
   {
    "duration": 5,
    "start_time": "2022-07-06T14:08:54.360Z"
   },
   {
    "duration": 202,
    "start_time": "2022-07-06T14:08:54.367Z"
   },
   {
    "duration": 5,
    "start_time": "2022-07-06T14:08:54.572Z"
   },
   {
    "duration": 200,
    "start_time": "2022-07-06T14:08:54.579Z"
   },
   {
    "duration": 11,
    "start_time": "2022-07-06T14:08:54.781Z"
   },
   {
    "duration": 22,
    "start_time": "2022-07-06T14:08:54.794Z"
   },
   {
    "duration": 40,
    "start_time": "2022-07-06T14:08:54.819Z"
   },
   {
    "duration": 268,
    "start_time": "2022-07-06T14:11:48.951Z"
   },
   {
    "duration": 330,
    "start_time": "2022-07-06T14:13:40.610Z"
   },
   {
    "duration": 220,
    "start_time": "2022-07-06T14:14:02.607Z"
   },
   {
    "duration": 237,
    "start_time": "2022-07-06T14:14:41.474Z"
   },
   {
    "duration": 305,
    "start_time": "2022-07-06T14:15:22.792Z"
   },
   {
    "duration": 245,
    "start_time": "2022-07-06T14:15:57.494Z"
   },
   {
    "duration": 371,
    "start_time": "2022-07-06T14:16:25.641Z"
   },
   {
    "duration": 176,
    "start_time": "2022-07-06T14:17:04.769Z"
   },
   {
    "duration": 1194,
    "start_time": "2022-07-06T14:17:20.171Z"
   },
   {
    "duration": 11,
    "start_time": "2022-07-06T14:17:21.367Z"
   },
   {
    "duration": 14,
    "start_time": "2022-07-06T14:17:21.380Z"
   },
   {
    "duration": 81,
    "start_time": "2022-07-06T14:17:21.396Z"
   },
   {
    "duration": 11,
    "start_time": "2022-07-06T14:17:21.478Z"
   },
   {
    "duration": 23,
    "start_time": "2022-07-06T14:17:21.491Z"
   },
   {
    "duration": 269,
    "start_time": "2022-07-06T14:17:21.516Z"
   },
   {
    "duration": 340,
    "start_time": "2022-07-06T14:17:21.787Z"
   },
   {
    "duration": 271,
    "start_time": "2022-07-06T14:17:22.129Z"
   },
   {
    "duration": 338,
    "start_time": "2022-07-06T14:17:22.403Z"
   },
   {
    "duration": 245,
    "start_time": "2022-07-06T14:17:22.746Z"
   },
   {
    "duration": 325,
    "start_time": "2022-07-06T14:17:22.993Z"
   },
   {
    "duration": 216,
    "start_time": "2022-07-06T14:17:23.320Z"
   },
   {
    "duration": 6,
    "start_time": "2022-07-06T14:17:23.545Z"
   },
   {
    "duration": 214,
    "start_time": "2022-07-06T14:17:23.553Z"
   },
   {
    "duration": 6,
    "start_time": "2022-07-06T14:17:23.769Z"
   },
   {
    "duration": 210,
    "start_time": "2022-07-06T14:17:23.777Z"
   },
   {
    "duration": 15,
    "start_time": "2022-07-06T14:17:23.991Z"
   },
   {
    "duration": 26,
    "start_time": "2022-07-06T14:17:24.008Z"
   },
   {
    "duration": 15,
    "start_time": "2022-07-06T14:17:24.046Z"
   },
   {
    "duration": 185,
    "start_time": "2022-07-06T14:18:12.973Z"
   },
   {
    "duration": 64,
    "start_time": "2022-07-06T14:18:38.984Z"
   },
   {
    "duration": 13,
    "start_time": "2022-07-06T14:18:39.051Z"
   },
   {
    "duration": 27,
    "start_time": "2022-07-06T14:18:39.066Z"
   },
   {
    "duration": 88,
    "start_time": "2022-07-06T14:18:39.096Z"
   },
   {
    "duration": 12,
    "start_time": "2022-07-06T14:18:39.186Z"
   },
   {
    "duration": 21,
    "start_time": "2022-07-06T14:18:39.200Z"
   },
   {
    "duration": 288,
    "start_time": "2022-07-06T14:18:39.224Z"
   },
   {
    "duration": 253,
    "start_time": "2022-07-06T14:18:39.514Z"
   },
   {
    "duration": 331,
    "start_time": "2022-07-06T14:18:39.769Z"
   },
   {
    "duration": 332,
    "start_time": "2022-07-06T14:18:40.103Z"
   },
   {
    "duration": 268,
    "start_time": "2022-07-06T14:18:40.438Z"
   },
   {
    "duration": 362,
    "start_time": "2022-07-06T14:18:40.708Z"
   },
   {
    "duration": 191,
    "start_time": "2022-07-06T14:18:41.071Z"
   },
   {
    "duration": 5,
    "start_time": "2022-07-06T14:18:41.264Z"
   },
   {
    "duration": 180,
    "start_time": "2022-07-06T14:18:41.271Z"
   },
   {
    "duration": 5,
    "start_time": "2022-07-06T14:18:41.453Z"
   },
   {
    "duration": 195,
    "start_time": "2022-07-06T14:18:41.459Z"
   },
   {
    "duration": 13,
    "start_time": "2022-07-06T14:18:41.657Z"
   },
   {
    "duration": 22,
    "start_time": "2022-07-06T14:18:41.673Z"
   },
   {
    "duration": 13,
    "start_time": "2022-07-06T14:18:41.696Z"
   },
   {
    "duration": 180,
    "start_time": "2022-07-06T14:22:01.585Z"
   },
   {
    "duration": 52,
    "start_time": "2022-07-06T14:22:44.031Z"
   },
   {
    "duration": 11,
    "start_time": "2022-07-06T14:22:44.085Z"
   },
   {
    "duration": 21,
    "start_time": "2022-07-06T14:22:44.099Z"
   },
   {
    "duration": 81,
    "start_time": "2022-07-06T14:22:44.123Z"
   },
   {
    "duration": 9,
    "start_time": "2022-07-06T14:22:44.205Z"
   },
   {
    "duration": 18,
    "start_time": "2022-07-06T14:22:44.216Z"
   },
   {
    "duration": 258,
    "start_time": "2022-07-06T14:22:44.236Z"
   },
   {
    "duration": 249,
    "start_time": "2022-07-06T14:22:44.496Z"
   },
   {
    "duration": 235,
    "start_time": "2022-07-06T14:22:44.747Z"
   },
   {
    "duration": 321,
    "start_time": "2022-07-06T14:22:44.985Z"
   },
   {
    "duration": 290,
    "start_time": "2022-07-06T14:22:45.308Z"
   },
   {
    "duration": 450,
    "start_time": "2022-07-06T14:22:45.600Z"
   },
   {
    "duration": 200,
    "start_time": "2022-07-06T14:22:46.052Z"
   },
   {
    "duration": 5,
    "start_time": "2022-07-06T14:22:46.253Z"
   },
   {
    "duration": 180,
    "start_time": "2022-07-06T14:22:46.260Z"
   },
   {
    "duration": 5,
    "start_time": "2022-07-06T14:22:46.445Z"
   },
   {
    "duration": 199,
    "start_time": "2022-07-06T14:22:46.452Z"
   },
   {
    "duration": 10,
    "start_time": "2022-07-06T14:22:46.653Z"
   },
   {
    "duration": 20,
    "start_time": "2022-07-06T14:22:46.664Z"
   },
   {
    "duration": 15,
    "start_time": "2022-07-06T14:22:46.686Z"
   },
   {
    "duration": 103,
    "start_time": "2022-07-06T14:24:40.248Z"
   },
   {
    "duration": 173,
    "start_time": "2022-07-06T14:24:49.328Z"
   },
   {
    "duration": 54,
    "start_time": "2022-07-06T14:24:57.893Z"
   },
   {
    "duration": 10,
    "start_time": "2022-07-06T14:24:57.949Z"
   },
   {
    "duration": 13,
    "start_time": "2022-07-06T14:24:57.961Z"
   },
   {
    "duration": 114,
    "start_time": "2022-07-06T14:24:57.975Z"
   },
   {
    "duration": 10,
    "start_time": "2022-07-06T14:24:58.091Z"
   },
   {
    "duration": 14,
    "start_time": "2022-07-06T14:24:58.103Z"
   },
   {
    "duration": 257,
    "start_time": "2022-07-06T14:24:58.118Z"
   },
   {
    "duration": 233,
    "start_time": "2022-07-06T14:24:58.377Z"
   },
   {
    "duration": 238,
    "start_time": "2022-07-06T14:24:58.612Z"
   },
   {
    "duration": 370,
    "start_time": "2022-07-06T14:24:58.854Z"
   },
   {
    "duration": 239,
    "start_time": "2022-07-06T14:24:59.226Z"
   },
   {
    "duration": 321,
    "start_time": "2022-07-06T14:24:59.467Z"
   },
   {
    "duration": 172,
    "start_time": "2022-07-06T14:24:59.790Z"
   },
   {
    "duration": 4,
    "start_time": "2022-07-06T14:24:59.964Z"
   },
   {
    "duration": 172,
    "start_time": "2022-07-06T14:24:59.969Z"
   },
   {
    "duration": 4,
    "start_time": "2022-07-06T14:25:00.145Z"
   },
   {
    "duration": 300,
    "start_time": "2022-07-06T14:25:00.150Z"
   },
   {
    "duration": 11,
    "start_time": "2022-07-06T14:25:00.452Z"
   },
   {
    "duration": 39,
    "start_time": "2022-07-06T14:25:00.465Z"
   },
   {
    "duration": 13,
    "start_time": "2022-07-06T14:25:00.506Z"
   },
   {
    "duration": 180,
    "start_time": "2022-07-06T14:25:10.125Z"
   },
   {
    "duration": 196,
    "start_time": "2022-07-06T14:26:16.247Z"
   },
   {
    "duration": 186,
    "start_time": "2022-07-06T14:28:37.414Z"
   },
   {
    "duration": 164,
    "start_time": "2022-07-06T14:30:20.789Z"
   },
   {
    "duration": 27,
    "start_time": "2022-07-06T14:30:47.808Z"
   },
   {
    "duration": 184,
    "start_time": "2022-07-06T14:33:08.698Z"
   },
   {
    "duration": 166,
    "start_time": "2022-07-06T14:33:15.963Z"
   },
   {
    "duration": 192,
    "start_time": "2022-07-06T14:33:34.777Z"
   },
   {
    "duration": 177,
    "start_time": "2022-07-06T14:34:55.110Z"
   },
   {
    "duration": 217,
    "start_time": "2022-07-06T14:35:04.597Z"
   },
   {
    "duration": 199,
    "start_time": "2022-07-06T14:35:12.486Z"
   },
   {
    "duration": 210,
    "start_time": "2022-07-06T14:35:18.517Z"
   },
   {
    "duration": 53,
    "start_time": "2022-07-06T14:35:54.465Z"
   },
   {
    "duration": 11,
    "start_time": "2022-07-06T14:35:54.519Z"
   },
   {
    "duration": 16,
    "start_time": "2022-07-06T14:35:54.531Z"
   },
   {
    "duration": 82,
    "start_time": "2022-07-06T14:35:54.548Z"
   },
   {
    "duration": 9,
    "start_time": "2022-07-06T14:35:54.632Z"
   },
   {
    "duration": 15,
    "start_time": "2022-07-06T14:35:54.642Z"
   },
   {
    "duration": 259,
    "start_time": "2022-07-06T14:35:54.658Z"
   },
   {
    "duration": 243,
    "start_time": "2022-07-06T14:35:54.919Z"
   },
   {
    "duration": 335,
    "start_time": "2022-07-06T14:35:55.164Z"
   },
   {
    "duration": 332,
    "start_time": "2022-07-06T14:35:55.503Z"
   },
   {
    "duration": 239,
    "start_time": "2022-07-06T14:35:55.837Z"
   },
   {
    "duration": 325,
    "start_time": "2022-07-06T14:35:56.077Z"
   },
   {
    "duration": 192,
    "start_time": "2022-07-06T14:35:56.404Z"
   },
   {
    "duration": 6,
    "start_time": "2022-07-06T14:35:56.598Z"
   },
   {
    "duration": 230,
    "start_time": "2022-07-06T14:35:56.606Z"
   },
   {
    "duration": 7,
    "start_time": "2022-07-06T14:35:56.838Z"
   },
   {
    "duration": 161,
    "start_time": "2022-07-06T14:35:56.847Z"
   },
   {
    "duration": 11,
    "start_time": "2022-07-06T14:35:57.010Z"
   },
   {
    "duration": 35,
    "start_time": "2022-07-06T14:35:57.022Z"
   },
   {
    "duration": 13,
    "start_time": "2022-07-06T14:35:57.058Z"
   },
   {
    "duration": 58,
    "start_time": "2022-07-06T14:48:32.617Z"
   },
   {
    "duration": 12,
    "start_time": "2022-07-06T14:48:32.677Z"
   },
   {
    "duration": 18,
    "start_time": "2022-07-06T14:48:32.691Z"
   },
   {
    "duration": 97,
    "start_time": "2022-07-06T14:48:32.711Z"
   },
   {
    "duration": 10,
    "start_time": "2022-07-06T14:48:32.810Z"
   },
   {
    "duration": 14,
    "start_time": "2022-07-06T14:48:32.822Z"
   },
   {
    "duration": 252,
    "start_time": "2022-07-06T14:48:32.837Z"
   },
   {
    "duration": 250,
    "start_time": "2022-07-06T14:48:33.091Z"
   },
   {
    "duration": 252,
    "start_time": "2022-07-06T14:48:33.345Z"
   },
   {
    "duration": 360,
    "start_time": "2022-07-06T14:48:33.599Z"
   },
   {
    "duration": 245,
    "start_time": "2022-07-06T14:48:33.961Z"
   },
   {
    "duration": 363,
    "start_time": "2022-07-06T14:48:34.208Z"
   },
   {
    "duration": 286,
    "start_time": "2022-07-06T14:48:34.573Z"
   },
   {
    "duration": 4,
    "start_time": "2022-07-06T14:48:34.861Z"
   },
   {
    "duration": 214,
    "start_time": "2022-07-06T14:48:34.867Z"
   },
   {
    "duration": 4,
    "start_time": "2022-07-06T14:48:35.083Z"
   },
   {
    "duration": 176,
    "start_time": "2022-07-06T14:48:35.089Z"
   },
   {
    "duration": 10,
    "start_time": "2022-07-06T14:48:35.267Z"
   },
   {
    "duration": 20,
    "start_time": "2022-07-06T14:48:35.279Z"
   },
   {
    "duration": 19,
    "start_time": "2022-07-06T14:48:35.301Z"
   },
   {
    "duration": 54,
    "start_time": "2022-07-06T14:54:15.274Z"
   },
   {
    "duration": 62,
    "start_time": "2022-07-06T14:56:58.986Z"
   },
   {
    "duration": 42,
    "start_time": "2022-07-06T14:57:17.165Z"
   },
   {
    "duration": 17,
    "start_time": "2022-07-06T14:57:40.912Z"
   },
   {
    "duration": 37,
    "start_time": "2022-07-06T15:00:40.029Z"
   },
   {
    "duration": 79,
    "start_time": "2022-07-06T15:00:49.321Z"
   },
   {
    "duration": 10,
    "start_time": "2022-07-06T15:00:49.402Z"
   },
   {
    "duration": 45,
    "start_time": "2022-07-06T15:00:49.414Z"
   },
   {
    "duration": 114,
    "start_time": "2022-07-06T15:00:49.460Z"
   },
   {
    "duration": 9,
    "start_time": "2022-07-06T15:00:49.576Z"
   },
   {
    "duration": 20,
    "start_time": "2022-07-06T15:00:49.587Z"
   },
   {
    "duration": 297,
    "start_time": "2022-07-06T15:00:49.608Z"
   },
   {
    "duration": 267,
    "start_time": "2022-07-06T15:00:49.907Z"
   },
   {
    "duration": 274,
    "start_time": "2022-07-06T15:00:50.177Z"
   },
   {
    "duration": 343,
    "start_time": "2022-07-06T15:00:50.461Z"
   },
   {
    "duration": 262,
    "start_time": "2022-07-06T15:00:50.806Z"
   },
   {
    "duration": 408,
    "start_time": "2022-07-06T15:00:51.069Z"
   },
   {
    "duration": 250,
    "start_time": "2022-07-06T15:00:51.480Z"
   },
   {
    "duration": 17,
    "start_time": "2022-07-06T15:00:51.732Z"
   },
   {
    "duration": 321,
    "start_time": "2022-07-06T15:00:51.756Z"
   },
   {
    "duration": 5,
    "start_time": "2022-07-06T15:00:52.079Z"
   },
   {
    "duration": 203,
    "start_time": "2022-07-06T15:00:52.086Z"
   },
   {
    "duration": 10,
    "start_time": "2022-07-06T15:00:52.290Z"
   },
   {
    "duration": 17,
    "start_time": "2022-07-06T15:00:52.302Z"
   },
   {
    "duration": 0,
    "start_time": "2022-07-06T15:00:52.320Z"
   },
   {
    "duration": 40,
    "start_time": "2022-07-06T15:01:29.238Z"
   },
   {
    "duration": 15,
    "start_time": "2022-07-06T15:03:32.861Z"
   },
   {
    "duration": 66,
    "start_time": "2022-07-06T15:05:33.437Z"
   },
   {
    "duration": 11,
    "start_time": "2022-07-06T15:05:33.505Z"
   },
   {
    "duration": 20,
    "start_time": "2022-07-06T15:05:33.518Z"
   },
   {
    "duration": 110,
    "start_time": "2022-07-06T15:05:33.541Z"
   },
   {
    "duration": 10,
    "start_time": "2022-07-06T15:05:33.652Z"
   },
   {
    "duration": 23,
    "start_time": "2022-07-06T15:05:33.664Z"
   },
   {
    "duration": 288,
    "start_time": "2022-07-06T15:05:33.689Z"
   },
   {
    "duration": 255,
    "start_time": "2022-07-06T15:05:33.980Z"
   },
   {
    "duration": 242,
    "start_time": "2022-07-06T15:05:34.237Z"
   },
   {
    "duration": 331,
    "start_time": "2022-07-06T15:05:34.482Z"
   },
   {
    "duration": 248,
    "start_time": "2022-07-06T15:05:34.814Z"
   },
   {
    "duration": 333,
    "start_time": "2022-07-06T15:05:35.064Z"
   },
   {
    "duration": 203,
    "start_time": "2022-07-06T15:05:35.399Z"
   },
   {
    "duration": 5,
    "start_time": "2022-07-06T15:05:35.606Z"
   },
   {
    "duration": 214,
    "start_time": "2022-07-06T15:05:35.613Z"
   },
   {
    "duration": 5,
    "start_time": "2022-07-06T15:05:35.828Z"
   },
   {
    "duration": 177,
    "start_time": "2022-07-06T15:05:35.847Z"
   },
   {
    "duration": 20,
    "start_time": "2022-07-06T15:05:36.026Z"
   },
   {
    "duration": 35,
    "start_time": "2022-07-06T15:05:36.048Z"
   },
   {
    "duration": 15,
    "start_time": "2022-07-06T15:05:36.085Z"
   },
   {
    "duration": 1242,
    "start_time": "2022-07-06T15:12:32.658Z"
   },
   {
    "duration": 13,
    "start_time": "2022-07-06T15:12:33.902Z"
   },
   {
    "duration": 13,
    "start_time": "2022-07-06T15:12:33.916Z"
   },
   {
    "duration": 124,
    "start_time": "2022-07-06T15:12:33.932Z"
   },
   {
    "duration": 9,
    "start_time": "2022-07-06T15:12:34.057Z"
   },
   {
    "duration": 29,
    "start_time": "2022-07-06T15:12:34.068Z"
   },
   {
    "duration": 274,
    "start_time": "2022-07-06T15:12:34.098Z"
   },
   {
    "duration": 329,
    "start_time": "2022-07-06T15:12:34.374Z"
   },
   {
    "duration": 258,
    "start_time": "2022-07-06T15:12:34.705Z"
   },
   {
    "duration": 350,
    "start_time": "2022-07-06T15:12:34.966Z"
   },
   {
    "duration": 265,
    "start_time": "2022-07-06T15:12:35.318Z"
   },
   {
    "duration": 321,
    "start_time": "2022-07-06T15:12:35.584Z"
   },
   {
    "duration": 186,
    "start_time": "2022-07-06T15:12:35.907Z"
   },
   {
    "duration": 102,
    "start_time": "2022-07-06T15:12:36.094Z"
   },
   {
    "duration": 0,
    "start_time": "2022-07-06T15:12:36.198Z"
   },
   {
    "duration": 0,
    "start_time": "2022-07-06T15:12:36.199Z"
   },
   {
    "duration": 0,
    "start_time": "2022-07-06T15:12:36.200Z"
   },
   {
    "duration": 0,
    "start_time": "2022-07-06T15:12:36.201Z"
   },
   {
    "duration": 0,
    "start_time": "2022-07-06T15:12:36.202Z"
   },
   {
    "duration": 0,
    "start_time": "2022-07-06T15:12:36.203Z"
   },
   {
    "duration": 1417,
    "start_time": "2022-07-07T06:27:25.282Z"
   },
   {
    "duration": 13,
    "start_time": "2022-07-07T06:27:26.701Z"
   },
   {
    "duration": 27,
    "start_time": "2022-07-07T06:27:26.716Z"
   },
   {
    "duration": 214,
    "start_time": "2022-07-07T06:27:26.749Z"
   },
   {
    "duration": 9,
    "start_time": "2022-07-07T06:27:26.964Z"
   },
   {
    "duration": 13,
    "start_time": "2022-07-07T06:27:26.974Z"
   },
   {
    "duration": 245,
    "start_time": "2022-07-07T06:27:26.988Z"
   },
   {
    "duration": 294,
    "start_time": "2022-07-07T06:27:27.235Z"
   },
   {
    "duration": 223,
    "start_time": "2022-07-07T06:27:27.531Z"
   },
   {
    "duration": 394,
    "start_time": "2022-07-07T06:27:27.757Z"
   },
   {
    "duration": 244,
    "start_time": "2022-07-07T06:27:28.153Z"
   },
   {
    "duration": 363,
    "start_time": "2022-07-07T06:27:28.399Z"
   },
   {
    "duration": 191,
    "start_time": "2022-07-07T06:27:28.764Z"
   },
   {
    "duration": 102,
    "start_time": "2022-07-07T06:27:28.956Z"
   },
   {
    "duration": 0,
    "start_time": "2022-07-07T06:27:29.059Z"
   },
   {
    "duration": 0,
    "start_time": "2022-07-07T06:27:29.061Z"
   },
   {
    "duration": 0,
    "start_time": "2022-07-07T06:27:29.061Z"
   },
   {
    "duration": 0,
    "start_time": "2022-07-07T06:27:29.063Z"
   },
   {
    "duration": 0,
    "start_time": "2022-07-07T06:27:29.064Z"
   },
   {
    "duration": 0,
    "start_time": "2022-07-07T06:27:29.065Z"
   },
   {
    "duration": 5,
    "start_time": "2022-07-07T06:31:38.929Z"
   },
   {
    "duration": 86,
    "start_time": "2022-07-07T06:31:50.172Z"
   },
   {
    "duration": 10,
    "start_time": "2022-07-07T06:31:50.260Z"
   },
   {
    "duration": 19,
    "start_time": "2022-07-07T06:31:50.272Z"
   },
   {
    "duration": 136,
    "start_time": "2022-07-07T06:31:50.294Z"
   },
   {
    "duration": 10,
    "start_time": "2022-07-07T06:31:50.431Z"
   },
   {
    "duration": 40,
    "start_time": "2022-07-07T06:31:50.443Z"
   },
   {
    "duration": 260,
    "start_time": "2022-07-07T06:31:50.485Z"
   },
   {
    "duration": 280,
    "start_time": "2022-07-07T06:31:50.747Z"
   },
   {
    "duration": 324,
    "start_time": "2022-07-07T06:31:51.029Z"
   },
   {
    "duration": 306,
    "start_time": "2022-07-07T06:31:51.356Z"
   },
   {
    "duration": 231,
    "start_time": "2022-07-07T06:31:51.664Z"
   },
   {
    "duration": 371,
    "start_time": "2022-07-07T06:31:51.904Z"
   },
   {
    "duration": 202,
    "start_time": "2022-07-07T06:31:52.277Z"
   },
   {
    "duration": 7,
    "start_time": "2022-07-07T06:31:52.481Z"
   },
   {
    "duration": 244,
    "start_time": "2022-07-07T06:31:52.490Z"
   },
   {
    "duration": 6,
    "start_time": "2022-07-07T06:31:52.737Z"
   },
   {
    "duration": 239,
    "start_time": "2022-07-07T06:31:52.745Z"
   },
   {
    "duration": 20,
    "start_time": "2022-07-07T06:31:52.986Z"
   },
   {
    "duration": 44,
    "start_time": "2022-07-07T06:31:53.008Z"
   },
   {
    "duration": 12,
    "start_time": "2022-07-07T06:31:53.053Z"
   },
   {
    "duration": 1416,
    "start_time": "2022-07-08T03:44:25.053Z"
   },
   {
    "duration": 12,
    "start_time": "2022-07-08T03:44:26.471Z"
   },
   {
    "duration": 10,
    "start_time": "2022-07-08T03:44:26.484Z"
   },
   {
    "duration": 204,
    "start_time": "2022-07-08T03:44:26.496Z"
   },
   {
    "duration": 9,
    "start_time": "2022-07-08T03:44:26.703Z"
   },
   {
    "duration": 19,
    "start_time": "2022-07-08T03:44:26.713Z"
   },
   {
    "duration": 276,
    "start_time": "2022-07-08T03:44:26.734Z"
   },
   {
    "duration": 402,
    "start_time": "2022-07-08T03:44:27.012Z"
   },
   {
    "duration": 316,
    "start_time": "2022-07-08T03:44:27.418Z"
   },
   {
    "duration": 367,
    "start_time": "2022-07-08T03:44:27.740Z"
   },
   {
    "duration": 259,
    "start_time": "2022-07-08T03:44:28.109Z"
   },
   {
    "duration": 331,
    "start_time": "2022-07-08T03:44:28.369Z"
   },
   {
    "duration": 198,
    "start_time": "2022-07-08T03:44:28.701Z"
   },
   {
    "duration": 5,
    "start_time": "2022-07-08T03:44:28.901Z"
   },
   {
    "duration": 245,
    "start_time": "2022-07-08T03:44:28.908Z"
   },
   {
    "duration": 6,
    "start_time": "2022-07-08T03:44:29.156Z"
   },
   {
    "duration": 173,
    "start_time": "2022-07-08T03:44:29.164Z"
   },
   {
    "duration": 16,
    "start_time": "2022-07-08T03:44:29.339Z"
   },
   {
    "duration": 31,
    "start_time": "2022-07-08T03:44:29.357Z"
   },
   {
    "duration": 11,
    "start_time": "2022-07-08T03:44:29.390Z"
   },
   {
    "duration": 11,
    "start_time": "2022-07-08T03:54:54.655Z"
   },
   {
    "duration": 1172,
    "start_time": "2022-07-08T03:55:04.912Z"
   },
   {
    "duration": 11,
    "start_time": "2022-07-08T03:55:06.086Z"
   },
   {
    "duration": 11,
    "start_time": "2022-07-08T03:55:06.098Z"
   },
   {
    "duration": 105,
    "start_time": "2022-07-08T03:55:06.111Z"
   },
   {
    "duration": 14,
    "start_time": "2022-07-08T03:55:06.217Z"
   },
   {
    "duration": 19,
    "start_time": "2022-07-08T03:55:06.234Z"
   },
   {
    "duration": 10,
    "start_time": "2022-07-08T03:55:06.255Z"
   },
   {
    "duration": 251,
    "start_time": "2022-07-08T03:55:06.267Z"
   },
   {
    "duration": 328,
    "start_time": "2022-07-08T03:55:06.527Z"
   },
   {
    "duration": 232,
    "start_time": "2022-07-08T03:55:06.857Z"
   },
   {
    "duration": 437,
    "start_time": "2022-07-08T03:55:07.092Z"
   },
   {
    "duration": 238,
    "start_time": "2022-07-08T03:55:07.531Z"
   },
   {
    "duration": 316,
    "start_time": "2022-07-08T03:55:07.771Z"
   },
   {
    "duration": 197,
    "start_time": "2022-07-08T03:55:08.089Z"
   },
   {
    "duration": 4,
    "start_time": "2022-07-08T03:55:08.288Z"
   },
   {
    "duration": 228,
    "start_time": "2022-07-08T03:55:08.294Z"
   },
   {
    "duration": 9,
    "start_time": "2022-07-08T03:55:08.524Z"
   },
   {
    "duration": 169,
    "start_time": "2022-07-08T03:55:08.535Z"
   },
   {
    "duration": 27,
    "start_time": "2022-07-08T03:55:08.706Z"
   },
   {
    "duration": 46,
    "start_time": "2022-07-08T03:55:08.737Z"
   },
   {
    "duration": 15,
    "start_time": "2022-07-08T03:55:08.784Z"
   },
   {
    "duration": 13,
    "start_time": "2022-07-08T03:56:44.220Z"
   },
   {
    "duration": 109,
    "start_time": "2022-07-08T03:57:13.562Z"
   },
   {
    "duration": 11,
    "start_time": "2022-07-08T03:57:26.209Z"
   },
   {
    "duration": 15,
    "start_time": "2022-07-08T03:57:42.171Z"
   },
   {
    "duration": 14,
    "start_time": "2022-07-08T03:57:47.697Z"
   },
   {
    "duration": 16,
    "start_time": "2022-07-08T03:58:41.939Z"
   },
   {
    "duration": 1239,
    "start_time": "2022-07-08T03:58:47.361Z"
   },
   {
    "duration": 14,
    "start_time": "2022-07-08T03:58:48.602Z"
   },
   {
    "duration": 15,
    "start_time": "2022-07-08T03:58:48.618Z"
   },
   {
    "duration": 108,
    "start_time": "2022-07-08T03:58:48.637Z"
   },
   {
    "duration": 9,
    "start_time": "2022-07-08T03:58:48.747Z"
   },
   {
    "duration": 23,
    "start_time": "2022-07-08T03:58:48.758Z"
   },
   {
    "duration": 12,
    "start_time": "2022-07-08T03:58:48.783Z"
   },
   {
    "duration": 50,
    "start_time": "2022-07-08T03:58:48.797Z"
   },
   {
    "duration": 255,
    "start_time": "2022-07-08T03:58:48.850Z"
   },
   {
    "duration": 342,
    "start_time": "2022-07-08T03:58:49.109Z"
   },
   {
    "duration": 278,
    "start_time": "2022-07-08T03:58:49.454Z"
   },
   {
    "duration": 356,
    "start_time": "2022-07-08T03:58:49.734Z"
   },
   {
    "duration": 278,
    "start_time": "2022-07-08T03:58:50.092Z"
   },
   {
    "duration": 475,
    "start_time": "2022-07-08T03:58:50.373Z"
   },
   {
    "duration": 187,
    "start_time": "2022-07-08T03:58:50.851Z"
   },
   {
    "duration": 5,
    "start_time": "2022-07-08T03:58:51.040Z"
   },
   {
    "duration": 220,
    "start_time": "2022-07-08T03:58:51.047Z"
   },
   {
    "duration": 5,
    "start_time": "2022-07-08T03:58:51.269Z"
   },
   {
    "duration": 303,
    "start_time": "2022-07-08T03:58:51.276Z"
   },
   {
    "duration": 12,
    "start_time": "2022-07-08T03:58:51.581Z"
   },
   {
    "duration": 68,
    "start_time": "2022-07-08T03:58:51.595Z"
   },
   {
    "duration": 19,
    "start_time": "2022-07-08T03:58:51.665Z"
   },
   {
    "duration": 25,
    "start_time": "2022-07-08T04:02:57.233Z"
   },
   {
    "duration": 1215,
    "start_time": "2022-07-08T04:03:01.698Z"
   },
   {
    "duration": 23,
    "start_time": "2022-07-08T04:03:02.914Z"
   },
   {
    "duration": 18,
    "start_time": "2022-07-08T04:03:02.938Z"
   },
   {
    "duration": 110,
    "start_time": "2022-07-08T04:03:02.958Z"
   },
   {
    "duration": 9,
    "start_time": "2022-07-08T04:03:03.069Z"
   },
   {
    "duration": 17,
    "start_time": "2022-07-08T04:03:03.080Z"
   },
   {
    "duration": 11,
    "start_time": "2022-07-08T04:03:03.098Z"
   },
   {
    "duration": 12,
    "start_time": "2022-07-08T04:03:03.124Z"
   },
   {
    "duration": 259,
    "start_time": "2022-07-08T04:03:03.139Z"
   },
   {
    "duration": 344,
    "start_time": "2022-07-08T04:03:03.400Z"
   },
   {
    "duration": 256,
    "start_time": "2022-07-08T04:03:03.745Z"
   },
   {
    "duration": 414,
    "start_time": "2022-07-08T04:03:04.002Z"
   },
   {
    "duration": 279,
    "start_time": "2022-07-08T04:03:04.418Z"
   },
   {
    "duration": 377,
    "start_time": "2022-07-08T04:03:04.698Z"
   },
   {
    "duration": 192,
    "start_time": "2022-07-08T04:03:05.076Z"
   },
   {
    "duration": 6,
    "start_time": "2022-07-08T04:03:05.269Z"
   },
   {
    "duration": 222,
    "start_time": "2022-07-08T04:03:05.276Z"
   },
   {
    "duration": 5,
    "start_time": "2022-07-08T04:03:05.500Z"
   },
   {
    "duration": 177,
    "start_time": "2022-07-08T04:03:05.508Z"
   },
   {
    "duration": 11,
    "start_time": "2022-07-08T04:03:05.687Z"
   },
   {
    "duration": 60,
    "start_time": "2022-07-08T04:03:05.700Z"
   },
   {
    "duration": 18,
    "start_time": "2022-07-08T04:03:05.762Z"
   },
   {
    "duration": 1210,
    "start_time": "2022-07-08T04:03:20.358Z"
   },
   {
    "duration": 16,
    "start_time": "2022-07-08T04:03:21.570Z"
   },
   {
    "duration": 15,
    "start_time": "2022-07-08T04:03:21.588Z"
   },
   {
    "duration": 106,
    "start_time": "2022-07-08T04:03:21.605Z"
   },
   {
    "duration": 17,
    "start_time": "2022-07-08T04:03:21.713Z"
   },
   {
    "duration": 27,
    "start_time": "2022-07-08T04:03:21.732Z"
   },
   {
    "duration": 12,
    "start_time": "2022-07-08T04:03:21.761Z"
   },
   {
    "duration": 9,
    "start_time": "2022-07-08T04:03:21.775Z"
   },
   {
    "duration": 269,
    "start_time": "2022-07-08T04:03:21.786Z"
   },
   {
    "duration": 343,
    "start_time": "2022-07-08T04:03:22.058Z"
   },
   {
    "duration": 248,
    "start_time": "2022-07-08T04:03:22.403Z"
   },
   {
    "duration": 324,
    "start_time": "2022-07-08T04:03:22.653Z"
   },
   {
    "duration": 236,
    "start_time": "2022-07-08T04:03:22.979Z"
   },
   {
    "duration": 344,
    "start_time": "2022-07-08T04:03:23.217Z"
   },
   {
    "duration": 193,
    "start_time": "2022-07-08T04:03:23.562Z"
   },
   {
    "duration": 5,
    "start_time": "2022-07-08T04:03:23.757Z"
   },
   {
    "duration": 218,
    "start_time": "2022-07-08T04:03:23.764Z"
   },
   {
    "duration": 4,
    "start_time": "2022-07-08T04:03:23.984Z"
   },
   {
    "duration": 202,
    "start_time": "2022-07-08T04:03:23.990Z"
   },
   {
    "duration": 13,
    "start_time": "2022-07-08T04:03:24.194Z"
   },
   {
    "duration": 56,
    "start_time": "2022-07-08T04:03:24.209Z"
   },
   {
    "duration": 15,
    "start_time": "2022-07-08T04:03:24.266Z"
   },
   {
    "duration": 1216,
    "start_time": "2022-07-08T04:16:35.187Z"
   },
   {
    "duration": 13,
    "start_time": "2022-07-08T04:16:36.405Z"
   },
   {
    "duration": 23,
    "start_time": "2022-07-08T04:16:36.420Z"
   },
   {
    "duration": 100,
    "start_time": "2022-07-08T04:16:36.445Z"
   },
   {
    "duration": 9,
    "start_time": "2022-07-08T04:16:36.548Z"
   },
   {
    "duration": 16,
    "start_time": "2022-07-08T04:16:36.558Z"
   },
   {
    "duration": 291,
    "start_time": "2022-07-08T04:16:36.576Z"
   },
   {
    "duration": 345,
    "start_time": "2022-07-08T04:16:36.869Z"
   },
   {
    "duration": 337,
    "start_time": "2022-07-08T04:16:37.217Z"
   },
   {
    "duration": 363,
    "start_time": "2022-07-08T04:16:37.556Z"
   },
   {
    "duration": 292,
    "start_time": "2022-07-08T04:16:37.920Z"
   },
   {
    "duration": 371,
    "start_time": "2022-07-08T04:16:38.214Z"
   },
   {
    "duration": 203,
    "start_time": "2022-07-08T04:16:38.587Z"
   },
   {
    "duration": 5,
    "start_time": "2022-07-08T04:16:38.792Z"
   },
   {
    "duration": 249,
    "start_time": "2022-07-08T04:16:38.799Z"
   },
   {
    "duration": 5,
    "start_time": "2022-07-08T04:16:39.050Z"
   },
   {
    "duration": 178,
    "start_time": "2022-07-08T04:16:39.057Z"
   },
   {
    "duration": 9,
    "start_time": "2022-07-08T04:16:39.241Z"
   },
   {
    "duration": 31,
    "start_time": "2022-07-08T04:16:39.252Z"
   },
   {
    "duration": 40,
    "start_time": "2022-07-08T04:16:39.285Z"
   }
  ],
  "kernelspec": {
   "display_name": "Python 3 (ipykernel)",
   "language": "python",
   "name": "python3"
  },
  "language_info": {
   "codemirror_mode": {
    "name": "ipython",
    "version": 3
   },
   "file_extension": ".py",
   "mimetype": "text/x-python",
   "name": "python",
   "nbconvert_exporter": "python",
   "pygments_lexer": "ipython3",
   "version": "3.9.12"
  },
  "toc": {
   "base_numbering": 1,
   "nav_menu": {
    "height": "397px",
    "width": "208px"
   },
   "number_sections": true,
   "sideBar": true,
   "skip_h1_title": true,
   "title_cell": "Table of Contents",
   "title_sidebar": "Contents",
   "toc_cell": false,
   "toc_position": {},
   "toc_section_display": true,
   "toc_window_display": false
  }
 },
 "nbformat": 4,
 "nbformat_minor": 5
}
